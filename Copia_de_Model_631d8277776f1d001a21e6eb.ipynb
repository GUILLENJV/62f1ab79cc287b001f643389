{
  "cells": [
    {
      "cell_type": "markdown",
      "metadata": {
        "id": "view-in-github",
        "colab_type": "text"
      },
      "source": [
        "<a href=\"https://colab.research.google.com/github/GUILLENJV/62f1ab79cc287b001f643389/blob/master/Copia_de_Model_631d8277776f1d001a21e6eb.ipynb\" target=\"_parent\"><img src=\"https://colab.research.google.com/assets/colab-badge.svg\" alt=\"Open In Colab\"/></a>"
      ]
    },
    {
      "cell_type": "code",
      "execution_count": null,
      "metadata": {
        "id": "T_RKpy4whR5f"
      },
      "outputs": [],
      "source": [
        "#learned embedding encoding for a neural network\n",
        "from numpy import unique\n",
        "import numpy\n",
        "from numpy import array\n",
        "import pandas as pd\n",
        "import datetime \n",
        "from time import sleep\n",
        "from tqdm import tqdm\n",
        "import os\n",
        "from pandas import read_csv\n",
        "import json\n",
        "import tensorflow as tf\n",
        "from tensorflow import keras\n",
        "from keras.utils import np_utils\n",
        "import requests\n",
        "import numpy as np\n",
        "from sklearn.model_selection import train_test_split\n",
        "from sklearn.preprocessing import LabelEncoder\n",
        "from sklearn.preprocessing import OneHotEncoder\n",
        "from sklearn.preprocessing import OrdinalEncoder\n",
        "from tensorflow.keras.layers import BatchNormalization\n",
        "from keras.regularizers import l1\n",
        "from keras.regularizers import l2\n",
        "from tensorflow.keras.layers import Dense, Dropout, Flatten\n",
        "from tensorflow.keras.callbacks import EarlyStopping\n",
        "from keras.utils.vis_utils import plot_model\n",
        "from keras.models import Sequential\n",
        "from keras.layers import Dense\n",
        "from tensorflow.keras import regularizers\n",
        "from matplotlib import pyplot\n",
        "import matplotlib.pyplot as plt\n",
        "import seaborn as sns\n",
        "#from predict import model \n",
        "from sklearn import preprocessing\n",
        "from collections import defaultdict\n",
        "from sklearn.preprocessing import StandardScaler\n",
        "from sklearn.neural_network import MLPClassifier\n",
        "from sklearn.metrics import classification_report\n",
        "from sklearn.metrics import confusion_matrix\n",
        "from sklearn.metrics import ConfusionMatrixDisplay\n",
        "from matplotlib import pyplot as plt"
      ]
    },
    {
      "cell_type": "code",
      "execution_count": null,
      "metadata": {
        "id": "V8PQOTills5S"
      },
      "outputs": [],
      "source": [
        "# carga los datos\n",
        "df = pd.read_csv('631d8277776f1d001a21e6eb.csv') "
      ]
    },
    {
      "cell_type": "code",
      "execution_count": null,
      "metadata": {
        "colab": {
          "base_uri": "https://localhost:8080/"
        },
        "id": "_hbIK-LFRFPX",
        "outputId": "80026e1c-05df-456c-b7a2-26f386178d2b"
      },
      "outputs": [
        {
          "output_type": "execute_result",
          "data": {
            "text/plain": [
              "631d72ff99ba21001a8503fa    2631\n",
              "631d779999ba21001a850416    2628\n",
              "62566aa432b19a0164d802be    2619\n",
              "Name: landing_page_id, dtype: int64"
            ]
          },
          "metadata": {},
          "execution_count": 3
        }
      ],
      "source": [
        "df[\"landing_page_id\"].value_counts()"
      ]
    },
    {
      "cell_type": "code",
      "execution_count": null,
      "metadata": {
        "colab": {
          "base_uri": "https://localhost:8080/",
          "height": 300
        },
        "id": "9jp8L3ComC5l",
        "outputId": "b121284f-479b-4cf5-ab5b-b796d7817cca"
      },
      "outputs": [
        {
          "output_type": "execute_result",
          "data": {
            "text/plain": [
              "     landing_pages_group_id               campaign_id  \\\n",
              "0  631d8277776f1d001a21e6eb  625b9f51e8a8b61071e8585d   \n",
              "1  631d8277776f1d001a21e6eb  625221af89418f743d9e21a8   \n",
              "2  631d8277776f1d001a21e6eb  625221af89418f743d9e21a8   \n",
              "3  631d8277776f1d001a21e6eb  626da13a732b314391fd5bea   \n",
              "4  631d8277776f1d001a21e6eb  625221af89418f743d9e21a8   \n",
              "\n",
              "            landing_page_id         traffic_source_id visitor_device_browser  \\\n",
              "0  62566aa432b19a0164d802be  58939c5eeb1b39e23f2044bb          Chrome Mobile   \n",
              "1  631d72ff99ba21001a8503fa  57ac89e0a38746122f4af882       Edge for Android   \n",
              "2  62566aa432b19a0164d802be  57ac89e0a38746122f4af882          Chrome Mobile   \n",
              "3  62566aa432b19a0164d802be  57dfdf25d6bed1662f3cfcaa          Chrome Mobile   \n",
              "4  631d72ff99ba21001a8503fa  57ac89e0a38746122f4af882          Chrome Mobile   \n",
              "\n",
              "  visitor_device_hardware_family visitor_device_hardware_model  \\\n",
              "0                     Edge 5G UW                    Edge 5G UW   \n",
              "1                     Edge 5G UW                    Edge 5G UW   \n",
              "2                     Edge 5G UW                    Edge 5G UW   \n",
              "3                     Edge 5G UW                    Edge 5G UW   \n",
              "4                     Edge 5G UW                    Edge 5G UW   \n",
              "\n",
              "  visitor_device_hardware_vendor visitor_device_os_family  \\\n",
              "0                       Motorola                  Android   \n",
              "1                       Motorola                  Android   \n",
              "2                       Motorola                  Android   \n",
              "3                       Motorola                  Android   \n",
              "4                       Motorola                  Android   \n",
              "\n",
              "  visitor_device_os_vendor  ... visitor_geo_location_connection_type  \\\n",
              "0                   Google  ...                            Cable/DSL   \n",
              "1                   Google  ...                            Cable/DSL   \n",
              "2                   Google  ...                            Cable/DSL   \n",
              "3                   Google  ...                            Cable/DSL   \n",
              "4                   Google  ...                             Cellular   \n",
              "\n",
              "  visitor_geo_location_countryCode visitor_geo_location_isp  \\\n",
              "0                               US            Comcast Cable   \n",
              "1                               US              CenturyLink   \n",
              "2                               US            Comcast Cable   \n",
              "3                               US  Frontier Communications   \n",
              "4                               US         Verizon Wireless   \n",
              "\n",
              "  visitor_geo_location_regionName           visitor_tokens_adh  \\\n",
              "0                        Illinois  regcovershocostsolarandbatt   \n",
              "1                         Florida     regwillcoverowninzipcode   \n",
              "2                        Illinois  regcovershocostsolarandbatt   \n",
              "3                         Florida                 regwillcover   \n",
              "4                         Florida     regwillcoverowninzipcode   \n",
              "\n",
              "  visitor_tokens_cadid visitor_tokens_adi visitor_tokens_add converted_yes  \\\n",
              "0            dNFHyOXph           tsbatout                NaN           1.0   \n",
              "1            jHGFI03o9        blondejudge                NaN           1.0   \n",
              "2           cUD8Oj5njr       solarpergola                NaN           1.0   \n",
              "3           fPy1_gh8Tt       manroofsolar                NaN           1.0   \n",
              "4            jHGFI03o9        blondejudge                NaN           1.0   \n",
              "\n",
              "  converted_no  \n",
              "0          0.0  \n",
              "1          0.0  \n",
              "2          0.0  \n",
              "3          0.0  \n",
              "4          0.0  \n",
              "\n",
              "[5 rows x 23 columns]"
            ],
            "text/html": [
              "\n",
              "  <div id=\"df-9124be11-98ce-42cf-a82d-81f34bdc2a48\">\n",
              "    <div class=\"colab-df-container\">\n",
              "      <div>\n",
              "<style scoped>\n",
              "    .dataframe tbody tr th:only-of-type {\n",
              "        vertical-align: middle;\n",
              "    }\n",
              "\n",
              "    .dataframe tbody tr th {\n",
              "        vertical-align: top;\n",
              "    }\n",
              "\n",
              "    .dataframe thead th {\n",
              "        text-align: right;\n",
              "    }\n",
              "</style>\n",
              "<table border=\"1\" class=\"dataframe\">\n",
              "  <thead>\n",
              "    <tr style=\"text-align: right;\">\n",
              "      <th></th>\n",
              "      <th>landing_pages_group_id</th>\n",
              "      <th>campaign_id</th>\n",
              "      <th>landing_page_id</th>\n",
              "      <th>traffic_source_id</th>\n",
              "      <th>visitor_device_browser</th>\n",
              "      <th>visitor_device_hardware_family</th>\n",
              "      <th>visitor_device_hardware_model</th>\n",
              "      <th>visitor_device_hardware_vendor</th>\n",
              "      <th>visitor_device_os_family</th>\n",
              "      <th>visitor_device_os_vendor</th>\n",
              "      <th>...</th>\n",
              "      <th>visitor_geo_location_connection_type</th>\n",
              "      <th>visitor_geo_location_countryCode</th>\n",
              "      <th>visitor_geo_location_isp</th>\n",
              "      <th>visitor_geo_location_regionName</th>\n",
              "      <th>visitor_tokens_adh</th>\n",
              "      <th>visitor_tokens_cadid</th>\n",
              "      <th>visitor_tokens_adi</th>\n",
              "      <th>visitor_tokens_add</th>\n",
              "      <th>converted_yes</th>\n",
              "      <th>converted_no</th>\n",
              "    </tr>\n",
              "  </thead>\n",
              "  <tbody>\n",
              "    <tr>\n",
              "      <th>0</th>\n",
              "      <td>631d8277776f1d001a21e6eb</td>\n",
              "      <td>625b9f51e8a8b61071e8585d</td>\n",
              "      <td>62566aa432b19a0164d802be</td>\n",
              "      <td>58939c5eeb1b39e23f2044bb</td>\n",
              "      <td>Chrome Mobile</td>\n",
              "      <td>Edge 5G UW</td>\n",
              "      <td>Edge 5G UW</td>\n",
              "      <td>Motorola</td>\n",
              "      <td>Android</td>\n",
              "      <td>Google</td>\n",
              "      <td>...</td>\n",
              "      <td>Cable/DSL</td>\n",
              "      <td>US</td>\n",
              "      <td>Comcast Cable</td>\n",
              "      <td>Illinois</td>\n",
              "      <td>regcovershocostsolarandbatt</td>\n",
              "      <td>dNFHyOXph</td>\n",
              "      <td>tsbatout</td>\n",
              "      <td>NaN</td>\n",
              "      <td>1.0</td>\n",
              "      <td>0.0</td>\n",
              "    </tr>\n",
              "    <tr>\n",
              "      <th>1</th>\n",
              "      <td>631d8277776f1d001a21e6eb</td>\n",
              "      <td>625221af89418f743d9e21a8</td>\n",
              "      <td>631d72ff99ba21001a8503fa</td>\n",
              "      <td>57ac89e0a38746122f4af882</td>\n",
              "      <td>Edge for Android</td>\n",
              "      <td>Edge 5G UW</td>\n",
              "      <td>Edge 5G UW</td>\n",
              "      <td>Motorola</td>\n",
              "      <td>Android</td>\n",
              "      <td>Google</td>\n",
              "      <td>...</td>\n",
              "      <td>Cable/DSL</td>\n",
              "      <td>US</td>\n",
              "      <td>CenturyLink</td>\n",
              "      <td>Florida</td>\n",
              "      <td>regwillcoverowninzipcode</td>\n",
              "      <td>jHGFI03o9</td>\n",
              "      <td>blondejudge</td>\n",
              "      <td>NaN</td>\n",
              "      <td>1.0</td>\n",
              "      <td>0.0</td>\n",
              "    </tr>\n",
              "    <tr>\n",
              "      <th>2</th>\n",
              "      <td>631d8277776f1d001a21e6eb</td>\n",
              "      <td>625221af89418f743d9e21a8</td>\n",
              "      <td>62566aa432b19a0164d802be</td>\n",
              "      <td>57ac89e0a38746122f4af882</td>\n",
              "      <td>Chrome Mobile</td>\n",
              "      <td>Edge 5G UW</td>\n",
              "      <td>Edge 5G UW</td>\n",
              "      <td>Motorola</td>\n",
              "      <td>Android</td>\n",
              "      <td>Google</td>\n",
              "      <td>...</td>\n",
              "      <td>Cable/DSL</td>\n",
              "      <td>US</td>\n",
              "      <td>Comcast Cable</td>\n",
              "      <td>Illinois</td>\n",
              "      <td>regcovershocostsolarandbatt</td>\n",
              "      <td>cUD8Oj5njr</td>\n",
              "      <td>solarpergola</td>\n",
              "      <td>NaN</td>\n",
              "      <td>1.0</td>\n",
              "      <td>0.0</td>\n",
              "    </tr>\n",
              "    <tr>\n",
              "      <th>3</th>\n",
              "      <td>631d8277776f1d001a21e6eb</td>\n",
              "      <td>626da13a732b314391fd5bea</td>\n",
              "      <td>62566aa432b19a0164d802be</td>\n",
              "      <td>57dfdf25d6bed1662f3cfcaa</td>\n",
              "      <td>Chrome Mobile</td>\n",
              "      <td>Edge 5G UW</td>\n",
              "      <td>Edge 5G UW</td>\n",
              "      <td>Motorola</td>\n",
              "      <td>Android</td>\n",
              "      <td>Google</td>\n",
              "      <td>...</td>\n",
              "      <td>Cable/DSL</td>\n",
              "      <td>US</td>\n",
              "      <td>Frontier Communications</td>\n",
              "      <td>Florida</td>\n",
              "      <td>regwillcover</td>\n",
              "      <td>fPy1_gh8Tt</td>\n",
              "      <td>manroofsolar</td>\n",
              "      <td>NaN</td>\n",
              "      <td>1.0</td>\n",
              "      <td>0.0</td>\n",
              "    </tr>\n",
              "    <tr>\n",
              "      <th>4</th>\n",
              "      <td>631d8277776f1d001a21e6eb</td>\n",
              "      <td>625221af89418f743d9e21a8</td>\n",
              "      <td>631d72ff99ba21001a8503fa</td>\n",
              "      <td>57ac89e0a38746122f4af882</td>\n",
              "      <td>Chrome Mobile</td>\n",
              "      <td>Edge 5G UW</td>\n",
              "      <td>Edge 5G UW</td>\n",
              "      <td>Motorola</td>\n",
              "      <td>Android</td>\n",
              "      <td>Google</td>\n",
              "      <td>...</td>\n",
              "      <td>Cellular</td>\n",
              "      <td>US</td>\n",
              "      <td>Verizon Wireless</td>\n",
              "      <td>Florida</td>\n",
              "      <td>regwillcoverowninzipcode</td>\n",
              "      <td>jHGFI03o9</td>\n",
              "      <td>blondejudge</td>\n",
              "      <td>NaN</td>\n",
              "      <td>1.0</td>\n",
              "      <td>0.0</td>\n",
              "    </tr>\n",
              "  </tbody>\n",
              "</table>\n",
              "<p>5 rows × 23 columns</p>\n",
              "</div>\n",
              "      <button class=\"colab-df-convert\" onclick=\"convertToInteractive('df-9124be11-98ce-42cf-a82d-81f34bdc2a48')\"\n",
              "              title=\"Convert this dataframe to an interactive table.\"\n",
              "              style=\"display:none;\">\n",
              "        \n",
              "  <svg xmlns=\"http://www.w3.org/2000/svg\" height=\"24px\"viewBox=\"0 0 24 24\"\n",
              "       width=\"24px\">\n",
              "    <path d=\"M0 0h24v24H0V0z\" fill=\"none\"/>\n",
              "    <path d=\"M18.56 5.44l.94 2.06.94-2.06 2.06-.94-2.06-.94-.94-2.06-.94 2.06-2.06.94zm-11 1L8.5 8.5l.94-2.06 2.06-.94-2.06-.94L8.5 2.5l-.94 2.06-2.06.94zm10 10l.94 2.06.94-2.06 2.06-.94-2.06-.94-.94-2.06-.94 2.06-2.06.94z\"/><path d=\"M17.41 7.96l-1.37-1.37c-.4-.4-.92-.59-1.43-.59-.52 0-1.04.2-1.43.59L10.3 9.45l-7.72 7.72c-.78.78-.78 2.05 0 2.83L4 21.41c.39.39.9.59 1.41.59.51 0 1.02-.2 1.41-.59l7.78-7.78 2.81-2.81c.8-.78.8-2.07 0-2.86zM5.41 20L4 18.59l7.72-7.72 1.47 1.35L5.41 20z\"/>\n",
              "  </svg>\n",
              "      </button>\n",
              "      \n",
              "  <style>\n",
              "    .colab-df-container {\n",
              "      display:flex;\n",
              "      flex-wrap:wrap;\n",
              "      gap: 12px;\n",
              "    }\n",
              "\n",
              "    .colab-df-convert {\n",
              "      background-color: #E8F0FE;\n",
              "      border: none;\n",
              "      border-radius: 50%;\n",
              "      cursor: pointer;\n",
              "      display: none;\n",
              "      fill: #1967D2;\n",
              "      height: 32px;\n",
              "      padding: 0 0 0 0;\n",
              "      width: 32px;\n",
              "    }\n",
              "\n",
              "    .colab-df-convert:hover {\n",
              "      background-color: #E2EBFA;\n",
              "      box-shadow: 0px 1px 2px rgba(60, 64, 67, 0.3), 0px 1px 3px 1px rgba(60, 64, 67, 0.15);\n",
              "      fill: #174EA6;\n",
              "    }\n",
              "\n",
              "    [theme=dark] .colab-df-convert {\n",
              "      background-color: #3B4455;\n",
              "      fill: #D2E3FC;\n",
              "    }\n",
              "\n",
              "    [theme=dark] .colab-df-convert:hover {\n",
              "      background-color: #434B5C;\n",
              "      box-shadow: 0px 1px 3px 1px rgba(0, 0, 0, 0.15);\n",
              "      filter: drop-shadow(0px 1px 2px rgba(0, 0, 0, 0.3));\n",
              "      fill: #FFFFFF;\n",
              "    }\n",
              "  </style>\n",
              "\n",
              "      <script>\n",
              "        const buttonEl =\n",
              "          document.querySelector('#df-9124be11-98ce-42cf-a82d-81f34bdc2a48 button.colab-df-convert');\n",
              "        buttonEl.style.display =\n",
              "          google.colab.kernel.accessAllowed ? 'block' : 'none';\n",
              "\n",
              "        async function convertToInteractive(key) {\n",
              "          const element = document.querySelector('#df-9124be11-98ce-42cf-a82d-81f34bdc2a48');\n",
              "          const dataTable =\n",
              "            await google.colab.kernel.invokeFunction('convertToInteractive',\n",
              "                                                     [key], {});\n",
              "          if (!dataTable) return;\n",
              "\n",
              "          const docLinkHtml = 'Like what you see? Visit the ' +\n",
              "            '<a target=\"_blank\" href=https://colab.research.google.com/notebooks/data_table.ipynb>data table notebook</a>'\n",
              "            + ' to learn more about interactive tables.';\n",
              "          element.innerHTML = '';\n",
              "          dataTable['output_type'] = 'display_data';\n",
              "          await google.colab.output.renderOutput(dataTable, element);\n",
              "          const docLink = document.createElement('div');\n",
              "          docLink.innerHTML = docLinkHtml;\n",
              "          element.appendChild(docLink);\n",
              "        }\n",
              "      </script>\n",
              "    </div>\n",
              "  </div>\n",
              "  "
            ]
          },
          "metadata": {},
          "execution_count": 4
        }
      ],
      "source": [
        "df.head()"
      ]
    },
    {
      "cell_type": "code",
      "execution_count": null,
      "metadata": {
        "colab": {
          "base_uri": "https://localhost:8080/"
        },
        "id": "a43tmczGUaf4",
        "outputId": "1775d03e-0ecb-41c2-a429-b1e26183f346"
      },
      "outputs": [
        {
          "output_type": "execute_result",
          "data": {
            "text/plain": [
              "landing_pages_group_id                   object\n",
              "campaign_id                              object\n",
              "landing_page_id                          object\n",
              "traffic_source_id                        object\n",
              "visitor_device_browser                   object\n",
              "visitor_device_hardware_family           object\n",
              "visitor_device_hardware_model            object\n",
              "visitor_device_hardware_vendor           object\n",
              "visitor_device_os_family                 object\n",
              "visitor_device_os_vendor                 object\n",
              "visitor_device_os_version                object\n",
              "visitor_device_type                      object\n",
              "visitor_geo_location_cityName            object\n",
              "visitor_geo_location_connection_type     object\n",
              "visitor_geo_location_countryCode         object\n",
              "visitor_geo_location_isp                 object\n",
              "visitor_geo_location_regionName          object\n",
              "visitor_tokens_adh                       object\n",
              "visitor_tokens_cadid                     object\n",
              "visitor_tokens_adi                       object\n",
              "visitor_tokens_add                       object\n",
              "converted_yes                           float64\n",
              "converted_no                            float64\n",
              "dtype: object"
            ]
          },
          "metadata": {},
          "execution_count": 5
        }
      ],
      "source": [
        "df.dtypes"
      ]
    },
    {
      "cell_type": "code",
      "execution_count": null,
      "metadata": {
        "id": "AJKtQrTeFzz9"
      },
      "outputs": [],
      "source": [
        "df[\"visitor_device_hardware_family\"] = df[\"visitor_device_hardware_family\"].apply(str)\n",
        "df[\"visitor_device_hardware_model\"] = df[\"visitor_device_hardware_model\"].apply(str)\n",
        "df[\"visitor_device_os_version\"] = df[\"visitor_device_os_version\"].apply(str)\n",
        "df[\"visitor_device_hardware_family\"] = df[\"visitor_device_hardware_family\"].apply(str)\n",
        "df[\"visitor_device_hardware_model\"] = df[\"visitor_device_hardware_model\"].apply(str)\n",
        "df[\"visitor_device_os_version\"] = df[\"visitor_device_os_version\"].apply(str)\n",
        "df[\"visitor_tokens_adh\"] = df[\"visitor_tokens_adh\"].apply(str)\n",
        "df[\"visitor_tokens_cadid\"] = df[\"visitor_tokens_cadid\"].apply(str)\n",
        "df[\"converted_yes\"] = df[\"converted_yes\"].apply(str)\n",
        "df[\"converted_no\"] = df[\"converted_no\"].apply(str)"
      ]
    },
    {
      "cell_type": "code",
      "execution_count": null,
      "metadata": {
        "id": "y0zD2rWY87BV"
      },
      "outputs": [],
      "source": [
        "#!pip install sweetviz"
      ]
    },
    {
      "cell_type": "code",
      "execution_count": null,
      "metadata": {
        "id": "uFml64CP9BGh"
      },
      "outputs": [],
      "source": [
        "#import sweetviz as sv"
      ]
    },
    {
      "cell_type": "code",
      "execution_count": null,
      "metadata": {
        "id": "VDJGuIX89EGM"
      },
      "outputs": [],
      "source": [
        "# Generar el reporte\n",
        "#sweet_report = sv.analyze(df)"
      ]
    },
    {
      "cell_type": "code",
      "execution_count": null,
      "metadata": {
        "id": "TQRE6MF89L4R"
      },
      "outputs": [],
      "source": [
        "# Se muestra la salida\n",
        "#sweet_report.show_notebook()"
      ]
    },
    {
      "cell_type": "code",
      "execution_count": null,
      "metadata": {
        "colab": {
          "base_uri": "https://localhost:8080/"
        },
        "id": "fbiWv_lfHobR",
        "outputId": "ea9b92a8-e97e-472d-ec4e-ce1f8d34d8b5"
      },
      "outputs": [
        {
          "output_type": "execute_result",
          "data": {
            "text/plain": [
              "landing_pages_group_id                     0\n",
              "visitor_tokens_cadid                       0\n",
              "visitor_tokens_adh                         0\n",
              "converted_yes                              0\n",
              "visitor_device_os_version                  0\n",
              "visitor_device_hardware_model              0\n",
              "converted_no                               0\n",
              "visitor_device_hardware_family             0\n",
              "visitor_device_hardware_vendor           105\n",
              "visitor_device_os_family                 105\n",
              "visitor_device_os_vendor                 105\n",
              "visitor_device_browser                   105\n",
              "traffic_source_id                        105\n",
              "landing_page_id                          105\n",
              "campaign_id                              105\n",
              "visitor_device_type                      105\n",
              "visitor_geo_location_countryCode         107\n",
              "visitor_geo_location_regionName          107\n",
              "visitor_tokens_adi                       111\n",
              "visitor_geo_location_isp                 166\n",
              "visitor_geo_location_connection_type     169\n",
              "visitor_geo_location_cityName            330\n",
              "visitor_tokens_add                      7975\n",
              "dtype: int64"
            ]
          },
          "metadata": {},
          "execution_count": 11
        }
      ],
      "source": [
        "df.isna().sum().sort_values()"
      ]
    },
    {
      "cell_type": "code",
      "execution_count": null,
      "metadata": {
        "colab": {
          "base_uri": "https://localhost:8080/"
        },
        "id": "tdsNpuBiHoTN",
        "outputId": "b75332ee-88aa-448a-9526-5da80589a9e8"
      },
      "outputs": [
        {
          "output_type": "execute_result",
          "data": {
            "text/plain": [
              "(7983, 23)"
            ]
          },
          "metadata": {},
          "execution_count": 12
        }
      ],
      "source": [
        "df.shape"
      ]
    },
    {
      "cell_type": "code",
      "execution_count": null,
      "metadata": {
        "id": "Oqgl8stx-Htu"
      },
      "outputs": [],
      "source": [
        "df = df.drop(['landing_pages_group_id','visitor_tokens_add'], axis=1)"
      ]
    },
    {
      "cell_type": "code",
      "execution_count": null,
      "metadata": {
        "id": "t6kx6QeV-lK8"
      },
      "outputs": [],
      "source": [
        "df = df.drop_duplicates()"
      ]
    },
    {
      "cell_type": "code",
      "execution_count": null,
      "metadata": {
        "colab": {
          "base_uri": "https://localhost:8080/"
        },
        "id": "90e4B00u-o6N",
        "outputId": "bc38165a-87bf-4aaa-d02c-33a99fb73b64"
      },
      "outputs": [
        {
          "output_type": "execute_result",
          "data": {
            "text/plain": [
              "converted_no                              0\n",
              "visitor_tokens_cadid                      0\n",
              "visitor_tokens_adh                        0\n",
              "converted_yes                             0\n",
              "visitor_device_hardware_family            0\n",
              "visitor_device_hardware_model             0\n",
              "visitor_device_os_version                 0\n",
              "visitor_device_os_vendor                  1\n",
              "campaign_id                               1\n",
              "visitor_device_hardware_vendor            1\n",
              "visitor_device_browser                    1\n",
              "traffic_source_id                         1\n",
              "landing_page_id                           1\n",
              "visitor_device_os_family                  1\n",
              "visitor_device_type                       1\n",
              "visitor_geo_location_countryCode          3\n",
              "visitor_geo_location_regionName           3\n",
              "visitor_tokens_adi                        5\n",
              "visitor_geo_location_isp                 59\n",
              "visitor_geo_location_connection_type     62\n",
              "visitor_geo_location_cityName           222\n",
              "dtype: int64"
            ]
          },
          "metadata": {},
          "execution_count": 15
        }
      ],
      "source": [
        "df.isna().sum().sort_values()"
      ]
    },
    {
      "cell_type": "code",
      "execution_count": null,
      "metadata": {
        "id": "SnN5E_zP-vl1"
      },
      "outputs": [],
      "source": [
        "# Imputamos la variable \n",
        "df['visitor_device_os_vendor'].fillna(df['visitor_device_os_vendor'].mode()[0], inplace=True)\n",
        "df['campaign_id'].fillna(df['campaign_id'].mode()[0], inplace=True)\n",
        "df['visitor_device_hardware_vendor'].fillna(df['visitor_device_hardware_vendor'].mode()[0], inplace=True)\n",
        "df['visitor_device_browser'].fillna(df['visitor_device_browser'].mode()[0], inplace=True)\n",
        "df['traffic_source_id'].fillna(df['traffic_source_id'].mode()[0], inplace=True)\n",
        "df['landing_page_id'].fillna(df['landing_page_id'].mode()[0], inplace=True)\n",
        "df['visitor_device_os_family'].fillna(df['visitor_device_os_family'].mode()[0], inplace=True)\n",
        "df['visitor_device_type'].fillna(df['visitor_device_type'].mode()[0], inplace=True)\n",
        "df['visitor_geo_location_countryCode'].fillna(df['visitor_geo_location_countryCode'].mode()[0], inplace=True)\n",
        "df['visitor_geo_location_regionName'].fillna(df['visitor_geo_location_regionName'].mode()[0], inplace=True)\n",
        "df['visitor_tokens_adi'].fillna(df['visitor_tokens_adi'].mode()[0], inplace=True)\n",
        "df['visitor_geo_location_isp'].fillna(df['visitor_geo_location_isp'].mode()[0], inplace=True)\n",
        "df['visitor_geo_location_connection_type'].fillna(df['visitor_geo_location_connection_type'].mode()[0], inplace=True)\n",
        "df['visitor_geo_location_cityName'].fillna(df['visitor_geo_location_cityName'].mode()[0], inplace=True)"
      ]
    },
    {
      "cell_type": "code",
      "execution_count": null,
      "metadata": {
        "colab": {
          "base_uri": "https://localhost:8080/"
        },
        "id": "dKHWxTeQAQGm",
        "outputId": "37ffe632-156e-47a2-94e6-a3457cd0f74f"
      },
      "outputs": [
        {
          "output_type": "execute_result",
          "data": {
            "text/plain": [
              "(7738, 21)"
            ]
          },
          "metadata": {},
          "execution_count": 17
        }
      ],
      "source": [
        "df.shape"
      ]
    },
    {
      "cell_type": "code",
      "execution_count": null,
      "metadata": {
        "colab": {
          "base_uri": "https://localhost:8080/"
        },
        "id": "4a-cwd74Al92",
        "outputId": "04c3715f-3429-439e-b7b0-5c1c36531b25"
      },
      "outputs": [
        {
          "output_type": "execute_result",
          "data": {
            "text/plain": [
              "campaign_id                             0\n",
              "visitor_tokens_adi                      0\n",
              "visitor_tokens_cadid                    0\n",
              "visitor_tokens_adh                      0\n",
              "visitor_geo_location_regionName         0\n",
              "visitor_geo_location_isp                0\n",
              "visitor_geo_location_countryCode        0\n",
              "visitor_geo_location_connection_type    0\n",
              "visitor_geo_location_cityName           0\n",
              "converted_yes                           0\n",
              "visitor_device_type                     0\n",
              "visitor_device_os_vendor                0\n",
              "visitor_device_os_family                0\n",
              "visitor_device_hardware_vendor          0\n",
              "visitor_device_hardware_model           0\n",
              "visitor_device_hardware_family          0\n",
              "visitor_device_browser                  0\n",
              "traffic_source_id                       0\n",
              "landing_page_id                         0\n",
              "visitor_device_os_version               0\n",
              "converted_no                            0\n",
              "dtype: int64"
            ]
          },
          "metadata": {},
          "execution_count": 18
        }
      ],
      "source": [
        "df.isna().sum().sort_values()"
      ]
    },
    {
      "cell_type": "code",
      "execution_count": null,
      "metadata": {
        "colab": {
          "base_uri": "https://localhost:8080/"
        },
        "id": "caDEzLtDAw5b",
        "outputId": "d66ca26a-0b2f-4047-9523-d3c63b134812"
      },
      "outputs": [
        {
          "output_type": "execute_result",
          "data": {
            "text/plain": [
              "Index(['campaign_id', 'landing_page_id', 'traffic_source_id',\n",
              "       'visitor_device_browser', 'visitor_device_hardware_family',\n",
              "       'visitor_device_hardware_model', 'visitor_device_hardware_vendor',\n",
              "       'visitor_device_os_family', 'visitor_device_os_vendor',\n",
              "       'visitor_device_os_version', 'visitor_device_type',\n",
              "       'visitor_geo_location_cityName', 'visitor_geo_location_connection_type',\n",
              "       'visitor_geo_location_countryCode', 'visitor_geo_location_isp',\n",
              "       'visitor_geo_location_regionName', 'visitor_tokens_adh',\n",
              "       'visitor_tokens_cadid', 'visitor_tokens_adi', 'converted_yes',\n",
              "       'converted_no'],\n",
              "      dtype='object')"
            ]
          },
          "metadata": {},
          "execution_count": 19
        }
      ],
      "source": [
        "df.columns"
      ]
    },
    {
      "cell_type": "code",
      "execution_count": null,
      "metadata": {
        "id": "-7YP24hjAzG6"
      },
      "outputs": [],
      "source": [
        "X = df[['campaign_id', 'traffic_source_id',\n",
        "       'visitor_device_browser', 'visitor_device_hardware_family',\n",
        "       'visitor_device_hardware_model', 'visitor_device_hardware_vendor',\n",
        "       'visitor_device_os_family', 'visitor_device_os_vendor',\n",
        "       'visitor_device_os_version', 'visitor_device_type',\n",
        "       'visitor_geo_location_cityName', 'visitor_geo_location_connection_type',\n",
        "       'visitor_geo_location_countryCode', 'visitor_geo_location_isp',\n",
        "       'visitor_geo_location_regionName', 'visitor_tokens_adh',\n",
        "       'visitor_tokens_cadid', 'visitor_tokens_adi', 'converted_yes',\n",
        "       'converted_no']]"
      ]
    },
    {
      "cell_type": "code",
      "execution_count": null,
      "metadata": {
        "id": "CBFyRWFvA7kF"
      },
      "outputs": [],
      "source": [
        "X = X.astype(str).to_numpy()"
      ]
    },
    {
      "cell_type": "code",
      "execution_count": null,
      "metadata": {
        "id": "dzjwZEbGAzOZ"
      },
      "outputs": [],
      "source": [
        "y = df[[\"landing_page_id\"]].to_numpy()"
      ]
    },
    {
      "cell_type": "code",
      "execution_count": null,
      "metadata": {
        "colab": {
          "base_uri": "https://localhost:8080/"
        },
        "id": "6xXt-zogA-dk",
        "outputId": "767b8ebc-7b5d-46e8-cfcb-f13a26fd9569"
      },
      "outputs": [
        {
          "output_type": "stream",
          "name": "stdout",
          "text": [
            "X shape: :  (7738, 20)\n"
          ]
        }
      ],
      "source": [
        "# encode string input values as integers\n",
        "encoded_x = None\n",
        "for i in range(0, X.shape[1]):\n",
        "    label_encoder = LabelEncoder()\n",
        "    feature = label_encoder.fit_transform(X[:,i])\n",
        "    feature = feature.reshape(X.shape[0], 1)\n",
        "    onehot_encoder = OrdinalEncoder()\n",
        "    feature = onehot_encoder.fit_transform(feature)\n",
        "    if encoded_x is None:\n",
        "        encoded_x = feature\n",
        "    else:\n",
        "        encoded_x = numpy.concatenate((encoded_x, feature), axis=1)\n",
        "print(\"X shape: : \", encoded_x.shape)\n"
      ]
    },
    {
      "cell_type": "code",
      "execution_count": null,
      "metadata": {
        "colab": {
          "base_uri": "https://localhost:8080/"
        },
        "id": "GE_WkiJPA-gK",
        "outputId": "1b376758-f129-4bc7-ba88-62b437ee98ba"
      },
      "outputs": [
        {
          "output_type": "execute_result",
          "data": {
            "text/plain": [
              "array([[12.,  2.,  4., ..., 19.,  1.,  0.],\n",
              "       [10.,  0., 12., ...,  0.,  1.,  0.],\n",
              "       [10.,  0.,  4., ..., 11.,  1.,  0.],\n",
              "       ...,\n",
              "       [10.,  0., 34., ...,  0.,  1.,  0.],\n",
              "       [10.,  0.,  4., ..., 11.,  1.,  0.],\n",
              "       [28.,  2.,  4., ..., 19.,  1.,  0.]])"
            ]
          },
          "metadata": {},
          "execution_count": 24
        }
      ],
      "source": [
        "encoded_x"
      ]
    },
    {
      "cell_type": "code",
      "execution_count": null,
      "metadata": {
        "colab": {
          "base_uri": "https://localhost:8080/"
        },
        "id": "sbTc56B2A-ik",
        "outputId": "48885542-4bc0-46be-9404-8863891cfdc6"
      },
      "outputs": [
        {
          "output_type": "stream",
          "name": "stderr",
          "text": [
            "/usr/local/lib/python3.7/dist-packages/sklearn/preprocessing/_label.py:98: DataConversionWarning: A column-vector y was passed when a 1d array was expected. Please change the shape of y to (n_samples, ), for example using ravel().\n",
            "  y = column_or_1d(y, warn=True)\n",
            "/usr/local/lib/python3.7/dist-packages/sklearn/preprocessing/_label.py:133: DataConversionWarning: A column-vector y was passed when a 1d array was expected. Please change the shape of y to (n_samples, ), for example using ravel().\n",
            "  y = column_or_1d(y, warn=True)\n"
          ]
        }
      ],
      "source": [
        "# encode string class values as integers\n",
        "label_encoder = LabelEncoder()\n",
        "label_encoder = label_encoder.fit(y)\n",
        "label_encoded_y = label_encoder.transform(y)\n",
        "# convert integers to dummy variables (i.e. one hot encoded)\n",
        "dummy_y = np_utils.to_categorical(label_encoded_y)"
      ]
    },
    {
      "cell_type": "code",
      "source": [
        "label_encoded_y"
      ],
      "metadata": {
        "colab": {
          "base_uri": "https://localhost:8080/"
        },
        "id": "IGjvfbs_eJKR",
        "outputId": "1fc66e30-d3fb-46d0-e8a3-9e5aa1b58b3a"
      },
      "execution_count": null,
      "outputs": [
        {
          "output_type": "execute_result",
          "data": {
            "text/plain": [
              "array([0, 1, 0, ..., 2, 0, 1])"
            ]
          },
          "metadata": {},
          "execution_count": 26
        }
      ]
    },
    {
      "cell_type": "code",
      "execution_count": null,
      "metadata": {
        "colab": {
          "base_uri": "https://localhost:8080/"
        },
        "id": "YnXC68vwYZew",
        "outputId": "097593ae-2112-424f-e4cc-2f537a9aa46b"
      },
      "outputs": [
        {
          "output_type": "execute_result",
          "data": {
            "text/plain": [
              "array([[1., 0., 0.],\n",
              "       [0., 1., 0.],\n",
              "       [1., 0., 0.],\n",
              "       ...,\n",
              "       [0., 0., 1.],\n",
              "       [1., 0., 0.],\n",
              "       [0., 1., 0.]], dtype=float32)"
            ]
          },
          "metadata": {},
          "execution_count": 27
        }
      ],
      "source": [
        "dummy_y"
      ]
    },
    {
      "cell_type": "code",
      "source": [
        "#df_encoded_x = pd.DataFrame(encoded_x)\n",
        "#df_encoded_x.to_csv('encode-data-training.csv')\n"
      ],
      "metadata": {
        "id": "LETFrfN9eRey"
      },
      "execution_count": null,
      "outputs": []
    },
    {
      "cell_type": "code",
      "source": [
        "#df_encoded_y = pd.DataFrame(dummy_y)\n",
        "#df_encoded_y.to_csv('encode-data-training_y.csv')\n"
      ],
      "metadata": {
        "id": "lTX3vQrReatG"
      },
      "execution_count": null,
      "outputs": []
    },
    {
      "cell_type": "code",
      "execution_count": null,
      "metadata": {
        "id": "zzafRHYf8KUh"
      },
      "outputs": [],
      "source": [
        "#label_encoded_y"
      ]
    },
    {
      "cell_type": "code",
      "execution_count": null,
      "metadata": {
        "id": "jxLVfIDkA-kp"
      },
      "outputs": [],
      "source": [
        "# split data into train and test sets\n",
        "X_train, X_test, y_train, y_test = train_test_split(encoded_x, dummy_y, test_size=0.30, random_state=123)"
      ]
    },
    {
      "cell_type": "code",
      "execution_count": null,
      "metadata": {
        "id": "i56-v03TBYj0"
      },
      "outputs": [],
      "source": [
        "from sklearn.preprocessing import StandardScaler\n",
        "scaler=StandardScaler()\n",
        "scaler.fit(X_train)\n",
        "X_train=scaler.transform(X_train)\n",
        "X_test=scaler.transform(X_test)"
      ]
    },
    {
      "cell_type": "code",
      "execution_count": null,
      "metadata": {
        "id": "WO4UbSPkBSYV"
      },
      "outputs": [],
      "source": [
        "# Definición del modelo\n",
        "def modelo_mlp(): \n",
        "    model = Sequential()\n",
        "    model.add(Dense(20, input_dim=X_train.shape[1], \n",
        "                kernel_initializer= 'he_uniform',\n",
        "                activation='relu', activity_regularizer=regularizers.l1(1e-4)))\n",
        "    model.add(BatchNormalization())\n",
        "    model.add(Dense(10, kernel_initializer= 'he_uniform',\n",
        "                activation='relu',activity_regularizer=regularizers.l1(1e-4)))\n",
        "    model.add(Dropout(0.3))\n",
        "    model.add(BatchNormalization())\n",
        "    model.add(Dense(5, kernel_initializer= 'he_uniform',\n",
        "                activation='relu',activity_regularizer=regularizers.l1(1e-4)))\n",
        "    model.add(Dropout(0.3))\n",
        "    model.add(BatchNormalization())  \n",
        "    model.add(Dense(3, kernel_initializer= 'he_uniform',\n",
        "                activation='softmax'))\n",
        "    model.compile(loss='categorical_crossentropy', optimizer='adam',\n",
        "                metrics=['accuracy'])\n",
        "    model.summary()\n",
        "    return model"
      ]
    },
    {
      "cell_type": "code",
      "execution_count": null,
      "metadata": {
        "colab": {
          "base_uri": "https://localhost:8080/"
        },
        "id": "I3HiwZHSUvnP",
        "outputId": "4da093c2-725b-490c-e8fd-60bf4f3bf48b"
      },
      "outputs": [
        {
          "output_type": "stream",
          "name": "stdout",
          "text": [
            "Model: \"sequential\"\n",
            "_________________________________________________________________\n",
            " Layer (type)                Output Shape              Param #   \n",
            "=================================================================\n",
            " dense (Dense)               (None, 20)                420       \n",
            "                                                                 \n",
            " batch_normalization (BatchN  (None, 20)               80        \n",
            " ormalization)                                                   \n",
            "                                                                 \n",
            " dense_1 (Dense)             (None, 10)                210       \n",
            "                                                                 \n",
            " dropout (Dropout)           (None, 10)                0         \n",
            "                                                                 \n",
            " batch_normalization_1 (Batc  (None, 10)               40        \n",
            " hNormalization)                                                 \n",
            "                                                                 \n",
            " dense_2 (Dense)             (None, 5)                 55        \n",
            "                                                                 \n",
            " dropout_1 (Dropout)         (None, 5)                 0         \n",
            "                                                                 \n",
            " batch_normalization_2 (Batc  (None, 5)                20        \n",
            " hNormalization)                                                 \n",
            "                                                                 \n",
            " dense_3 (Dense)             (None, 3)                 18        \n",
            "                                                                 \n",
            "=================================================================\n",
            "Total params: 843\n",
            "Trainable params: 773\n",
            "Non-trainable params: 70\n",
            "_________________________________________________________________\n"
          ]
        }
      ],
      "source": [
        "model = modelo_mlp()"
      ]
    },
    {
      "cell_type": "code",
      "execution_count": null,
      "metadata": {
        "colab": {
          "base_uri": "https://localhost:8080/"
        },
        "id": "NfffQIygUvuY",
        "outputId": "40ff8103-14e4-45fb-a363-6ceabb2b0864"
      },
      "outputs": [
        {
          "output_type": "stream",
          "name": "stdout",
          "text": [
            "Epoch 1/100\n",
            "170/170 [==============================] - 4s 11ms/step - loss: 1.2672 - accuracy: 0.3645 - val_loss: 1.0403 - val_accuracy: 0.4453\n",
            "Epoch 2/100\n",
            "170/170 [==============================] - 2s 9ms/step - loss: 1.0932 - accuracy: 0.4164 - val_loss: 0.9516 - val_accuracy: 0.5138\n",
            "Epoch 3/100\n",
            "170/170 [==============================] - 1s 6ms/step - loss: 1.0112 - accuracy: 0.4566 - val_loss: 0.8846 - val_accuracy: 0.5444\n",
            "Epoch 4/100\n",
            "170/170 [==============================] - 1s 6ms/step - loss: 0.9434 - accuracy: 0.5039 - val_loss: 0.8221 - val_accuracy: 0.5780\n",
            "Epoch 5/100\n",
            "170/170 [==============================] - 1s 5ms/step - loss: 0.8986 - accuracy: 0.5203 - val_loss: 0.7653 - val_accuracy: 0.5947\n",
            "Epoch 6/100\n",
            "170/170 [==============================] - 1s 7ms/step - loss: 0.8508 - accuracy: 0.5355 - val_loss: 0.7160 - val_accuracy: 0.6034\n",
            "Epoch 7/100\n",
            "170/170 [==============================] - 1s 4ms/step - loss: 0.8165 - accuracy: 0.5587 - val_loss: 0.6813 - val_accuracy: 0.6064\n",
            "Epoch 8/100\n",
            "170/170 [==============================] - 1s 6ms/step - loss: 0.7933 - accuracy: 0.5593 - val_loss: 0.6558 - val_accuracy: 0.6094\n",
            "Epoch 9/100\n",
            "170/170 [==============================] - 1s 6ms/step - loss: 0.7728 - accuracy: 0.5720 - val_loss: 0.6407 - val_accuracy: 0.6146\n",
            "Epoch 10/100\n",
            "170/170 [==============================] - 1s 5ms/step - loss: 0.7441 - accuracy: 0.5842 - val_loss: 0.6143 - val_accuracy: 0.6214\n",
            "Epoch 11/100\n",
            "170/170 [==============================] - 1s 5ms/step - loss: 0.7368 - accuracy: 0.5759 - val_loss: 0.6017 - val_accuracy: 0.6296\n",
            "Epoch 12/100\n",
            "170/170 [==============================] - 1s 6ms/step - loss: 0.7212 - accuracy: 0.5986 - val_loss: 0.5922 - val_accuracy: 0.6481\n",
            "Epoch 13/100\n",
            "170/170 [==============================] - 1s 7ms/step - loss: 0.7140 - accuracy: 0.5886 - val_loss: 0.5827 - val_accuracy: 0.6469\n",
            "Epoch 14/100\n",
            "170/170 [==============================] - 1s 6ms/step - loss: 0.6977 - accuracy: 0.5968 - val_loss: 0.5738 - val_accuracy: 0.6339\n",
            "Epoch 15/100\n",
            "170/170 [==============================] - 1s 7ms/step - loss: 0.6937 - accuracy: 0.6003 - val_loss: 0.5698 - val_accuracy: 0.6520\n",
            "Epoch 16/100\n",
            "170/170 [==============================] - 1s 6ms/step - loss: 0.6788 - accuracy: 0.6032 - val_loss: 0.5628 - val_accuracy: 0.6464\n",
            "Epoch 17/100\n",
            "170/170 [==============================] - 1s 7ms/step - loss: 0.6720 - accuracy: 0.5995 - val_loss: 0.5580 - val_accuracy: 0.6525\n",
            "Epoch 18/100\n",
            "170/170 [==============================] - 1s 5ms/step - loss: 0.6593 - accuracy: 0.6027 - val_loss: 0.5571 - val_accuracy: 0.6395\n",
            "Epoch 19/100\n",
            "170/170 [==============================] - 2s 9ms/step - loss: 0.6582 - accuracy: 0.6088 - val_loss: 0.5510 - val_accuracy: 0.6516\n",
            "Epoch 20/100\n",
            "170/170 [==============================] - 1s 8ms/step - loss: 0.6523 - accuracy: 0.6086 - val_loss: 0.5473 - val_accuracy: 0.6447\n",
            "Epoch 21/100\n",
            "170/170 [==============================] - 1s 7ms/step - loss: 0.6557 - accuracy: 0.6132 - val_loss: 0.5435 - val_accuracy: 0.6589\n",
            "Epoch 22/100\n",
            "170/170 [==============================] - 1s 6ms/step - loss: 0.6461 - accuracy: 0.6082 - val_loss: 0.5453 - val_accuracy: 0.6387\n",
            "Epoch 23/100\n",
            "170/170 [==============================] - 1s 7ms/step - loss: 0.6433 - accuracy: 0.6200 - val_loss: 0.5443 - val_accuracy: 0.6533\n",
            "Epoch 24/100\n",
            "170/170 [==============================] - 1s 6ms/step - loss: 0.6365 - accuracy: 0.6233 - val_loss: 0.5398 - val_accuracy: 0.6438\n",
            "Epoch 25/100\n",
            "170/170 [==============================] - 1s 5ms/step - loss: 0.6433 - accuracy: 0.6257 - val_loss: 0.5364 - val_accuracy: 0.6438\n",
            "Epoch 26/100\n",
            "170/170 [==============================] - 1s 3ms/step - loss: 0.6326 - accuracy: 0.6163 - val_loss: 0.5336 - val_accuracy: 0.6572\n",
            "Epoch 27/100\n",
            "170/170 [==============================] - 1s 3ms/step - loss: 0.6336 - accuracy: 0.6176 - val_loss: 0.5339 - val_accuracy: 0.6438\n",
            "Epoch 28/100\n",
            "170/170 [==============================] - 0s 3ms/step - loss: 0.6209 - accuracy: 0.6202 - val_loss: 0.5299 - val_accuracy: 0.6572\n",
            "Epoch 29/100\n",
            "170/170 [==============================] - 1s 3ms/step - loss: 0.6293 - accuracy: 0.6171 - val_loss: 0.5319 - val_accuracy: 0.6628\n",
            "Epoch 30/100\n",
            "170/170 [==============================] - 0s 3ms/step - loss: 0.6163 - accuracy: 0.6320 - val_loss: 0.5291 - val_accuracy: 0.6486\n",
            "Epoch 31/100\n",
            "170/170 [==============================] - 1s 3ms/step - loss: 0.6227 - accuracy: 0.6272 - val_loss: 0.5261 - val_accuracy: 0.6602\n",
            "Epoch 32/100\n",
            "170/170 [==============================] - 1s 3ms/step - loss: 0.6164 - accuracy: 0.6215 - val_loss: 0.5242 - val_accuracy: 0.6568\n",
            "Epoch 33/100\n",
            "170/170 [==============================] - 0s 3ms/step - loss: 0.6252 - accuracy: 0.6184 - val_loss: 0.5236 - val_accuracy: 0.6494\n",
            "Epoch 34/100\n",
            "170/170 [==============================] - 0s 3ms/step - loss: 0.6164 - accuracy: 0.6292 - val_loss: 0.5189 - val_accuracy: 0.6598\n",
            "Epoch 35/100\n",
            "170/170 [==============================] - 1s 3ms/step - loss: 0.6115 - accuracy: 0.6363 - val_loss: 0.5175 - val_accuracy: 0.6494\n",
            "Epoch 36/100\n",
            "170/170 [==============================] - 1s 3ms/step - loss: 0.6074 - accuracy: 0.6285 - val_loss: 0.5201 - val_accuracy: 0.6516\n",
            "Epoch 37/100\n",
            "170/170 [==============================] - 0s 3ms/step - loss: 0.6109 - accuracy: 0.6329 - val_loss: 0.5180 - val_accuracy: 0.6387\n",
            "Epoch 38/100\n",
            "170/170 [==============================] - 1s 3ms/step - loss: 0.6031 - accuracy: 0.6263 - val_loss: 0.5158 - val_accuracy: 0.6503\n",
            "Epoch 39/100\n",
            "170/170 [==============================] - 0s 3ms/step - loss: 0.6012 - accuracy: 0.6237 - val_loss: 0.5157 - val_accuracy: 0.6503\n",
            "Epoch 40/100\n",
            "170/170 [==============================] - 0s 3ms/step - loss: 0.6024 - accuracy: 0.6337 - val_loss: 0.5150 - val_accuracy: 0.6645\n",
            "Epoch 41/100\n",
            "170/170 [==============================] - 0s 3ms/step - loss: 0.6097 - accuracy: 0.6313 - val_loss: 0.5138 - val_accuracy: 0.6563\n",
            "Epoch 42/100\n",
            "170/170 [==============================] - 1s 3ms/step - loss: 0.5994 - accuracy: 0.6388 - val_loss: 0.5151 - val_accuracy: 0.6628\n",
            "Epoch 43/100\n",
            "170/170 [==============================] - 1s 3ms/step - loss: 0.5928 - accuracy: 0.6315 - val_loss: 0.5148 - val_accuracy: 0.6602\n",
            "Epoch 44/100\n",
            "170/170 [==============================] - 1s 3ms/step - loss: 0.6030 - accuracy: 0.6294 - val_loss: 0.5149 - val_accuracy: 0.6589\n",
            "Epoch 45/100\n",
            "170/170 [==============================] - 1s 3ms/step - loss: 0.6040 - accuracy: 0.6289 - val_loss: 0.5129 - val_accuracy: 0.6654\n",
            "Epoch 46/100\n",
            "170/170 [==============================] - 0s 3ms/step - loss: 0.5971 - accuracy: 0.6376 - val_loss: 0.5162 - val_accuracy: 0.6585\n",
            "Epoch 47/100\n",
            "170/170 [==============================] - 1s 3ms/step - loss: 0.5969 - accuracy: 0.6361 - val_loss: 0.5151 - val_accuracy: 0.6628\n",
            "Epoch 48/100\n",
            "170/170 [==============================] - 1s 3ms/step - loss: 0.5955 - accuracy: 0.6326 - val_loss: 0.5156 - val_accuracy: 0.6628\n",
            "Epoch 49/100\n",
            "170/170 [==============================] - 1s 3ms/step - loss: 0.5929 - accuracy: 0.6241 - val_loss: 0.5140 - val_accuracy: 0.6499\n",
            "Epoch 50/100\n",
            "170/170 [==============================] - 1s 3ms/step - loss: 0.5968 - accuracy: 0.6311 - val_loss: 0.5110 - val_accuracy: 0.6490\n",
            "Epoch 51/100\n",
            "170/170 [==============================] - 1s 3ms/step - loss: 0.5952 - accuracy: 0.6309 - val_loss: 0.5152 - val_accuracy: 0.6434\n",
            "Epoch 52/100\n",
            "170/170 [==============================] - 1s 3ms/step - loss: 0.5972 - accuracy: 0.6359 - val_loss: 0.5126 - val_accuracy: 0.6447\n",
            "Epoch 53/100\n",
            "170/170 [==============================] - 1s 3ms/step - loss: 0.5922 - accuracy: 0.6339 - val_loss: 0.5111 - val_accuracy: 0.6503\n",
            "Epoch 54/100\n",
            "170/170 [==============================] - 1s 3ms/step - loss: 0.5970 - accuracy: 0.6328 - val_loss: 0.5114 - val_accuracy: 0.6520\n",
            "Epoch 55/100\n",
            "170/170 [==============================] - 1s 3ms/step - loss: 0.5827 - accuracy: 0.6350 - val_loss: 0.5143 - val_accuracy: 0.6499\n",
            "Epoch 56/100\n",
            "170/170 [==============================] - 1s 3ms/step - loss: 0.5935 - accuracy: 0.6291 - val_loss: 0.5111 - val_accuracy: 0.6611\n",
            "Epoch 57/100\n",
            "170/170 [==============================] - 1s 3ms/step - loss: 0.5863 - accuracy: 0.6331 - val_loss: 0.5145 - val_accuracy: 0.6619\n",
            "Epoch 58/100\n",
            "170/170 [==============================] - 0s 3ms/step - loss: 0.5884 - accuracy: 0.6374 - val_loss: 0.5130 - val_accuracy: 0.6671\n",
            "Epoch 59/100\n",
            "170/170 [==============================] - 1s 3ms/step - loss: 0.5839 - accuracy: 0.6401 - val_loss: 0.5123 - val_accuracy: 0.6632\n",
            "Epoch 60/100\n",
            "170/170 [==============================] - 1s 3ms/step - loss: 0.5829 - accuracy: 0.6357 - val_loss: 0.5122 - val_accuracy: 0.6499\n",
            "Epoch 61/100\n",
            "170/170 [==============================] - 1s 3ms/step - loss: 0.5809 - accuracy: 0.6372 - val_loss: 0.5152 - val_accuracy: 0.6542\n",
            "Epoch 62/100\n",
            "170/170 [==============================] - 1s 3ms/step - loss: 0.5870 - accuracy: 0.6298 - val_loss: 0.5149 - val_accuracy: 0.6460\n",
            "Epoch 63/100\n",
            "170/170 [==============================] - 1s 3ms/step - loss: 0.5811 - accuracy: 0.6442 - val_loss: 0.5122 - val_accuracy: 0.6550\n",
            "Epoch 64/100\n",
            "170/170 [==============================] - 1s 3ms/step - loss: 0.5798 - accuracy: 0.6444 - val_loss: 0.5127 - val_accuracy: 0.6576\n",
            "Epoch 65/100\n",
            "170/170 [==============================] - 1s 3ms/step - loss: 0.5860 - accuracy: 0.6385 - val_loss: 0.5131 - val_accuracy: 0.6516\n",
            "Epoch 66/100\n",
            "170/170 [==============================] - 0s 3ms/step - loss: 0.5835 - accuracy: 0.6276 - val_loss: 0.5121 - val_accuracy: 0.6477\n",
            "Epoch 67/100\n",
            "170/170 [==============================] - 1s 3ms/step - loss: 0.5828 - accuracy: 0.6300 - val_loss: 0.5128 - val_accuracy: 0.6447\n",
            "Epoch 68/100\n",
            "170/170 [==============================] - 1s 3ms/step - loss: 0.5726 - accuracy: 0.6446 - val_loss: 0.5137 - val_accuracy: 0.6589\n",
            "Epoch 69/100\n",
            "170/170 [==============================] - 1s 3ms/step - loss: 0.5814 - accuracy: 0.6344 - val_loss: 0.5154 - val_accuracy: 0.6520\n",
            "Epoch 70/100\n",
            "170/170 [==============================] - 1s 3ms/step - loss: 0.5832 - accuracy: 0.6328 - val_loss: 0.5135 - val_accuracy: 0.6589\n",
            "Epoch 71/100\n",
            "170/170 [==============================] - 0s 3ms/step - loss: 0.5785 - accuracy: 0.6368 - val_loss: 0.5154 - val_accuracy: 0.6606\n",
            "Epoch 72/100\n",
            "170/170 [==============================] - 1s 3ms/step - loss: 0.5776 - accuracy: 0.6372 - val_loss: 0.5139 - val_accuracy: 0.6585\n",
            "Epoch 73/100\n",
            "170/170 [==============================] - 1s 3ms/step - loss: 0.5767 - accuracy: 0.6468 - val_loss: 0.5135 - val_accuracy: 0.6559\n",
            "Epoch 74/100\n",
            "170/170 [==============================] - 1s 3ms/step - loss: 0.5773 - accuracy: 0.6348 - val_loss: 0.5134 - val_accuracy: 0.6537\n",
            "Epoch 75/100\n",
            "170/170 [==============================] - 1s 3ms/step - loss: 0.5782 - accuracy: 0.6403 - val_loss: 0.5120 - val_accuracy: 0.6486\n",
            "Epoch 76/100\n",
            "170/170 [==============================] - 1s 3ms/step - loss: 0.5796 - accuracy: 0.6390 - val_loss: 0.5111 - val_accuracy: 0.6598\n",
            "Epoch 77/100\n",
            "170/170 [==============================] - 0s 3ms/step - loss: 0.5808 - accuracy: 0.6322 - val_loss: 0.5115 - val_accuracy: 0.6481\n",
            "Epoch 78/100\n",
            "170/170 [==============================] - 1s 3ms/step - loss: 0.5736 - accuracy: 0.6326 - val_loss: 0.5127 - val_accuracy: 0.6344\n",
            "Epoch 79/100\n",
            "170/170 [==============================] - 1s 3ms/step - loss: 0.5795 - accuracy: 0.6438 - val_loss: 0.5144 - val_accuracy: 0.6503\n",
            "Epoch 80/100\n",
            "170/170 [==============================] - 1s 3ms/step - loss: 0.5778 - accuracy: 0.6309 - val_loss: 0.5107 - val_accuracy: 0.6585\n",
            "Epoch 81/100\n",
            "170/170 [==============================] - 1s 3ms/step - loss: 0.5763 - accuracy: 0.6377 - val_loss: 0.5122 - val_accuracy: 0.6645\n",
            "Epoch 82/100\n",
            "170/170 [==============================] - 1s 3ms/step - loss: 0.5762 - accuracy: 0.6392 - val_loss: 0.5180 - val_accuracy: 0.6494\n",
            "Epoch 83/100\n",
            "170/170 [==============================] - 1s 3ms/step - loss: 0.5746 - accuracy: 0.6457 - val_loss: 0.5130 - val_accuracy: 0.6671\n",
            "Epoch 84/100\n",
            "170/170 [==============================] - 1s 3ms/step - loss: 0.5722 - accuracy: 0.6453 - val_loss: 0.5143 - val_accuracy: 0.6533\n",
            "Epoch 85/100\n",
            "170/170 [==============================] - 0s 3ms/step - loss: 0.5741 - accuracy: 0.6352 - val_loss: 0.5146 - val_accuracy: 0.6576\n",
            "Epoch 86/100\n",
            "170/170 [==============================] - 1s 3ms/step - loss: 0.5670 - accuracy: 0.6435 - val_loss: 0.5151 - val_accuracy: 0.6525\n",
            "Epoch 87/100\n",
            "170/170 [==============================] - 1s 3ms/step - loss: 0.5788 - accuracy: 0.6359 - val_loss: 0.5110 - val_accuracy: 0.6641\n",
            "Epoch 88/100\n",
            "170/170 [==============================] - 1s 3ms/step - loss: 0.5701 - accuracy: 0.6377 - val_loss: 0.5121 - val_accuracy: 0.6593\n",
            "Epoch 89/100\n",
            "170/170 [==============================] - 1s 3ms/step - loss: 0.5661 - accuracy: 0.6412 - val_loss: 0.5167 - val_accuracy: 0.6512\n",
            "Epoch 90/100\n",
            "170/170 [==============================] - 1s 3ms/step - loss: 0.5717 - accuracy: 0.6468 - val_loss: 0.5135 - val_accuracy: 0.6563\n",
            "Epoch 91/100\n",
            "170/170 [==============================] - 0s 3ms/step - loss: 0.5728 - accuracy: 0.6394 - val_loss: 0.5139 - val_accuracy: 0.6576\n",
            "Epoch 92/100\n",
            "170/170 [==============================] - 1s 3ms/step - loss: 0.5779 - accuracy: 0.6400 - val_loss: 0.5194 - val_accuracy: 0.6499\n",
            "Epoch 93/100\n",
            "170/170 [==============================] - 1s 3ms/step - loss: 0.5708 - accuracy: 0.6451 - val_loss: 0.5133 - val_accuracy: 0.6529\n",
            "Epoch 94/100\n",
            "170/170 [==============================] - 1s 3ms/step - loss: 0.5718 - accuracy: 0.6407 - val_loss: 0.5146 - val_accuracy: 0.6542\n",
            "Epoch 95/100\n",
            "170/170 [==============================] - 0s 3ms/step - loss: 0.5746 - accuracy: 0.6376 - val_loss: 0.5138 - val_accuracy: 0.6576\n",
            "Epoch 96/100\n",
            "170/170 [==============================] - 1s 3ms/step - loss: 0.5845 - accuracy: 0.6455 - val_loss: 0.5155 - val_accuracy: 0.6490\n",
            "Epoch 97/100\n",
            "170/170 [==============================] - 1s 3ms/step - loss: 0.5670 - accuracy: 0.6433 - val_loss: 0.5166 - val_accuracy: 0.6563\n",
            "Epoch 98/100\n",
            "170/170 [==============================] - 1s 3ms/step - loss: 0.5686 - accuracy: 0.6374 - val_loss: 0.5159 - val_accuracy: 0.6606\n",
            "Epoch 99/100\n",
            "170/170 [==============================] - 1s 3ms/step - loss: 0.5670 - accuracy: 0.6468 - val_loss: 0.5189 - val_accuracy: 0.6537\n",
            "Epoch 100/100\n",
            "170/170 [==============================] - 0s 3ms/step - loss: 0.5691 - accuracy: 0.6484 - val_loss: 0.5165 - val_accuracy: 0.6701\n"
          ]
        }
      ],
      "source": [
        "# Entrenamos el modelo con el dataset\n",
        "history=model.fit(X_train, y_train, epochs=100, batch_size=32, validation_data=(X_test, y_test), shuffle=False)"
      ]
    },
    {
      "cell_type": "code",
      "execution_count": null,
      "metadata": {
        "colab": {
          "base_uri": "https://localhost:8080/"
        },
        "id": "KWug_BRZUvxN",
        "outputId": "a8855415-2a9f-42f1-ea07-8dd86a955417"
      },
      "outputs": [
        {
          "output_type": "stream",
          "name": "stdout",
          "text": [
            "Precisión Entrenamiento: 0.6603\n",
            "Precisión Prueba:  0.6701\n"
          ]
        }
      ],
      "source": [
        "loss, accuracy = model.evaluate(X_train, y_train, verbose=False)\n",
        "print(\"Precisión Entrenamiento: {:.4f}\".format(accuracy))\n",
        "loss, accuracy = model.evaluate(X_test, y_test, verbose=False)\n",
        "print(\"Precisión Prueba:  {:.4f}\".format(accuracy))"
      ]
    },
    {
      "cell_type": "code",
      "execution_count": null,
      "metadata": {
        "colab": {
          "base_uri": "https://localhost:8080/",
          "height": 295
        },
        "id": "H0yK_NpgKPeP",
        "outputId": "88ae31d3-499f-42be-f21c-7a8525221c47"
      },
      "outputs": [
        {
          "output_type": "display_data",
          "data": {
            "text/plain": [
              "<Figure size 432x288 with 1 Axes>"
            ],
            "image/png": "[encoded data removed]"
          },
          "metadata": {
            "needs_background": "light"
          }
        }
      ],
      "source": [
        "from matplotlib import pyplot\n",
        "from numpy import array\n",
        "# plot train and validation loss\n",
        "pyplot.plot(history.history['loss'])\n",
        "pyplot.plot(history.history['val_loss'])\n",
        "pyplot.title('model train vs validation loss')\n",
        "pyplot.ylabel('loss')\n",
        "pyplot.xlabel('epoch')\n",
        "pyplot.legend(['train', 'validation'], loc='upper right')\n",
        "pyplot.show()"
      ]
    },
    {
      "cell_type": "code",
      "execution_count": null,
      "metadata": {
        "id": "rP0iEOChQCiO"
      },
      "outputs": [],
      "source": [
        "#Making confusion matrix that checks accuracy of the model\n",
        "from sklearn.metrics import confusion_matrix\n",
        "from sklearn.metrics import ConfusionMatrixDisplay"
      ]
    },
    {
      "cell_type": "code",
      "source": [
        "y_pred=model.predict(X_test) \n",
        "y_pred=np.argmax(y_pred, axis=1)\n",
        "y_test=np.argmax(y_test, axis=1)\n",
        "cm = confusion_matrix(y_test, y_pred)\n",
        "disp = ConfusionMatrixDisplay(confusion_matrix=cm)\n",
        "disp.plot()\n",
        "\n",
        "plt.show()"
      ],
      "metadata": {
        "colab": {
          "base_uri": "https://localhost:8080/",
          "height": 296
        },
        "id": "vUai4GqqA2_T",
        "outputId": "4d1e9aeb-e9e8-40f3-c585-9ae5de5f80b5"
      },
      "execution_count": null,
      "outputs": [
        {
          "output_type": "stream",
          "name": "stdout",
          "text": [
            "73/73 [==============================] - 0s 1ms/step\n"
          ]
        },
        {
          "output_type": "display_data",
          "data": {
            "text/plain": [
              "<Figure size 432x288 with 2 Axes>"
            ],
            "image/png": "[encoded data removed]"
          },
          "metadata": {
            "needs_background": "light"
          }
        }
      ]
    },
    {
      "cell_type": "code",
      "source": [
        "from sklearn.metrics import classification_report\n",
        "report = classification_report(y_test, y_pred)\n",
        "print(report)"
      ],
      "metadata": {
        "colab": {
          "base_uri": "https://localhost:8080/"
        },
        "id": "Lmp-3IkiA9--",
        "outputId": "3b45970c-7d56-4fc8-8ce6-458f406b619d"
      },
      "execution_count": null,
      "outputs": [
        {
          "output_type": "stream",
          "name": "stdout",
          "text": [
            "              precision    recall  f1-score   support\n",
            "\n",
            "           0       0.98      0.96      0.97       763\n",
            "           1       0.51      0.49      0.50       779\n",
            "           2       0.53      0.57      0.55       780\n",
            "\n",
            "    accuracy                           0.67      2322\n",
            "   macro avg       0.67      0.67      0.67      2322\n",
            "weighted avg       0.67      0.67      0.67      2322\n",
            "\n"
          ]
        }
      ]
    },
    {
      "cell_type": "code",
      "source": [
        "# make class predictions with the model\n",
        "predictions = (model.predict(X_test[:100])).argmax(1)\n",
        "predictions"
      ],
      "metadata": {
        "colab": {
          "base_uri": "https://localhost:8080/"
        },
        "id": "JOR3BdY4LCFC",
        "outputId": "1bc86ad2-3ee1-4b99-d91c-7e97a53fd8f7"
      },
      "execution_count": null,
      "outputs": [
        {
          "output_type": "stream",
          "name": "stdout",
          "text": [
            "4/4 [==============================] - 0s 4ms/step\n"
          ]
        },
        {
          "output_type": "execute_result",
          "data": {
            "text/plain": [
              "array([1, 1, 2, 2, 2, 0, 2, 2, 2, 2, 2, 0, 2, 2, 0, 1, 1, 2, 1, 2, 0, 2,\n",
              "       1, 0, 1, 1, 2, 1, 2, 0, 2, 1, 0, 1, 1, 1, 2, 2, 0, 1, 1, 1, 2, 2,\n",
              "       0, 1, 1, 0, 0, 0, 2, 0, 0, 1, 0, 1, 0, 0, 1, 0, 1, 2, 1, 0, 2, 2,\n",
              "       1, 1, 2, 1, 0, 1, 0, 0, 2, 1, 0, 0, 0, 1, 2, 1, 0, 0, 0, 1, 0, 0,\n",
              "       1, 0, 1, 2, 0, 1, 2, 2, 2, 1, 1, 2])"
            ]
          },
          "metadata": {},
          "execution_count": 55
        }
      ]
    },
    {
      "cell_type": "code",
      "source": [
        "inver_label_encoder = label_encoder.inverse_transform(predictions)"
      ],
      "metadata": {
        "id": "3SvSOUGfhxnL"
      },
      "execution_count": null,
      "outputs": []
    },
    {
      "cell_type": "code",
      "source": [
        "print(inver_label_encoder)"
      ],
      "metadata": {
        "colab": {
          "base_uri": "https://localhost:8080/"
        },
        "id": "_VOkGdXNLCIZ",
        "outputId": "ae50bf60-68c5-46ab-b7e6-047c05a935e8"
      },
      "execution_count": null,
      "outputs": [
        {
          "output_type": "stream",
          "name": "stdout",
          "text": [
            "['631d72ff99ba21001a8503fa' '631d72ff99ba21001a8503fa'\n",
            " '631d779999ba21001a850416' '631d779999ba21001a850416'\n",
            " '631d779999ba21001a850416' '62566aa432b19a0164d802be'\n",
            " '631d779999ba21001a850416' '631d779999ba21001a850416'\n",
            " '631d779999ba21001a850416' '631d779999ba21001a850416'\n",
            " '631d779999ba21001a850416' '62566aa432b19a0164d802be'\n",
            " '631d779999ba21001a850416' '631d779999ba21001a850416'\n",
            " '62566aa432b19a0164d802be' '631d72ff99ba21001a8503fa'\n",
            " '631d72ff99ba21001a8503fa' '631d779999ba21001a850416'\n",
            " '631d72ff99ba21001a8503fa' '631d779999ba21001a850416'\n",
            " '62566aa432b19a0164d802be' '631d779999ba21001a850416'\n",
            " '631d72ff99ba21001a8503fa' '62566aa432b19a0164d802be'\n",
            " '631d72ff99ba21001a8503fa' '631d72ff99ba21001a8503fa'\n",
            " '631d779999ba21001a850416' '631d72ff99ba21001a8503fa'\n",
            " '631d779999ba21001a850416' '62566aa432b19a0164d802be'\n",
            " '631d779999ba21001a850416' '631d72ff99ba21001a8503fa'\n",
            " '62566aa432b19a0164d802be' '631d72ff99ba21001a8503fa'\n",
            " '631d72ff99ba21001a8503fa' '631d72ff99ba21001a8503fa'\n",
            " '631d779999ba21001a850416' '631d779999ba21001a850416'\n",
            " '62566aa432b19a0164d802be' '631d72ff99ba21001a8503fa'\n",
            " '631d72ff99ba21001a8503fa' '631d72ff99ba21001a8503fa'\n",
            " '631d779999ba21001a850416' '631d779999ba21001a850416'\n",
            " '62566aa432b19a0164d802be' '631d72ff99ba21001a8503fa'\n",
            " '631d72ff99ba21001a8503fa' '62566aa432b19a0164d802be'\n",
            " '62566aa432b19a0164d802be' '62566aa432b19a0164d802be'\n",
            " '631d779999ba21001a850416' '62566aa432b19a0164d802be'\n",
            " '62566aa432b19a0164d802be' '631d72ff99ba21001a8503fa'\n",
            " '62566aa432b19a0164d802be' '631d72ff99ba21001a8503fa'\n",
            " '62566aa432b19a0164d802be' '62566aa432b19a0164d802be'\n",
            " '631d72ff99ba21001a8503fa' '62566aa432b19a0164d802be'\n",
            " '631d72ff99ba21001a8503fa' '631d779999ba21001a850416'\n",
            " '631d72ff99ba21001a8503fa' '62566aa432b19a0164d802be'\n",
            " '631d779999ba21001a850416' '631d779999ba21001a850416'\n",
            " '631d72ff99ba21001a8503fa' '631d72ff99ba21001a8503fa'\n",
            " '631d779999ba21001a850416' '631d72ff99ba21001a8503fa'\n",
            " '62566aa432b19a0164d802be' '631d72ff99ba21001a8503fa'\n",
            " '62566aa432b19a0164d802be' '62566aa432b19a0164d802be'\n",
            " '631d779999ba21001a850416' '631d72ff99ba21001a8503fa'\n",
            " '62566aa432b19a0164d802be' '62566aa432b19a0164d802be'\n",
            " '62566aa432b19a0164d802be' '631d72ff99ba21001a8503fa'\n",
            " '631d779999ba21001a850416' '631d72ff99ba21001a8503fa'\n",
            " '62566aa432b19a0164d802be' '62566aa432b19a0164d802be'\n",
            " '62566aa432b19a0164d802be' '631d72ff99ba21001a8503fa'\n",
            " '62566aa432b19a0164d802be' '62566aa432b19a0164d802be'\n",
            " '631d72ff99ba21001a8503fa' '62566aa432b19a0164d802be'\n",
            " '631d72ff99ba21001a8503fa' '631d779999ba21001a850416'\n",
            " '62566aa432b19a0164d802be' '631d72ff99ba21001a8503fa'\n",
            " '631d779999ba21001a850416' '631d779999ba21001a850416'\n",
            " '631d779999ba21001a850416' '631d72ff99ba21001a8503fa'\n",
            " '631d72ff99ba21001a8503fa' '631d779999ba21001a850416']\n"
          ]
        }
      ]
    },
    {
      "cell_type": "code",
      "source": [
        "df[\"landing_page_id\"].value_counts()"
      ],
      "metadata": {
        "colab": {
          "base_uri": "https://localhost:8080/"
        },
        "id": "CW5Pbdl5d28a",
        "outputId": "5d589ed8-9c1e-49c4-be76-569043a7e7eb"
      },
      "execution_count": null,
      "outputs": [
        {
          "output_type": "execute_result",
          "data": {
            "text/plain": [
              "631d72ff99ba21001a8503fa    2595\n",
              "631d779999ba21001a850416    2586\n",
              "62566aa432b19a0164d802be    2557\n",
              "Name: landing_page_id, dtype: int64"
            ]
          },
          "metadata": {},
          "execution_count": 44
        }
      ]
    }
  ],
  "metadata": {
    "colab": {
      "collapsed_sections": [],
      "provenance": [],
      "include_colab_link": true
    },
    "kernelspec": {
      "display_name": "Python 3",
      "name": "python3"
    },
    "language_info": {
      "name": "python"
    }
  },
  "nbformat": 4,
  "nbformat_minor": 0
}