{
  "cells": [
    {
      "cell_type": "markdown",
      "metadata": {
        "id": "view-in-github",
        "colab_type": "text"
      },
      "source": [
        "<a href=\"https://colab.research.google.com/github/GUILLENJV/62f1ab79cc287b001f643389/blob/master/Copia_de_model_6377366a6f84e2001a65fdfe_1.ipynb\" target=\"_parent\"><img src=\"https://colab.research.google.com/assets/colab-badge.svg\" alt=\"Open In Colab\"/></a>"
      ]
    },
    {
      "cell_type": "code",
      "execution_count": 1,
      "metadata": {
        "id": "T_RKpy4whR5f"
      },
      "outputs": [],
      "source": [
        "#learned embedding encoding for a neural network\n",
        "from numpy import unique\n",
        "import numpy\n",
        "from numpy import array\n",
        "import pandas as pd\n",
        "import datetime \n",
        "from time import sleep\n",
        "from tqdm import tqdm\n",
        "import os\n",
        "from pandas import read_csv\n",
        "import json\n",
        "import tensorflow as tf\n",
        "from tensorflow import keras\n",
        "from keras.utils import np_utils\n",
        "import requests\n",
        "import numpy as np\n",
        "from sklearn.model_selection import train_test_split\n",
        "from sklearn.preprocessing import LabelEncoder\n",
        "from sklearn.preprocessing import OneHotEncoder\n",
        "from sklearn.preprocessing import OrdinalEncoder\n",
        "from tensorflow.keras.layers import BatchNormalization\n",
        "from keras.regularizers import l1\n",
        "from keras.regularizers import l2\n",
        "from tensorflow.keras.layers import Dense, Dropout, Flatten\n",
        "from tensorflow.keras.callbacks import EarlyStopping\n",
        "from keras.utils.vis_utils import plot_model\n",
        "from keras.models import Sequential\n",
        "from keras.layers import Dense\n",
        "from tensorflow.keras import regularizers\n",
        "from matplotlib import pyplot\n",
        "import matplotlib.pyplot as plt\n",
        "import seaborn as sns\n",
        "#from predict import model \n",
        "from sklearn import preprocessing\n",
        "from collections import defaultdict\n",
        "from sklearn.preprocessing import StandardScaler\n",
        "from sklearn.neural_network import MLPClassifier\n",
        "from sklearn.metrics import classification_report\n",
        "from sklearn.metrics import confusion_matrix\n",
        "from sklearn.metrics import ConfusionMatrixDisplay\n",
        "from matplotlib import pyplot as plt"
      ]
    },
    {
      "cell_type": "code",
      "execution_count": 2,
      "metadata": {
        "id": "V8PQOTills5S"
      },
      "outputs": [],
      "source": [
        "# carga los datos\n",
        "#df = pd.read_excel('631d8277776f1d001a21e6eb.xlsx') \n",
        "df = pd.read_csv('6377366a6f84e2001a65fdfe (1).csv')"
      ]
    },
    {
      "cell_type": "code",
      "execution_count": 3,
      "metadata": {
        "colab": {
          "base_uri": "https://localhost:8080/"
        },
        "id": "_hbIK-LFRFPX",
        "outputId": "e7d3cbc9-5eed-4c99-a715-931c4e9af281"
      },
      "outputs": [
        {
          "output_type": "execute_result",
          "data": {
            "text/plain": [
              "62566aa432b19a0164d802be    2019\n",
              "637735d9b20e47001a2057c1    2019\n",
              "6377333cb20e47001a2057c0    2019\n",
              "Name: landing_page_id, dtype: int64"
            ]
          },
          "metadata": {},
          "execution_count": 3
        }
      ],
      "source": [
        "df[\"landing_page_id\"].value_counts()"
      ]
    },
    {
      "cell_type": "code",
      "execution_count": 4,
      "metadata": {
        "colab": {
          "base_uri": "https://localhost:8080/",
          "height": 543
        },
        "id": "9jp8L3ComC5l",
        "outputId": "842d06ff-2670-432c-da1a-dd8732642e8c"
      },
      "outputs": [
        {
          "output_type": "execute_result",
          "data": {
            "text/plain": [
              "                                    _id    landing_pages_group_id  \\\n",
              "0  64c5e4f3-8cd7-4a9b-b373-69c0a2dd1756  6377366a6f84e2001a65fdfe   \n",
              "1  0f2d1ec7-adcd-482c-985e-6aafc77afe73  6377366a6f84e2001a65fdfe   \n",
              "2  887c5a9c-652a-488c-901f-a1f6e2610ec5  6377366a6f84e2001a65fdfe   \n",
              "3  4f33bbf0-3373-48fc-a957-fec5faa948c6  6377366a6f84e2001a65fdfe   \n",
              "4  271ffac8-16f8-49d8-a0f3-68fe2d54d64d  6377366a6f84e2001a65fdfe   \n",
              "\n",
              "                campaign_id           landing_page_id  \\\n",
              "0  63594eb49cf1d0001ac4782b  62566aa432b19a0164d802be   \n",
              "1  6272b7c8b45d5301581d3ddd  62566aa432b19a0164d802be   \n",
              "2  634da21fd76a550019d0db34  637735d9b20e47001a2057c1   \n",
              "3  634da151d76a550019d0d9b3  6377333cb20e47001a2057c0   \n",
              "4  634dd59cd76a550019d0de6c  637735d9b20e47001a2057c1   \n",
              "\n",
              "          traffic_source_id visitor_device_browser  \\\n",
              "0  61159be7649d1d0359dbb161          Chrome Mobile   \n",
              "1  5e46d6787810b90011c91204          Chrome Mobile   \n",
              "2  5e46d6787810b90011c91204                 Safari   \n",
              "3  5e46d6787810b90011c91204          Chrome Mobile   \n",
              "4  5e46d6787810b90011c91204       Facebook for iOS   \n",
              "\n",
              "  visitor_device_hardware_family visitor_device_hardware_model  \\\n",
              "0                         View 3                        B140DL   \n",
              "1               Galaxy Tab 3 8.0                       SM-T310   \n",
              "2                      Macintosh                     Macintosh   \n",
              "3                       Pixel 3a                      Pixel 3a   \n",
              "4                      iPhone 11                     iPhone 11   \n",
              "\n",
              "  visitor_device_hardware_vendor visitor_device_os_family  ...  \\\n",
              "0                            BLU                  Android  ...   \n",
              "1                        Samsung                  Android  ...   \n",
              "2                          Apple                    macOS  ...   \n",
              "3                         Google                  Android  ...   \n",
              "4                          Apple                      iOS  ...   \n",
              "\n",
              "  visitor_geo_location_connection_type visitor_geo_location_countryCode  \\\n",
              "0                             Cellular                               US   \n",
              "1                            Cable/DSL                               US   \n",
              "2                            Cable/DSL                               US   \n",
              "3                            Corporate                               US   \n",
              "4                            Corporate                               US   \n",
              "\n",
              "   visitor_geo_location_isp visitor_geo_location_regionName  \\\n",
              "0          Verizon Wireless                        New York   \n",
              "1                  Spectrum                      California   \n",
              "2        Cox Communications                        Virginia   \n",
              "3               CenturyLink                         Arizona   \n",
              "4  Clearwave Communications                        Illinois   \n",
              "\n",
              "            visitor_tokens_adh visitor_tokens_cadid visitor_tokens_adi  \\\n",
              "0       regwillcoverinzipcodes           Otly1SNLj0       solarpergola   \n",
              "1     regwillcoverowninzipcode            2SUr_THGD       blondejudge2   \n",
              "2  reggovcovercostownhomeinzip           4RY0zVSNww       blondejudge2   \n",
              "3  reggovcovercostownhomeinzip           WgXFI4Uq-I       blondejudge2   \n",
              "4  reggovcovercostownhomeinzip           lzld1mh6bi       blondejudge2   \n",
              "\n",
              "  visitor_tokens_add converted_yes converted_no  \n",
              "0                NaN             0            1  \n",
              "1                NaN             1            0  \n",
              "2                NaN             0            1  \n",
              "3                NaN             1            0  \n",
              "4                NaN             1            0  \n",
              "\n",
              "[5 rows x 24 columns]"
            ],
            "text/html": [
              "\n",
              "  <div id=\"df-c33705e2-b580-4151-bc99-1aed9efbef01\">\n",
              "    <div class=\"colab-df-container\">\n",
              "      <div>\n",
              "<style scoped>\n",
              "    .dataframe tbody tr th:only-of-type {\n",
              "        vertical-align: middle;\n",
              "    }\n",
              "\n",
              "    .dataframe tbody tr th {\n",
              "        vertical-align: top;\n",
              "    }\n",
              "\n",
              "    .dataframe thead th {\n",
              "        text-align: right;\n",
              "    }\n",
              "</style>\n",
              "<table border=\"1\" class=\"dataframe\">\n",
              "  <thead>\n",
              "    <tr style=\"text-align: right;\">\n",
              "      <th></th>\n",
              "      <th>_id</th>\n",
              "      <th>landing_pages_group_id</th>\n",
              "      <th>campaign_id</th>\n",
              "      <th>landing_page_id</th>\n",
              "      <th>traffic_source_id</th>\n",
              "      <th>visitor_device_browser</th>\n",
              "      <th>visitor_device_hardware_family</th>\n",
              "      <th>visitor_device_hardware_model</th>\n",
              "      <th>visitor_device_hardware_vendor</th>\n",
              "      <th>visitor_device_os_family</th>\n",
              "      <th>...</th>\n",
              "      <th>visitor_geo_location_connection_type</th>\n",
              "      <th>visitor_geo_location_countryCode</th>\n",
              "      <th>visitor_geo_location_isp</th>\n",
              "      <th>visitor_geo_location_regionName</th>\n",
              "      <th>visitor_tokens_adh</th>\n",
              "      <th>visitor_tokens_cadid</th>\n",
              "      <th>visitor_tokens_adi</th>\n",
              "      <th>visitor_tokens_add</th>\n",
              "      <th>converted_yes</th>\n",
              "      <th>converted_no</th>\n",
              "    </tr>\n",
              "  </thead>\n",
              "  <tbody>\n",
              "    <tr>\n",
              "      <th>0</th>\n",
              "      <td>64c5e4f3-8cd7-4a9b-b373-69c0a2dd1756</td>\n",
              "      <td>6377366a6f84e2001a65fdfe</td>\n",
              "      <td>63594eb49cf1d0001ac4782b</td>\n",
              "      <td>62566aa432b19a0164d802be</td>\n",
              "      <td>61159be7649d1d0359dbb161</td>\n",
              "      <td>Chrome Mobile</td>\n",
              "      <td>View 3</td>\n",
              "      <td>B140DL</td>\n",
              "      <td>BLU</td>\n",
              "      <td>Android</td>\n",
              "      <td>...</td>\n",
              "      <td>Cellular</td>\n",
              "      <td>US</td>\n",
              "      <td>Verizon Wireless</td>\n",
              "      <td>New York</td>\n",
              "      <td>regwillcoverinzipcodes</td>\n",
              "      <td>Otly1SNLj0</td>\n",
              "      <td>solarpergola</td>\n",
              "      <td>NaN</td>\n",
              "      <td>0</td>\n",
              "      <td>1</td>\n",
              "    </tr>\n",
              "    <tr>\n",
              "      <th>1</th>\n",
              "      <td>0f2d1ec7-adcd-482c-985e-6aafc77afe73</td>\n",
              "      <td>6377366a6f84e2001a65fdfe</td>\n",
              "      <td>6272b7c8b45d5301581d3ddd</td>\n",
              "      <td>62566aa432b19a0164d802be</td>\n",
              "      <td>5e46d6787810b90011c91204</td>\n",
              "      <td>Chrome Mobile</td>\n",
              "      <td>Galaxy Tab 3 8.0</td>\n",
              "      <td>SM-T310</td>\n",
              "      <td>Samsung</td>\n",
              "      <td>Android</td>\n",
              "      <td>...</td>\n",
              "      <td>Cable/DSL</td>\n",
              "      <td>US</td>\n",
              "      <td>Spectrum</td>\n",
              "      <td>California</td>\n",
              "      <td>regwillcoverowninzipcode</td>\n",
              "      <td>2SUr_THGD</td>\n",
              "      <td>blondejudge2</td>\n",
              "      <td>NaN</td>\n",
              "      <td>1</td>\n",
              "      <td>0</td>\n",
              "    </tr>\n",
              "    <tr>\n",
              "      <th>2</th>\n",
              "      <td>887c5a9c-652a-488c-901f-a1f6e2610ec5</td>\n",
              "      <td>6377366a6f84e2001a65fdfe</td>\n",
              "      <td>634da21fd76a550019d0db34</td>\n",
              "      <td>637735d9b20e47001a2057c1</td>\n",
              "      <td>5e46d6787810b90011c91204</td>\n",
              "      <td>Safari</td>\n",
              "      <td>Macintosh</td>\n",
              "      <td>Macintosh</td>\n",
              "      <td>Apple</td>\n",
              "      <td>macOS</td>\n",
              "      <td>...</td>\n",
              "      <td>Cable/DSL</td>\n",
              "      <td>US</td>\n",
              "      <td>Cox Communications</td>\n",
              "      <td>Virginia</td>\n",
              "      <td>reggovcovercostownhomeinzip</td>\n",
              "      <td>4RY0zVSNww</td>\n",
              "      <td>blondejudge2</td>\n",
              "      <td>NaN</td>\n",
              "      <td>0</td>\n",
              "      <td>1</td>\n",
              "    </tr>\n",
              "    <tr>\n",
              "      <th>3</th>\n",
              "      <td>4f33bbf0-3373-48fc-a957-fec5faa948c6</td>\n",
              "      <td>6377366a6f84e2001a65fdfe</td>\n",
              "      <td>634da151d76a550019d0d9b3</td>\n",
              "      <td>6377333cb20e47001a2057c0</td>\n",
              "      <td>5e46d6787810b90011c91204</td>\n",
              "      <td>Chrome Mobile</td>\n",
              "      <td>Pixel 3a</td>\n",
              "      <td>Pixel 3a</td>\n",
              "      <td>Google</td>\n",
              "      <td>Android</td>\n",
              "      <td>...</td>\n",
              "      <td>Corporate</td>\n",
              "      <td>US</td>\n",
              "      <td>CenturyLink</td>\n",
              "      <td>Arizona</td>\n",
              "      <td>reggovcovercostownhomeinzip</td>\n",
              "      <td>WgXFI4Uq-I</td>\n",
              "      <td>blondejudge2</td>\n",
              "      <td>NaN</td>\n",
              "      <td>1</td>\n",
              "      <td>0</td>\n",
              "    </tr>\n",
              "    <tr>\n",
              "      <th>4</th>\n",
              "      <td>271ffac8-16f8-49d8-a0f3-68fe2d54d64d</td>\n",
              "      <td>6377366a6f84e2001a65fdfe</td>\n",
              "      <td>634dd59cd76a550019d0de6c</td>\n",
              "      <td>637735d9b20e47001a2057c1</td>\n",
              "      <td>5e46d6787810b90011c91204</td>\n",
              "      <td>Facebook for iOS</td>\n",
              "      <td>iPhone 11</td>\n",
              "      <td>iPhone 11</td>\n",
              "      <td>Apple</td>\n",
              "      <td>iOS</td>\n",
              "      <td>...</td>\n",
              "      <td>Corporate</td>\n",
              "      <td>US</td>\n",
              "      <td>Clearwave Communications</td>\n",
              "      <td>Illinois</td>\n",
              "      <td>reggovcovercostownhomeinzip</td>\n",
              "      <td>lzld1mh6bi</td>\n",
              "      <td>blondejudge2</td>\n",
              "      <td>NaN</td>\n",
              "      <td>1</td>\n",
              "      <td>0</td>\n",
              "    </tr>\n",
              "  </tbody>\n",
              "</table>\n",
              "<p>5 rows × 24 columns</p>\n",
              "</div>\n",
              "      <button class=\"colab-df-convert\" onclick=\"convertToInteractive('df-c33705e2-b580-4151-bc99-1aed9efbef01')\"\n",
              "              title=\"Convert this dataframe to an interactive table.\"\n",
              "              style=\"display:none;\">\n",
              "        \n",
              "  <svg xmlns=\"http://www.w3.org/2000/svg\" height=\"24px\"viewBox=\"0 0 24 24\"\n",
              "       width=\"24px\">\n",
              "    <path d=\"M0 0h24v24H0V0z\" fill=\"none\"/>\n",
              "    <path d=\"M18.56 5.44l.94 2.06.94-2.06 2.06-.94-2.06-.94-.94-2.06-.94 2.06-2.06.94zm-11 1L8.5 8.5l.94-2.06 2.06-.94-2.06-.94L8.5 2.5l-.94 2.06-2.06.94zm10 10l.94 2.06.94-2.06 2.06-.94-2.06-.94-.94-2.06-.94 2.06-2.06.94z\"/><path d=\"M17.41 7.96l-1.37-1.37c-.4-.4-.92-.59-1.43-.59-.52 0-1.04.2-1.43.59L10.3 9.45l-7.72 7.72c-.78.78-.78 2.05 0 2.83L4 21.41c.39.39.9.59 1.41.59.51 0 1.02-.2 1.41-.59l7.78-7.78 2.81-2.81c.8-.78.8-2.07 0-2.86zM5.41 20L4 18.59l7.72-7.72 1.47 1.35L5.41 20z\"/>\n",
              "  </svg>\n",
              "      </button>\n",
              "      \n",
              "  <style>\n",
              "    .colab-df-container {\n",
              "      display:flex;\n",
              "      flex-wrap:wrap;\n",
              "      gap: 12px;\n",
              "    }\n",
              "\n",
              "    .colab-df-convert {\n",
              "      background-color: #E8F0FE;\n",
              "      border: none;\n",
              "      border-radius: 50%;\n",
              "      cursor: pointer;\n",
              "      display: none;\n",
              "      fill: #1967D2;\n",
              "      height: 32px;\n",
              "      padding: 0 0 0 0;\n",
              "      width: 32px;\n",
              "    }\n",
              "\n",
              "    .colab-df-convert:hover {\n",
              "      background-color: #E2EBFA;\n",
              "      box-shadow: 0px 1px 2px rgba(60, 64, 67, 0.3), 0px 1px 3px 1px rgba(60, 64, 67, 0.15);\n",
              "      fill: #174EA6;\n",
              "    }\n",
              "\n",
              "    [theme=dark] .colab-df-convert {\n",
              "      background-color: #3B4455;\n",
              "      fill: #D2E3FC;\n",
              "    }\n",
              "\n",
              "    [theme=dark] .colab-df-convert:hover {\n",
              "      background-color: #434B5C;\n",
              "      box-shadow: 0px 1px 3px 1px rgba(0, 0, 0, 0.15);\n",
              "      filter: drop-shadow(0px 1px 2px rgba(0, 0, 0, 0.3));\n",
              "      fill: #FFFFFF;\n",
              "    }\n",
              "  </style>\n",
              "\n",
              "      <script>\n",
              "        const buttonEl =\n",
              "          document.querySelector('#df-c33705e2-b580-4151-bc99-1aed9efbef01 button.colab-df-convert');\n",
              "        buttonEl.style.display =\n",
              "          google.colab.kernel.accessAllowed ? 'block' : 'none';\n",
              "\n",
              "        async function convertToInteractive(key) {\n",
              "          const element = document.querySelector('#df-c33705e2-b580-4151-bc99-1aed9efbef01');\n",
              "          const dataTable =\n",
              "            await google.colab.kernel.invokeFunction('convertToInteractive',\n",
              "                                                     [key], {});\n",
              "          if (!dataTable) return;\n",
              "\n",
              "          const docLinkHtml = 'Like what you see? Visit the ' +\n",
              "            '<a target=\"_blank\" href=https://colab.research.google.com/notebooks/data_table.ipynb>data table notebook</a>'\n",
              "            + ' to learn more about interactive tables.';\n",
              "          element.innerHTML = '';\n",
              "          dataTable['output_type'] = 'display_data';\n",
              "          await google.colab.output.renderOutput(dataTable, element);\n",
              "          const docLink = document.createElement('div');\n",
              "          docLink.innerHTML = docLinkHtml;\n",
              "          element.appendChild(docLink);\n",
              "        }\n",
              "      </script>\n",
              "    </div>\n",
              "  </div>\n",
              "  "
            ]
          },
          "metadata": {},
          "execution_count": 4
        }
      ],
      "source": [
        "df.head()"
      ]
    },
    {
      "cell_type": "code",
      "execution_count": 5,
      "metadata": {
        "colab": {
          "base_uri": "https://localhost:8080/"
        },
        "id": "a43tmczGUaf4",
        "outputId": "5d30f4e2-3425-4744-d6d2-7cd547e7806b"
      },
      "outputs": [
        {
          "output_type": "execute_result",
          "data": {
            "text/plain": [
              "_id                                     object\n",
              "landing_pages_group_id                  object\n",
              "campaign_id                             object\n",
              "landing_page_id                         object\n",
              "traffic_source_id                       object\n",
              "visitor_device_browser                  object\n",
              "visitor_device_hardware_family          object\n",
              "visitor_device_hardware_model           object\n",
              "visitor_device_hardware_vendor          object\n",
              "visitor_device_os_family                object\n",
              "visitor_device_os_vendor                object\n",
              "visitor_device_os_version               object\n",
              "visitor_device_type                     object\n",
              "visitor_geo_location_cityName           object\n",
              "visitor_geo_location_connection_type    object\n",
              "visitor_geo_location_countryCode        object\n",
              "visitor_geo_location_isp                object\n",
              "visitor_geo_location_regionName         object\n",
              "visitor_tokens_adh                      object\n",
              "visitor_tokens_cadid                    object\n",
              "visitor_tokens_adi                      object\n",
              "visitor_tokens_add                      object\n",
              "converted_yes                            int64\n",
              "converted_no                             int64\n",
              "dtype: object"
            ]
          },
          "metadata": {},
          "execution_count": 5
        }
      ],
      "source": [
        "df.dtypes"
      ]
    },
    {
      "cell_type": "code",
      "execution_count": 6,
      "metadata": {
        "id": "AJKtQrTeFzz9"
      },
      "outputs": [],
      "source": [
        "df[\"visitor_device_hardware_family\"] = df[\"visitor_device_hardware_family\"].apply(str)\n",
        "df[\"visitor_device_hardware_model\"] = df[\"visitor_device_hardware_model\"].apply(str)\n",
        "df[\"visitor_device_os_version\"] = df[\"visitor_device_os_version\"].apply(str)\n",
        "df[\"visitor_device_hardware_family\"] = df[\"visitor_device_hardware_family\"].apply(str)\n",
        "df[\"visitor_device_hardware_model\"] = df[\"visitor_device_hardware_model\"].apply(str)\n",
        "df[\"visitor_device_os_version\"] = df[\"visitor_device_os_version\"].apply(str)\n",
        "df[\"visitor_tokens_adh\"] = df[\"visitor_tokens_adh\"].apply(str)\n",
        "df[\"visitor_tokens_cadid\"] = df[\"visitor_tokens_cadid\"].apply(str)\n",
        "df[\"converted_yes\"] = df[\"converted_yes\"].apply(str)\n",
        "df[\"converted_no\"] = df[\"converted_no\"].apply(str)"
      ]
    },
    {
      "cell_type": "code",
      "execution_count": 7,
      "metadata": {
        "id": "y0zD2rWY87BV"
      },
      "outputs": [],
      "source": [
        "#!pip install sweetviz"
      ]
    },
    {
      "cell_type": "code",
      "execution_count": 8,
      "metadata": {
        "id": "uFml64CP9BGh"
      },
      "outputs": [],
      "source": [
        "#import sweetviz as sv"
      ]
    },
    {
      "cell_type": "code",
      "execution_count": 9,
      "metadata": {
        "id": "VDJGuIX89EGM"
      },
      "outputs": [],
      "source": [
        "# Generar el reporte\n",
        "#sweet_report = sv.analyze(df)"
      ]
    },
    {
      "cell_type": "code",
      "execution_count": 10,
      "metadata": {
        "id": "TQRE6MF89L4R"
      },
      "outputs": [],
      "source": [
        "# Se muestra la salida\n",
        "#sweet_report.show_notebook()"
      ]
    },
    {
      "cell_type": "code",
      "execution_count": 11,
      "metadata": {
        "colab": {
          "base_uri": "https://localhost:8080/"
        },
        "id": "fbiWv_lfHobR",
        "outputId": "72bcf887-4709-4a15-86a4-313bff31aceb"
      },
      "outputs": [
        {
          "output_type": "execute_result",
          "data": {
            "text/plain": [
              "_id                                        0\n",
              "visitor_tokens_cadid                       0\n",
              "visitor_tokens_adh                         0\n",
              "visitor_device_type                        0\n",
              "converted_yes                              0\n",
              "visitor_device_os_vendor                   0\n",
              "visitor_device_os_family                   0\n",
              "visitor_device_hardware_vendor             0\n",
              "visitor_device_os_version                  0\n",
              "visitor_device_hardware_family             0\n",
              "visitor_device_browser                     0\n",
              "traffic_source_id                          0\n",
              "landing_page_id                            0\n",
              "campaign_id                                0\n",
              "landing_pages_group_id                     0\n",
              "visitor_device_hardware_model              0\n",
              "converted_no                               0\n",
              "visitor_geo_location_countryCode           3\n",
              "visitor_geo_location_regionName            3\n",
              "visitor_tokens_adi                         8\n",
              "visitor_geo_location_isp                 101\n",
              "visitor_geo_location_connection_type     102\n",
              "visitor_geo_location_cityName            142\n",
              "visitor_tokens_add                      6056\n",
              "dtype: int64"
            ]
          },
          "metadata": {},
          "execution_count": 11
        }
      ],
      "source": [
        "df.isna().sum().sort_values()"
      ]
    },
    {
      "cell_type": "code",
      "execution_count": 12,
      "metadata": {
        "colab": {
          "base_uri": "https://localhost:8080/"
        },
        "id": "tdsNpuBiHoTN",
        "outputId": "3f41f1c4-6229-4578-f314-6ea9a5e6cf7d"
      },
      "outputs": [
        {
          "output_type": "execute_result",
          "data": {
            "text/plain": [
              "(6057, 24)"
            ]
          },
          "metadata": {},
          "execution_count": 12
        }
      ],
      "source": [
        "df.shape"
      ]
    },
    {
      "cell_type": "code",
      "execution_count": 13,
      "metadata": {
        "id": "Oqgl8stx-Htu"
      },
      "outputs": [],
      "source": [
        "df = df.drop(['landing_pages_group_id','visitor_tokens_add', '_id'], axis=1)"
      ]
    },
    {
      "cell_type": "code",
      "execution_count": 14,
      "metadata": {
        "id": "t6kx6QeV-lK8"
      },
      "outputs": [],
      "source": [
        "df = df.drop_duplicates()"
      ]
    },
    {
      "cell_type": "code",
      "execution_count": 15,
      "metadata": {
        "colab": {
          "base_uri": "https://localhost:8080/"
        },
        "id": "90e4B00u-o6N",
        "outputId": "04808cd7-479b-4cb7-8d39-63b3651fbbf4"
      },
      "outputs": [
        {
          "output_type": "execute_result",
          "data": {
            "text/plain": [
              "campaign_id                               0\n",
              "visitor_tokens_cadid                      0\n",
              "visitor_tokens_adh                        0\n",
              "converted_yes                             0\n",
              "visitor_device_os_version                 0\n",
              "visitor_device_os_vendor                  0\n",
              "visitor_device_os_family                  0\n",
              "visitor_device_type                       0\n",
              "visitor_device_hardware_model             0\n",
              "visitor_device_hardware_family            0\n",
              "visitor_device_browser                    0\n",
              "traffic_source_id                         0\n",
              "landing_page_id                           0\n",
              "visitor_device_hardware_vendor            0\n",
              "converted_no                              0\n",
              "visitor_geo_location_countryCode          3\n",
              "visitor_geo_location_regionName           3\n",
              "visitor_tokens_adi                        6\n",
              "visitor_geo_location_isp                 69\n",
              "visitor_geo_location_connection_type     70\n",
              "visitor_geo_location_cityName           141\n",
              "dtype: int64"
            ]
          },
          "metadata": {},
          "execution_count": 15
        }
      ],
      "source": [
        "df.isna().sum().sort_values()"
      ]
    },
    {
      "cell_type": "code",
      "source": [
        "df.shape"
      ],
      "metadata": {
        "colab": {
          "base_uri": "https://localhost:8080/"
        },
        "id": "hkDcUf3Wsm7G",
        "outputId": "f4a129ac-511d-4826-b7f2-c1a77c4d0bd4"
      },
      "execution_count": 16,
      "outputs": [
        {
          "output_type": "execute_result",
          "data": {
            "text/plain": [
              "(5909, 21)"
            ]
          },
          "metadata": {},
          "execution_count": 16
        }
      ]
    },
    {
      "cell_type": "code",
      "execution_count": 17,
      "metadata": {
        "id": "SnN5E_zP-vl1"
      },
      "outputs": [],
      "source": [
        "# Imputamos la variable \n",
        "df['visitor_geo_location_countryCode'].fillna(df['visitor_geo_location_countryCode'].mode()[0], inplace=True)\n",
        "df['visitor_geo_location_regionName'].fillna(df['visitor_geo_location_regionName'].mode()[0], inplace=True)\n",
        "df['visitor_tokens_adi'].fillna(df['visitor_tokens_adi'].mode()[0], inplace=True)\n",
        "df['visitor_geo_location_isp'].fillna(df['visitor_geo_location_isp'].mode()[0], inplace=True)\n",
        "df['visitor_geo_location_connection_type'].fillna(df['visitor_geo_location_connection_type'].mode()[0], inplace=True)\n",
        "df['visitor_geo_location_cityName'].fillna(df['visitor_geo_location_cityName'].mode()[0], inplace=True)"
      ]
    },
    {
      "cell_type": "code",
      "execution_count": 18,
      "metadata": {
        "colab": {
          "base_uri": "https://localhost:8080/"
        },
        "id": "dKHWxTeQAQGm",
        "outputId": "6540e4ce-315b-4e13-a833-242bb8677508"
      },
      "outputs": [
        {
          "output_type": "execute_result",
          "data": {
            "text/plain": [
              "(5909, 21)"
            ]
          },
          "metadata": {},
          "execution_count": 18
        }
      ],
      "source": [
        "df.shape"
      ]
    },
    {
      "cell_type": "code",
      "execution_count": 19,
      "metadata": {
        "colab": {
          "base_uri": "https://localhost:8080/"
        },
        "id": "4a-cwd74Al92",
        "outputId": "fa51aaf7-0119-47e9-8d88-2a378730624b"
      },
      "outputs": [
        {
          "output_type": "execute_result",
          "data": {
            "text/plain": [
              "campaign_id                             0\n",
              "visitor_tokens_adi                      0\n",
              "visitor_tokens_cadid                    0\n",
              "visitor_tokens_adh                      0\n",
              "visitor_geo_location_regionName         0\n",
              "visitor_geo_location_isp                0\n",
              "visitor_geo_location_countryCode        0\n",
              "visitor_geo_location_connection_type    0\n",
              "visitor_geo_location_cityName           0\n",
              "converted_yes                           0\n",
              "visitor_device_type                     0\n",
              "visitor_device_os_vendor                0\n",
              "visitor_device_os_family                0\n",
              "visitor_device_hardware_vendor          0\n",
              "visitor_device_hardware_model           0\n",
              "visitor_device_hardware_family          0\n",
              "visitor_device_browser                  0\n",
              "traffic_source_id                       0\n",
              "landing_page_id                         0\n",
              "visitor_device_os_version               0\n",
              "converted_no                            0\n",
              "dtype: int64"
            ]
          },
          "metadata": {},
          "execution_count": 19
        }
      ],
      "source": [
        "df.isna().sum().sort_values()"
      ]
    },
    {
      "cell_type": "code",
      "execution_count": 20,
      "metadata": {
        "colab": {
          "base_uri": "https://localhost:8080/"
        },
        "id": "caDEzLtDAw5b",
        "outputId": "d50ab540-ccd4-474e-e7ec-4f1097091a70"
      },
      "outputs": [
        {
          "output_type": "execute_result",
          "data": {
            "text/plain": [
              "Index(['campaign_id', 'landing_page_id', 'traffic_source_id',\n",
              "       'visitor_device_browser', 'visitor_device_hardware_family',\n",
              "       'visitor_device_hardware_model', 'visitor_device_hardware_vendor',\n",
              "       'visitor_device_os_family', 'visitor_device_os_vendor',\n",
              "       'visitor_device_os_version', 'visitor_device_type',\n",
              "       'visitor_geo_location_cityName', 'visitor_geo_location_connection_type',\n",
              "       'visitor_geo_location_countryCode', 'visitor_geo_location_isp',\n",
              "       'visitor_geo_location_regionName', 'visitor_tokens_adh',\n",
              "       'visitor_tokens_cadid', 'visitor_tokens_adi', 'converted_yes',\n",
              "       'converted_no'],\n",
              "      dtype='object')"
            ]
          },
          "metadata": {},
          "execution_count": 20
        }
      ],
      "source": [
        "df.columns"
      ]
    },
    {
      "cell_type": "code",
      "execution_count": 21,
      "metadata": {
        "id": "-7YP24hjAzG6"
      },
      "outputs": [],
      "source": [
        "X = df[['campaign_id', 'traffic_source_id',\n",
        "       'visitor_device_browser', \n",
        "        'visitor_device_type',\n",
        "        'visitor_geo_location_countryCode',\n",
        "       'visitor_geo_location_regionName', 'visitor_tokens_adh',\n",
        "       'visitor_tokens_cadid', 'visitor_tokens_adi']]"
      ]
    },
    {
      "cell_type": "code",
      "execution_count": 22,
      "metadata": {
        "id": "CBFyRWFvA7kF"
      },
      "outputs": [],
      "source": [
        "X = X.astype(str).to_numpy()"
      ]
    },
    {
      "cell_type": "code",
      "execution_count": 23,
      "metadata": {
        "id": "dzjwZEbGAzOZ"
      },
      "outputs": [],
      "source": [
        "y = df[[\"landing_page_id\"]].to_numpy()"
      ]
    },
    {
      "cell_type": "code",
      "execution_count": 24,
      "metadata": {
        "colab": {
          "base_uri": "https://localhost:8080/"
        },
        "id": "6xXt-zogA-dk",
        "outputId": "ad476a71-0ba3-44f9-c32a-d6c4857d00bd"
      },
      "outputs": [
        {
          "output_type": "stream",
          "name": "stdout",
          "text": [
            "X shape: :  (5909, 9)\n"
          ]
        }
      ],
      "source": [
        "# encode string input values as integers\n",
        "encoded_x = None\n",
        "for i in range(0, X.shape[1]):\n",
        "    label_encoder = LabelEncoder()\n",
        "    feature = label_encoder.fit_transform(X[:,i])\n",
        "    feature = feature.reshape(X.shape[0], 1)\n",
        "    onehot_encoder = OrdinalEncoder()\n",
        "    feature = onehot_encoder.fit_transform(feature)\n",
        "    if encoded_x is None:\n",
        "        encoded_x = feature\n",
        "    else:\n",
        "        encoded_x = numpy.concatenate((encoded_x, feature), axis=1)\n",
        "print(\"X shape: : \", encoded_x.shape)\n"
      ]
    },
    {
      "cell_type": "code",
      "execution_count": 25,
      "metadata": {
        "colab": {
          "base_uri": "https://localhost:8080/"
        },
        "id": "GE_WkiJPA-gK",
        "outputId": "1cb34d1a-da18-4506-daf6-2a5630aed1b5"
      },
      "outputs": [
        {
          "output_type": "execute_result",
          "data": {
            "text/plain": [
              "array([[ 26.,   5.,   3., ...,  18.,  69.,   9.],\n",
              "       [  6.,   4.,   3., ...,  20.,   8.,   1.],\n",
              "       [ 23.,   4.,  33., ...,  12.,  17.,   1.],\n",
              "       ...,\n",
              "       [  2.,   0.,   3., ...,  20., 110.,   0.],\n",
              "       [ 22.,   4.,   3., ...,  12.,  82.,   2.],\n",
              "       [ 22.,   4.,   3., ...,  20., 114.,   1.]])"
            ]
          },
          "metadata": {},
          "execution_count": 25
        }
      ],
      "source": [
        "encoded_x"
      ]
    },
    {
      "cell_type": "code",
      "execution_count": 26,
      "metadata": {
        "colab": {
          "base_uri": "https://localhost:8080/"
        },
        "id": "sbTc56B2A-ik",
        "outputId": "de24407f-df50-41c4-e837-e7e6aa220269"
      },
      "outputs": [
        {
          "output_type": "stream",
          "name": "stderr",
          "text": [
            "/usr/local/lib/python3.7/dist-packages/sklearn/preprocessing/_label.py:98: DataConversionWarning: A column-vector y was passed when a 1d array was expected. Please change the shape of y to (n_samples, ), for example using ravel().\n",
            "  y = column_or_1d(y, warn=True)\n",
            "/usr/local/lib/python3.7/dist-packages/sklearn/preprocessing/_label.py:133: DataConversionWarning: A column-vector y was passed when a 1d array was expected. Please change the shape of y to (n_samples, ), for example using ravel().\n",
            "  y = column_or_1d(y, warn=True)\n"
          ]
        }
      ],
      "source": [
        "# encode string class values as integers\n",
        "label_encoder = LabelEncoder()\n",
        "label_encoder = label_encoder.fit(y)\n",
        "label_encoded_y = label_encoder.transform(y)\n",
        "# convert integers to dummy variables (i.e. one hot encoded)\n",
        "dummy_y = np_utils.to_categorical(label_encoded_y)"
      ]
    },
    {
      "cell_type": "code",
      "execution_count": 27,
      "metadata": {
        "colab": {
          "base_uri": "https://localhost:8080/"
        },
        "id": "IGjvfbs_eJKR",
        "outputId": "ded2c5a0-0317-4074-d5c4-be626ce596dc"
      },
      "outputs": [
        {
          "output_type": "execute_result",
          "data": {
            "text/plain": [
              "array([0, 0, 2, ..., 1, 0, 0])"
            ]
          },
          "metadata": {},
          "execution_count": 27
        }
      ],
      "source": [
        "label_encoded_y"
      ]
    },
    {
      "cell_type": "code",
      "execution_count": 28,
      "metadata": {
        "colab": {
          "base_uri": "https://localhost:8080/"
        },
        "id": "YnXC68vwYZew",
        "outputId": "73c81bbc-71eb-49f7-9194-76bc9d4424f0"
      },
      "outputs": [
        {
          "output_type": "execute_result",
          "data": {
            "text/plain": [
              "array([[1., 0., 0.],\n",
              "       [1., 0., 0.],\n",
              "       [0., 0., 1.],\n",
              "       ...,\n",
              "       [0., 1., 0.],\n",
              "       [1., 0., 0.],\n",
              "       [1., 0., 0.]], dtype=float32)"
            ]
          },
          "metadata": {},
          "execution_count": 28
        }
      ],
      "source": [
        "dummy_y"
      ]
    },
    {
      "cell_type": "code",
      "execution_count": 29,
      "metadata": {
        "id": "jxLVfIDkA-kp"
      },
      "outputs": [],
      "source": [
        "# split data into train and test sets\n",
        "X_train, X_test, y_train, y_test = train_test_split(encoded_x, dummy_y, test_size=0.30, random_state=123)"
      ]
    },
    {
      "cell_type": "code",
      "execution_count": 30,
      "metadata": {
        "id": "i56-v03TBYj0"
      },
      "outputs": [],
      "source": [
        "from sklearn.preprocessing import StandardScaler\n",
        "scaler=StandardScaler()\n",
        "scaler.fit(X_train)\n",
        "X_train=scaler.transform(X_train)\n",
        "X_test=scaler.transform(X_test)"
      ]
    },
    {
      "cell_type": "code",
      "execution_count": 31,
      "metadata": {
        "id": "WO4UbSPkBSYV"
      },
      "outputs": [],
      "source": [
        "# Definición del modelo\n",
        "def modelo_mlp(): \n",
        "    model = Sequential()\n",
        "    model.add(Dense(30, input_dim=X_train.shape[1], \n",
        "                kernel_initializer= 'he_uniform',\n",
        "                activation='relu', activity_regularizer=regularizers.l1(1e-4)))\n",
        "    model.add(BatchNormalization())\n",
        "    model.add(Dense(15, kernel_initializer= 'he_uniform',\n",
        "                activation='relu',activity_regularizer=regularizers.l1(1e-4)))\n",
        "    model.add(Dropout(0.2))\n",
        "    model.add(BatchNormalization())\n",
        "    model.add(Dense(10, kernel_initializer= 'he_uniform',\n",
        "                activation='relu',activity_regularizer=regularizers.l1(1e-4)))\n",
        "    model.add(Dropout(0.2))\n",
        "    model.add(BatchNormalization())  \n",
        "    model.add(Dense(3, kernel_initializer= 'he_uniform',\n",
        "                activation='softmax'))\n",
        "    model.compile(loss='categorical_crossentropy', optimizer='adam',\n",
        "                metrics=['accuracy'])\n",
        "    #model.summary()\n",
        "    return model"
      ]
    },
    {
      "cell_type": "code",
      "execution_count": 32,
      "metadata": {
        "id": "I3HiwZHSUvnP"
      },
      "outputs": [],
      "source": [
        "model = modelo_mlp()"
      ]
    },
    {
      "cell_type": "code",
      "source": [
        "import pandas\n",
        "from keras.models import Sequential\n",
        "from keras.layers import Dense\n",
        "from keras.wrappers.scikit_learn import KerasClassifier\n",
        "from keras.utils import np_utils\n",
        "from sklearn.model_selection import cross_val_score\n",
        "from sklearn.model_selection import KFold\n",
        "from sklearn.preprocessing import LabelEncoder\n",
        "from sklearn.pipeline import Pipeline"
      ],
      "metadata": {
        "id": "S_9U_jBmkaHX"
      },
      "execution_count": 33,
      "outputs": []
    },
    {
      "cell_type": "code",
      "source": [
        "estimator = KerasClassifier(build_fn=modelo_mlp, epochs=100, batch_size=32, verbose=0)\n",
        "kfold = KFold(n_splits=10, shuffle=True)\n",
        "results = cross_val_score(estimator, X_train, y_train, cv=kfold)\n",
        "print(\"Baseline: %.2f%% (%.2f%%)\" % (results.mean()*100, results.std()*100))"
      ],
      "metadata": {
        "colab": {
          "base_uri": "https://localhost:8080/"
        },
        "id": "1hdFQ-yjkLKM",
        "outputId": "efb71559-7c5b-4216-845b-5a568bfbf89f"
      },
      "execution_count": 34,
      "outputs": [
        {
          "output_type": "stream",
          "name": "stderr",
          "text": [
            "/usr/local/lib/python3.7/dist-packages/ipykernel_launcher.py:1: DeprecationWarning: KerasClassifier is deprecated, use Sci-Keras (https://github.com/adriangb/scikeras) instead. See https://www.adriangb.com/scikeras/stable/migration.html for help migrating.\n",
            "  \"\"\"Entry point for launching an IPython kernel.\n"
          ]
        },
        {
          "output_type": "stream",
          "name": "stdout",
          "text": [
            "Baseline: 44.88% (2.98%)\n"
          ]
        }
      ]
    },
    {
      "cell_type": "code",
      "source": [
        "estimator.fit(X_train, y_train)"
      ],
      "metadata": {
        "colab": {
          "base_uri": "https://localhost:8080/"
        },
        "id": "j-dxpvzZOPuc",
        "outputId": "9c3bb91b-f839-41ab-85cc-dcf400caedba"
      },
      "execution_count": 52,
      "outputs": [
        {
          "output_type": "execute_result",
          "data": {
            "text/plain": [
              "<keras.callbacks.History at 0x7f2756f88190>"
            ]
          },
          "metadata": {},
          "execution_count": 52
        }
      ]
    },
    {
      "cell_type": "code",
      "source": [
        "predictions = estimator.predict(X_test)\n",
        "print(predictions)\n",
        "print(label_encoder.inverse_transform(predictions))"
      ],
      "metadata": {
        "colab": {
          "base_uri": "https://localhost:8080/"
        },
        "id": "RAQ5YLICkLRg",
        "outputId": "edf1444e-9dc6-4ade-c375-b786cc9945da"
      },
      "execution_count": 53,
      "outputs": [
        {
          "output_type": "stream",
          "name": "stdout",
          "text": [
            "56/56 [==============================] - 1s 2ms/step\n",
            "[1 2 0 ... 0 2 1]\n",
            "['6377333cb20e47001a2057c0' '637735d9b20e47001a2057c1'\n",
            " '62566aa432b19a0164d802be' ... '62566aa432b19a0164d802be'\n",
            " '637735d9b20e47001a2057c1' '6377333cb20e47001a2057c0']\n"
          ]
        }
      ]
    },
    {
      "cell_type": "code",
      "source": [
        "predictions = estimator.predict(X_test[1:2])\n",
        "print(predictions)\n",
        "print(label_encoder.inverse_transform(predictions))"
      ],
      "metadata": {
        "colab": {
          "base_uri": "https://localhost:8080/"
        },
        "id": "uRiVy921kLUQ",
        "outputId": "6b22f6ff-5593-4c34-f406-f5f335a1f85a"
      },
      "execution_count": 54,
      "outputs": [
        {
          "output_type": "stream",
          "name": "stdout",
          "text": [
            "1/1 [==============================] - 0s 17ms/step\n",
            "[2]\n",
            "['637735d9b20e47001a2057c1']\n"
          ]
        }
      ]
    },
    {
      "cell_type": "code",
      "source": [
        "predictions = estimator.predict(X_test[10:11])\n",
        "print(predictions)\n",
        "print(label_encoder.inverse_transform(predictions))"
      ],
      "metadata": {
        "colab": {
          "base_uri": "https://localhost:8080/"
        },
        "id": "H8shx9dxkLW_",
        "outputId": "25e4cf9d-14dc-4e30-ba49-19d3bc429775"
      },
      "execution_count": 56,
      "outputs": [
        {
          "output_type": "stream",
          "name": "stdout",
          "text": [
            "1/1 [==============================] - 0s 22ms/step\n",
            "[1]\n",
            "['6377333cb20e47001a2057c0']\n"
          ]
        }
      ]
    },
    {
      "cell_type": "code",
      "source": [
        "predictions = estimator.predict(X_test[50:51])\n",
        "print(predictions)\n",
        "print(label_encoder.inverse_transform(predictions))"
      ],
      "metadata": {
        "colab": {
          "base_uri": "https://localhost:8080/"
        },
        "id": "sxMdElCrPFkN",
        "outputId": "942fc959-6d69-4bbf-8210-87e59ed49a8f"
      },
      "execution_count": 59,
      "outputs": [
        {
          "output_type": "stream",
          "name": "stdout",
          "text": [
            "1/1 [==============================] - 0s 16ms/step\n",
            "[0]\n",
            "['62566aa432b19a0164d802be']\n"
          ]
        }
      ]
    },
    {
      "cell_type": "code",
      "source": [],
      "metadata": {
        "id": "IC4v9G1FPFqz"
      },
      "execution_count": null,
      "outputs": []
    },
    {
      "cell_type": "code",
      "source": [],
      "metadata": {
        "id": "5fKUQtAPPFuW"
      },
      "execution_count": null,
      "outputs": []
    },
    {
      "cell_type": "code",
      "source": [],
      "metadata": {
        "id": "S1hSQAIbPFxF"
      },
      "execution_count": null,
      "outputs": []
    },
    {
      "cell_type": "code",
      "execution_count": 35,
      "metadata": {
        "id": "NfffQIygUvuY"
      },
      "outputs": [],
      "source": [
        "# Entrenamos el modelo con el dataset\n",
        "#history=model.fit(X_train, y_train, epochs=100, batch_size=32, validation_data=(X_test, y_test), shuffle=False)"
      ]
    },
    {
      "cell_type": "code",
      "execution_count": 36,
      "metadata": {
        "id": "KWug_BRZUvxN"
      },
      "outputs": [],
      "source": [
        "#loss, accuracy = model.evaluate(X_train, y_train, verbose=False)\n",
        "#print(\"Precisión Entrenamiento: {:.4f}\".format(accuracy))\n",
        "#loss, accuracy = model.evaluate(X_test, y_test, verbose=False)\n",
        "#print(\"Precisión Prueba:  {:.4f}\".format(accuracy))"
      ]
    },
    {
      "cell_type": "code",
      "execution_count": 37,
      "metadata": {
        "id": "H0yK_NpgKPeP"
      },
      "outputs": [],
      "source": [
        "#from matplotlib import pyplot\n",
        "#from numpy import array\n",
        "# plot train and validation loss\n",
        "#pyplot.plot(history.history['loss'])\n",
        "#pyplot.plot(history.history['val_loss'])\n",
        "#pyplot.title('model train vs validation loss')\n",
        "#pyplot.ylabel('loss')\n",
        "#pyplot.xlabel('epoch')\n",
        "#pyplot.legend(['train', 'validation'], loc='upper right')\n",
        "#pyplot.show()"
      ]
    },
    {
      "cell_type": "code",
      "execution_count": 38,
      "metadata": {
        "id": "rP0iEOChQCiO"
      },
      "outputs": [],
      "source": [
        "#Making confusion matrix that checks accuracy of the model\n",
        "#from sklearn.metrics import confusion_matrix\n",
        "#from sklearn.metrics import ConfusionMatrixDisplay"
      ]
    },
    {
      "cell_type": "code",
      "execution_count": 39,
      "metadata": {
        "id": "vUai4GqqA2_T"
      },
      "outputs": [],
      "source": [
        "#y_pred=model.predict(X_test) \n",
        "#y_pred=np.argmax(y_pred, axis=1)\n",
        "#y_test=np.argmax(y_test, axis=1)\n",
        "#cm = confusion_matrix(y_test, y_pred)\n",
        "#disp = ConfusionMatrixDisplay(confusion_matrix=cm)\n",
        "#disp.plot()\n",
        "\n",
        "#plt.show()"
      ]
    },
    {
      "cell_type": "code",
      "execution_count": 40,
      "metadata": {
        "id": "Lmp-3IkiA9--"
      },
      "outputs": [],
      "source": [
        "#from sklearn.metrics import classification_report\n",
        "#report = classification_report(y_test, y_pred)\n",
        "#print(report)"
      ]
    },
    {
      "cell_type": "code",
      "execution_count": 41,
      "metadata": {
        "id": "JOR3BdY4LCFC"
      },
      "outputs": [],
      "source": [
        "# make class predictions with the model\n",
        "#predictions = (model.predict(X_test[1:2]))\n",
        "#predictions"
      ]
    },
    {
      "cell_type": "code",
      "execution_count": 42,
      "metadata": {
        "id": "eZq5E3MnhgQ9"
      },
      "outputs": [],
      "source": [
        "# make class predictions with the model\n",
        "#predictions = (model.predict(X_test[1:2])).argmax(1)\n",
        "#predictions"
      ]
    },
    {
      "cell_type": "code",
      "execution_count": 43,
      "metadata": {
        "id": "3SvSOUGfhxnL"
      },
      "outputs": [],
      "source": [
        "#print(label_encoder.inverse_transform(predictions))"
      ]
    },
    {
      "cell_type": "code",
      "execution_count": 44,
      "metadata": {
        "id": "72H7mN_Thz0q"
      },
      "outputs": [],
      "source": [
        "#from keras.models import load_model \n",
        "#model.save(\"model_6377366a6f84e2001a65fdfe.h5\") \n",
        "#loaded_model = load_model(\"model_6377366a6f84e2001a65fdfe.h5\")"
      ]
    },
    {
      "cell_type": "code",
      "execution_count": 45,
      "metadata": {
        "id": "iM4dyHQNjnTy"
      },
      "outputs": [],
      "source": [
        "# make class predictions with the model\n",
        "#predictions = (model.predict(X_test[1:2]))\n",
        "#predictions"
      ]
    },
    {
      "cell_type": "code",
      "execution_count": 46,
      "metadata": {
        "id": "ObPqe76thz8i"
      },
      "outputs": [],
      "source": [
        "# make class predictions with the model\n",
        "#predictions = (loaded_model.predict(X_test[1:2])).argmax(1)\n",
        "#predictions"
      ]
    },
    {
      "cell_type": "code",
      "execution_count": 47,
      "metadata": {
        "id": "vaF7mFxPhz_v"
      },
      "outputs": [],
      "source": [
        "#rint(label_encoder.inverse_transform(predictions))"
      ]
    }
  ],
  "metadata": {
    "colab": {
      "provenance": [],
      "include_colab_link": true
    },
    "kernelspec": {
      "display_name": "Python 3",
      "name": "python3"
    },
    "language_info": {
      "name": "python"
    },
    "accelerator": "GPU",
    "gpuClass": "standard"
  },
  "nbformat": 4,
  "nbformat_minor": 0
}