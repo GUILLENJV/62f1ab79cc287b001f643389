{
  "nbformat": 4,
  "nbformat_minor": 0,
  "metadata": {
    "colab": {
      "provenance": [],
      "collapsed_sections": [],
      "include_colab_link": true
    },
    "kernelspec": {
      "name": "python3",
      "display_name": "Python 3"
    },
    "language_info": {
      "name": "python"
    }
  },
  "cells": [
    {
      "cell_type": "markdown",
      "metadata": {
        "id": "view-in-github",
        "colab_type": "text"
      },
      "source": [
        "<a href=\"https://colab.research.google.com/github/GUILLENJV/62f1ab79cc287b001f643389/blob/master/Grid_Search_Hyperparameters_MULTICLASS_MODEL_.ipynb\" target=\"_parent\"><img src=\"https://colab.research.google.com/assets/colab-badge.svg\" alt=\"Open In Colab\"/></a>"
      ]
    },
    {
      "cell_type": "markdown",
      "source": [
        "# Grid Search Hyperparameters MULTICLASS MODEL"
      ],
      "metadata": {
        "id": "ndwgPlN4HEto"
      }
    },
    {
      "cell_type": "code",
      "source": [
        "# example of learned embedding encoding for a neural network\n",
        "from numpy import unique\n",
        "import numpy\n",
        "from numpy import array\n",
        "import pandas as pd\n",
        "import datetime \n",
        "from time import sleep\n",
        "from tqdm import tqdm\n",
        "import os\n",
        "from pandas import read_csv\n",
        "from sklearn.model_selection import train_test_split\n",
        "import json\n",
        "import tensorflow as tf\n",
        "from tensorflow import keras\n",
        "from keras.utils import np_utils\n",
        "import requests\n",
        "import numpy as np\n",
        "from sklearn.preprocessing import LabelEncoder\n",
        "from sklearn.preprocessing import OneHotEncoder\n",
        "from sklearn.preprocessing import OrdinalEncoder\n",
        "from tensorflow.keras.layers import BatchNormalization\n",
        "from sklearn.preprocessing import StandardScaler\n",
        "from keras.regularizers import l1\n",
        "from keras.regularizers import l2\n",
        "from tensorflow.keras.layers import Dense, Dropout, Flatten\n",
        "from tensorflow.keras.callbacks import EarlyStopping\n",
        "from keras.utils.vis_utils import plot_model\n",
        "from keras.models import Sequential\n",
        "import tensorflow as tf\n",
        "from tensorflow import keras\n",
        "from tensorflow.keras import regularizers\n",
        "from keras.utils.vis_utils import plot_model\n",
        "from matplotlib import pyplot\n",
        "import matplotlib.pyplot as plt\n",
        "import seaborn as sns\n",
        "# Use scikit-learn to grid search the batch size and epochs\n",
        "from sklearn.model_selection import GridSearchCV\n",
        "from keras.wrappers.scikit_learn import KerasClassifier"
      ],
      "metadata": {
        "id": "YEN_sUdX19iW"
      },
      "execution_count": null,
      "outputs": []
    },
    {
      "cell_type": "code",
      "source": [
        "# carga los datos\n",
        "df = pd.read_csv('631d8277776f1d001a21e6eb.csv') \n",
        "df = df.drop_duplicates()\n",
        "\n",
        "df[\"visitor_device_hardware_family\"] = df[\"visitor_device_hardware_family\"].apply(str)\n",
        "df[\"visitor_device_hardware_model\"] = df[\"visitor_device_hardware_model\"].apply(str)\n",
        "df[\"visitor_device_os_version\"] = df[\"visitor_device_os_version\"].apply(str)\n",
        "df[\"visitor_device_hardware_family\"] = df[\"visitor_device_hardware_family\"].apply(str)\n",
        "df[\"visitor_device_hardware_model\"] = df[\"visitor_device_hardware_model\"].apply(str)\n",
        "df[\"visitor_device_os_version\"] = df[\"visitor_device_os_version\"].apply(str)\n",
        "df[\"visitor_tokens_adh\"] = df[\"visitor_tokens_adh\"].apply(str)\n",
        "df[\"visitor_tokens_cadid\"] = df[\"visitor_tokens_cadid\"].apply(str)\n",
        "df[\"converted_yes\"] = df[\"converted_yes\"].apply(str)\n",
        "df[\"converted_no\"] = df[\"converted_no\"].apply(str)\n",
        "\n",
        "# Imputamos la variable \n",
        "df['visitor_device_os_vendor'].fillna(df['visitor_device_os_vendor'].mode()[0], inplace=True)\n",
        "df['campaign_id'].fillna(df['campaign_id'].mode()[0], inplace=True)\n",
        "df['visitor_device_hardware_vendor'].fillna(df['visitor_device_hardware_vendor'].mode()[0], inplace=True)\n",
        "df['visitor_device_browser'].fillna(df['visitor_device_browser'].mode()[0], inplace=True)\n",
        "df['traffic_source_id'].fillna(df['traffic_source_id'].mode()[0], inplace=True)\n",
        "df['landing_page_id'].fillna(df['landing_page_id'].mode()[0], inplace=True)\n",
        "df['visitor_device_os_family'].fillna(df['visitor_device_os_family'].mode()[0], inplace=True)\n",
        "df['visitor_device_type'].fillna(df['visitor_device_type'].mode()[0], inplace=True)\n",
        "df['visitor_geo_location_countryCode'].fillna(df['visitor_geo_location_countryCode'].mode()[0], inplace=True)\n",
        "df['visitor_geo_location_regionName'].fillna(df['visitor_geo_location_regionName'].mode()[0], inplace=True)\n",
        "df['visitor_tokens_adi'].fillna(df['visitor_tokens_adi'].mode()[0], inplace=True)\n",
        "df['visitor_geo_location_isp'].fillna(df['visitor_geo_location_isp'].mode()[0], inplace=True)\n",
        "df['visitor_geo_location_connection_type'].fillna(df['visitor_geo_location_connection_type'].mode()[0], inplace=True)\n",
        "df['visitor_geo_location_cityName'].fillna(df['visitor_geo_location_cityName'].mode()[0], inplace=True)\n",
        "\n",
        "df = df.drop(['landing_pages_group_id','visitor_tokens_add'], axis=1)\n",
        "\n",
        "X = df[['campaign_id', 'traffic_source_id',\n",
        "       'visitor_device_browser', 'visitor_device_hardware_family',\n",
        "       'visitor_device_hardware_model', 'visitor_device_hardware_vendor',\n",
        "       'visitor_device_os_family', 'visitor_device_os_vendor',\n",
        "       'visitor_device_os_version', 'visitor_device_type',\n",
        "       'visitor_geo_location_cityName', 'visitor_geo_location_connection_type',\n",
        "       'visitor_geo_location_countryCode', 'visitor_geo_location_isp',\n",
        "       'visitor_geo_location_regionName', 'visitor_tokens_adh',\n",
        "       'visitor_tokens_cadid', 'visitor_tokens_adi', 'converted_yes',\n",
        "       'converted_no']]\n",
        "\n",
        "X = X.astype(str).to_numpy()\n",
        "y = df[[\"landing_page_id\"]].to_numpy()\n",
        "\n",
        "# encode string input values as integers\n",
        "encoded_x = None\n",
        "for i in range(0, X.shape[1]):\n",
        "    label_encoder = LabelEncoder()\n",
        "    feature = label_encoder.fit_transform(X[:,i])\n",
        "    feature = feature.reshape(X.shape[0], 1)\n",
        "    onehot_encoder = OrdinalEncoder()\n",
        "    feature = onehot_encoder.fit_transform(feature)\n",
        "    if encoded_x is None:\n",
        "        encoded_x = feature\n",
        "    else:\n",
        "        encoded_x = numpy.concatenate((encoded_x, feature), axis=1)\n",
        "#print(\"X shape: : \", encoded_x.shape)\n",
        "\n",
        "# encode string class values as integers\n",
        "label_encoder = LabelEncoder()\n",
        "label_encoder = label_encoder.fit(y)\n",
        "label_encoded_y = label_encoder.transform(y)\n",
        "dummy_y = np_utils.to_categorical(label_encoded_y)\n",
        "\n",
        "# split data into train and test sets\n",
        "X_train, X_test, y_train, y_test = train_test_split(encoded_x, dummy_y, test_size=0.30, random_state=123)\n",
        "\n",
        "scaler=StandardScaler()\n",
        "scaler.fit(X_train)\n",
        "X_train=scaler.transform(X_train)\n",
        "X_test=scaler.transform(X_test)\n",
        "\n",
        "# fix random seed for reproducibility\n",
        "seed = 7\n",
        "numpy.random.seed(seed)"
      ],
      "metadata": {
        "id": "34_vwhTyHQ3l",
        "colab": {
          "base_uri": "https://localhost:8080/"
        },
        "outputId": "973202e8-97ab-42dd-a59b-1b7a53636e27"
      },
      "execution_count": null,
      "outputs": [
        {
          "output_type": "stream",
          "name": "stderr",
          "text": [
            "/usr/local/lib/python3.7/dist-packages/sklearn/preprocessing/_label.py:98: DataConversionWarning: A column-vector y was passed when a 1d array was expected. Please change the shape of y to (n_samples, ), for example using ravel().\n",
            "  y = column_or_1d(y, warn=True)\n",
            "/usr/local/lib/python3.7/dist-packages/sklearn/preprocessing/_label.py:133: DataConversionWarning: A column-vector y was passed when a 1d array was expected. Please change the shape of y to (n_samples, ), for example using ravel().\n",
            "  y = column_or_1d(y, warn=True)\n"
          ]
        }
      ]
    },
    {
      "cell_type": "markdown",
      "source": [
        "# 1. Batch Size and Number of Epochs"
      ],
      "metadata": {
        "id": "Glnxs5qc9bka"
      }
    },
    {
      "cell_type": "code",
      "source": [
        "# Definición del modelo\n",
        "def modelo_mlp(): \n",
        "    model = Sequential()\n",
        "    model.add(Dense(20, input_dim=X_train.shape[1], \n",
        "                kernel_initializer= 'he_uniform',\n",
        "                activation='relu', activity_regularizer=regularizers.l1(1e-4)))\n",
        "    model.add(BatchNormalization())\n",
        "    model.add(Dense(10, kernel_initializer= 'he_uniform',\n",
        "                activation='relu',activity_regularizer=regularizers.l1(1e-4)))\n",
        "    model.add(Dropout(0.3))\n",
        "    model.add(BatchNormalization())\n",
        "    model.add(Dense(5, kernel_initializer= 'he_uniform',\n",
        "                activation='relu',activity_regularizer=regularizers.l1(1e-4)))\n",
        "    model.add(Dropout(0.3))\n",
        "    model.add(BatchNormalization())  \n",
        "    model.add(Dense(3, kernel_initializer= 'he_uniform',\n",
        "                activation='softmax'))\n",
        "    model.compile(loss='categorical_crossentropy', optimizer='adam',\n",
        "                metrics=['accuracy'])\n",
        "    model.summary()\n",
        "    return model"
      ],
      "metadata": {
        "id": "53H2PhhOCR7v"
      },
      "execution_count": null,
      "outputs": []
    },
    {
      "cell_type": "code",
      "source": [
        "# create model\n",
        "model = KerasClassifier(build_fn=modelo_mlp, verbose=0)\n",
        "# define the grid search parameters\n",
        "batch_size = [32, 64, 128]\n",
        "epochs = [10, 50, 100]\n",
        "param_grid = dict(batch_size=batch_size, epochs=epochs)\n",
        "grid = GridSearchCV(estimator=model, param_grid=param_grid, n_jobs=-1, cv=3)\n",
        "grid_result = grid.fit(X_train, y_train)"
      ],
      "metadata": {
        "colab": {
          "base_uri": "https://localhost:8080/"
        },
        "id": "ij3ADgUG6fm6",
        "outputId": "44b4c7d4-98d4-49fe-f5cb-46a2908f44ef"
      },
      "execution_count": null,
      "outputs": [
        {
          "output_type": "stream",
          "name": "stderr",
          "text": [
            "/usr/local/lib/python3.7/dist-packages/ipykernel_launcher.py:2: DeprecationWarning: KerasClassifier is deprecated, use Sci-Keras (https://github.com/adriangb/scikeras) instead. See https://www.adriangb.com/scikeras/stable/migration.html for help migrating.\n",
            "  \n"
          ]
        },
        {
          "output_type": "stream",
          "name": "stdout",
          "text": [
            "Model: \"sequential\"\n",
            "_________________________________________________________________\n",
            " Layer (type)                Output Shape              Param #   \n",
            "=================================================================\n",
            " dense (Dense)               (None, 20)                420       \n",
            "                                                                 \n",
            " batch_normalization (BatchN  (None, 20)               80        \n",
            " ormalization)                                                   \n",
            "                                                                 \n",
            " dense_1 (Dense)             (None, 10)                210       \n",
            "                                                                 \n",
            " dropout (Dropout)           (None, 10)                0         \n",
            "                                                                 \n",
            " batch_normalization_1 (Batc  (None, 10)               40        \n",
            " hNormalization)                                                 \n",
            "                                                                 \n",
            " dense_2 (Dense)             (None, 5)                 55        \n",
            "                                                                 \n",
            " dropout_1 (Dropout)         (None, 5)                 0         \n",
            "                                                                 \n",
            " batch_normalization_2 (Batc  (None, 5)                20        \n",
            " hNormalization)                                                 \n",
            "                                                                 \n",
            " dense_3 (Dense)             (None, 3)                 18        \n",
            "                                                                 \n",
            "=================================================================\n",
            "Total params: 843\n",
            "Trainable params: 773\n",
            "Non-trainable params: 70\n",
            "_________________________________________________________________\n"
          ]
        }
      ]
    },
    {
      "cell_type": "code",
      "source": [
        "# summarize results\n",
        "print(\"Best: %f using %s\" % (grid_result.best_score_, grid_result.best_params_))\n",
        "means = grid_result.cv_results_['mean_test_score']\n",
        "stds = grid_result.cv_results_['std_test_score']\n",
        "params = grid_result.cv_results_['params']\n",
        "for mean, stdev, param in zip(means, stds, params):\n",
        "    print(\"%f (%f) with: %r\" % (mean, stdev, param))"
      ],
      "metadata": {
        "colab": {
          "base_uri": "https://localhost:8080/"
        },
        "id": "DFLN7c5z652J",
        "outputId": "ef179f3a-6bc4-403f-f5d5-34e77a89249b"
      },
      "execution_count": null,
      "outputs": [
        {
          "output_type": "stream",
          "name": "stdout",
          "text": [
            "Best: 0.634477 using {'batch_size': 64, 'epochs': 100}\n",
            "0.598941 (0.014190) with: {'batch_size': 32, 'epochs': 10}\n",
            "0.631013 (0.004423) with: {'batch_size': 32, 'epochs': 50}\n",
            "0.634477 (0.007368) with: {'batch_size': 32, 'epochs': 100}\n",
            "0.560860 (0.005970) with: {'batch_size': 64, 'epochs': 10}\n",
            "0.610242 (0.010985) with: {'batch_size': 64, 'epochs': 50}\n",
            "0.634477 (0.009753) with: {'batch_size': 64, 'epochs': 100}\n",
            "0.556675 (0.024290) with: {'batch_size': 128, 'epochs': 10}\n",
            "0.626278 (0.009530) with: {'batch_size': 128, 'epochs': 50}\n",
            "0.634476 (0.003692) with: {'batch_size': 128, 'epochs': 100}\n"
          ]
        }
      ]
    },
    {
      "cell_type": "markdown",
      "source": [
        "#2. Training Optimization Algorithm"
      ],
      "metadata": {
        "id": "IBg-9dYi9iaw"
      }
    },
    {
      "cell_type": "code",
      "source": [
        "# Definición del modelo\n",
        "def modelo_mlp(optimizer='adam'): \n",
        "    model = Sequential()\n",
        "    model.add(Dense(20, input_dim=X_train.shape[1], \n",
        "                kernel_initializer= 'he_uniform',\n",
        "                activation='relu', activity_regularizer=regularizers.l1(1e-4)))\n",
        "    model.add(BatchNormalization())\n",
        "    model.add(Dense(10, kernel_initializer= 'he_uniform',\n",
        "                activation='relu',activity_regularizer=regularizers.l1(1e-4)))\n",
        "    model.add(Dropout(0.3))\n",
        "    model.add(BatchNormalization())\n",
        "    model.add(Dense(5, kernel_initializer= 'he_uniform',\n",
        "                activation='relu',activity_regularizer=regularizers.l1(1e-4)))\n",
        "    model.add(Dropout(0.3))\n",
        "    model.add(BatchNormalization())  \n",
        "    model.add(Dense(3, kernel_initializer= 'he_uniform',\n",
        "                activation='softmax'))\n",
        "    model.compile(loss='categorical_crossentropy', optimizer='adam',\n",
        "                metrics=['accuracy'])\n",
        "    model.summary()\n",
        "    return model"
      ],
      "metadata": {
        "id": "PwQ5FFPgBh2j"
      },
      "execution_count": null,
      "outputs": []
    },
    {
      "cell_type": "code",
      "source": [
        "# create model\n",
        "model = KerasClassifier(build_fn=modelo_mlp, epochs=100, batch_size=32, verbose=0)\n",
        "# define the grid search parameters\n",
        "optimizer = ['SGD', 'RMSprop', 'Adagrad', 'Adadelta', 'Adam', 'Adamax', 'Nadam']\n",
        "param_grid = dict(optimizer=optimizer)\n",
        "grid = GridSearchCV(estimator=model, param_grid=param_grid, n_jobs=-1, cv=3)\n",
        "grid_result = grid.fit(X_train, y_train)"
      ],
      "metadata": {
        "colab": {
          "base_uri": "https://localhost:8080/"
        },
        "id": "WiQI0PJp9hzv",
        "outputId": "e7983723-f0e5-4f08-cdae-5a9dfad3d76a"
      },
      "execution_count": null,
      "outputs": [
        {
          "output_type": "stream",
          "name": "stderr",
          "text": [
            "/usr/local/lib/python3.7/dist-packages/ipykernel_launcher.py:2: DeprecationWarning: KerasClassifier is deprecated, use Sci-Keras (https://github.com/adriangb/scikeras) instead. See https://www.adriangb.com/scikeras/stable/migration.html for help migrating.\n",
            "  \n"
          ]
        },
        {
          "output_type": "stream",
          "name": "stdout",
          "text": [
            "Model: \"sequential_2\"\n",
            "_________________________________________________________________\n",
            " Layer (type)                Output Shape              Param #   \n",
            "=================================================================\n",
            " dense_8 (Dense)             (None, 20)                420       \n",
            "                                                                 \n",
            " batch_normalization_6 (Batc  (None, 20)               80        \n",
            " hNormalization)                                                 \n",
            "                                                                 \n",
            " dense_9 (Dense)             (None, 10)                210       \n",
            "                                                                 \n",
            " dropout_2 (Dropout)         (None, 10)                0         \n",
            "                                                                 \n",
            " batch_normalization_7 (Batc  (None, 10)               40        \n",
            " hNormalization)                                                 \n",
            "                                                                 \n",
            " dense_10 (Dense)            (None, 5)                 55        \n",
            "                                                                 \n",
            " dropout_3 (Dropout)         (None, 5)                 0         \n",
            "                                                                 \n",
            " batch_normalization_8 (Batc  (None, 5)                20        \n",
            " hNormalization)                                                 \n",
            "                                                                 \n",
            " dense_11 (Dense)            (None, 3)                 18        \n",
            "                                                                 \n",
            "=================================================================\n",
            "Total params: 843\n",
            "Trainable params: 773\n",
            "Non-trainable params: 70\n",
            "_________________________________________________________________\n"
          ]
        }
      ]
    },
    {
      "cell_type": "code",
      "source": [
        "# summarize results\n",
        "print(\"Best: %f using %s\" % (grid_result.best_score_, grid_result.best_params_))\n",
        "means = grid_result.cv_results_['mean_test_score']\n",
        "stds = grid_result.cv_results_['std_test_score']\n",
        "params = grid_result.cv_results_['params']\n",
        "for mean, stdev, param in zip(means, stds, params):\n",
        "    print(\"%f (%f) with: %r\" % (mean, stdev, param))"
      ],
      "metadata": {
        "colab": {
          "base_uri": "https://localhost:8080/"
        },
        "id": "qdoK1DjxDvlp",
        "outputId": "db730cf8-b348-4fa1-dda9-fafea7f99f09"
      },
      "execution_count": null,
      "outputs": [
        {
          "output_type": "stream",
          "name": "stdout",
          "text": [
            "Best: 0.644859 using {'optimizer': 'Adadelta'}\n",
            "0.637208 (0.005038) with: {'optimizer': 'SGD'}\n",
            "0.639759 (0.004462) with: {'optimizer': 'RMSprop'}\n",
            "0.639577 (0.003834) with: {'optimizer': 'Adagrad'}\n",
            "0.644859 (0.008273) with: {'optimizer': 'Adadelta'}\n",
            "0.636481 (0.005953) with: {'optimizer': 'Adam'}\n",
            "0.644677 (0.008022) with: {'optimizer': 'Adamax'}\n",
            "0.634476 (0.005441) with: {'optimizer': 'Nadam'}\n"
          ]
        }
      ]
    },
    {
      "cell_type": "markdown",
      "source": [
        "# 3. Learning Rate and Momentum"
      ],
      "metadata": {
        "id": "FLb2CK08HanN"
      }
    },
    {
      "cell_type": "code",
      "source": [
        "# Definición del modelo\n",
        "def modelo_mlp(learn_rate=0.01, momentum=0): \n",
        "    model = Sequential()\n",
        "    model.add(Dense(20, input_dim=X_train.shape[1], \n",
        "                kernel_initializer= 'he_uniform',\n",
        "                activation='relu', activity_regularizer=regularizers.l1(1e-4)))\n",
        "    model.add(BatchNormalization())\n",
        "    model.add(Dense(10, kernel_initializer= 'he_uniform',\n",
        "                activation='relu',activity_regularizer=regularizers.l1(1e-4)))\n",
        "    model.add(Dropout(0.3))\n",
        "    model.add(BatchNormalization())\n",
        "    model.add(Dense(5, kernel_initializer= 'he_uniform',\n",
        "                activation='relu',activity_regularizer=regularizers.l1(1e-4)))\n",
        "    model.add(Dropout(0.3))\n",
        "    model.add(BatchNormalization())  \n",
        "    model.add(Dense(3, kernel_initializer= 'he_uniform',\n",
        "                activation='softmax'))\n",
        "    model.compile(loss='categorical_crossentropy', optimizer='adam',\n",
        "                metrics=['accuracy'])\n",
        "    model.summary()\n",
        "    return model"
      ],
      "metadata": {
        "id": "RjJE32SDHSsf"
      },
      "execution_count": null,
      "outputs": []
    },
    {
      "cell_type": "code",
      "source": [
        "# create model\n",
        "model = KerasClassifier(build_fn=modelo_mlp, epochs=100, batch_size=32, verbose=0)\n",
        "# define the grid search parameters\n",
        "learn_rate = [0.0001,0.001, 0.01, 0.1]\n",
        "momentum = [0.0, 0.2, 0.4, 0.6, 0.8]\n",
        "param_grid = dict(learn_rate=learn_rate, momentum=momentum)\n",
        "grid = GridSearchCV(estimator=model, param_grid=param_grid, n_jobs=-1, cv=3)\n",
        "grid_result = grid.fit(X_train, y_train)"
      ],
      "metadata": {
        "colab": {
          "base_uri": "https://localhost:8080/"
        },
        "id": "r5ZAuOaGHxJ-",
        "outputId": "7c166cea-ebdb-4da5-c06e-59fcf4b98914"
      },
      "execution_count": null,
      "outputs": [
        {
          "output_type": "stream",
          "name": "stderr",
          "text": [
            "/usr/local/lib/python3.7/dist-packages/ipykernel_launcher.py:2: DeprecationWarning: KerasClassifier is deprecated, use Sci-Keras (https://github.com/adriangb/scikeras) instead. See https://www.adriangb.com/scikeras/stable/migration.html for help migrating.\n",
            "  \n"
          ]
        },
        {
          "output_type": "stream",
          "name": "stdout",
          "text": [
            "Model: \"sequential_3\"\n",
            "_________________________________________________________________\n",
            " Layer (type)                Output Shape              Param #   \n",
            "=================================================================\n",
            " dense_12 (Dense)            (None, 20)                420       \n",
            "                                                                 \n",
            " batch_normalization_9 (Batc  (None, 20)               80        \n",
            " hNormalization)                                                 \n",
            "                                                                 \n",
            " dense_13 (Dense)            (None, 10)                210       \n",
            "                                                                 \n",
            " dropout_4 (Dropout)         (None, 10)                0         \n",
            "                                                                 \n",
            " batch_normalization_10 (Bat  (None, 10)               40        \n",
            " chNormalization)                                                \n",
            "                                                                 \n",
            " dense_14 (Dense)            (None, 5)                 55        \n",
            "                                                                 \n",
            " dropout_5 (Dropout)         (None, 5)                 0         \n",
            "                                                                 \n",
            " batch_normalization_11 (Bat  (None, 5)                20        \n",
            " chNormalization)                                                \n",
            "                                                                 \n",
            " dense_15 (Dense)            (None, 3)                 18        \n",
            "                                                                 \n",
            "=================================================================\n",
            "Total params: 843\n",
            "Trainable params: 773\n",
            "Non-trainable params: 70\n",
            "_________________________________________________________________\n"
          ]
        }
      ]
    },
    {
      "cell_type": "code",
      "source": [
        "# summarize results\n",
        "print(\"Best: %f using %s\" % (grid_result.best_score_, grid_result.best_params_))\n",
        "means = grid_result.cv_results_['mean_test_score']\n",
        "stds = grid_result.cv_results_['std_test_score']\n",
        "params = grid_result.cv_results_['params']\n",
        "for mean, stdev, param in zip(means, stds, params):\n",
        "    print(\"%f (%f) with: %r\" % (mean, stdev, param))"
      ],
      "metadata": {
        "colab": {
          "base_uri": "https://localhost:8080/"
        },
        "id": "z2pxBEk0KQZs",
        "outputId": "bca4395f-666e-4785-c2ac-7ee434ca0d72"
      },
      "execution_count": null,
      "outputs": [
        {
          "output_type": "stream",
          "name": "stdout",
          "text": [
            "Best: 0.646864 using {'learn_rate': 0.001, 'momentum': 0.0}\n",
            "0.639395 (0.005134) with: {'learn_rate': 0.0001, 'momentum': 0.0}\n",
            "0.645223 (0.012156) with: {'learn_rate': 0.0001, 'momentum': 0.2}\n",
            "0.634477 (0.005724) with: {'learn_rate': 0.0001, 'momentum': 0.4}\n",
            "0.635569 (0.004947) with: {'learn_rate': 0.0001, 'momentum': 0.6}\n",
            "0.640303 (0.014025) with: {'learn_rate': 0.0001, 'momentum': 0.8}\n",
            "0.646864 (0.009479) with: {'learn_rate': 0.001, 'momentum': 0.0}\n",
            "0.636298 (0.005904) with: {'learn_rate': 0.001, 'momentum': 0.2}\n",
            "0.635753 (0.009094) with: {'learn_rate': 0.001, 'momentum': 0.4}\n",
            "0.634841 (0.007540) with: {'learn_rate': 0.001, 'momentum': 0.6}\n",
            "0.640853 (0.003942) with: {'learn_rate': 0.001, 'momentum': 0.8}\n",
            "0.639758 (0.005331) with: {'learn_rate': 0.01, 'momentum': 0.0}\n",
            "0.638120 (0.006034) with: {'learn_rate': 0.01, 'momentum': 0.2}\n",
            "0.645044 (0.000476) with: {'learn_rate': 0.01, 'momentum': 0.4}\n",
            "0.645588 (0.010355) with: {'learn_rate': 0.01, 'momentum': 0.6}\n",
            "0.633565 (0.006991) with: {'learn_rate': 0.01, 'momentum': 0.8}\n",
            "0.633747 (0.006161) with: {'learn_rate': 0.1, 'momentum': 0.0}\n",
            "0.632472 (0.007881) with: {'learn_rate': 0.1, 'momentum': 0.2}\n",
            "0.641034 (0.005416) with: {'learn_rate': 0.1, 'momentum': 0.4}\n",
            "0.639395 (0.006081) with: {'learn_rate': 0.1, 'momentum': 0.6}\n",
            "0.646501 (0.002259) with: {'learn_rate': 0.1, 'momentum': 0.8}\n"
          ]
        }
      ]
    },
    {
      "cell_type": "markdown",
      "source": [
        "#4. Network Weight Initialization"
      ],
      "metadata": {
        "id": "0Gn-LcmiKVSM"
      }
    },
    {
      "cell_type": "code",
      "source": [
        "# Definición del modelo\n",
        "def modelo_mlp(init_mode='uniform'): \n",
        "    model = Sequential()\n",
        "    model.add(Dense(20, input_dim=X_train.shape[1], \n",
        "                kernel_initializer= 'he_uniform',\n",
        "                activation='relu', activity_regularizer=regularizers.l1(1e-4)))\n",
        "    model.add(BatchNormalization())\n",
        "    model.add(Dense(10, kernel_initializer= 'he_uniform',\n",
        "                activation='relu',activity_regularizer=regularizers.l1(1e-4)))\n",
        "    model.add(Dropout(0.3))\n",
        "    model.add(BatchNormalization())\n",
        "    model.add(Dense(5, kernel_initializer= 'he_uniform',\n",
        "                activation='relu',activity_regularizer=regularizers.l1(1e-4)))\n",
        "    model.add(Dropout(0.3))\n",
        "    model.add(BatchNormalization())  \n",
        "    model.add(Dense(3, kernel_initializer= 'he_uniform',\n",
        "                activation='softmax'))\n",
        "    model.compile(loss='categorical_crossentropy', optimizer='adam',\n",
        "                metrics=['accuracy'])\n",
        "    model.summary()\n",
        "    return model"
      ],
      "metadata": {
        "id": "6Z2WBR34KUsc"
      },
      "execution_count": null,
      "outputs": []
    },
    {
      "cell_type": "code",
      "source": [
        "# create model\n",
        "model = KerasClassifier(build_fn=modelo_mlp, epochs=100, batch_size=32, verbose=0)\n",
        "# define the grid search parameters\n",
        "init_mode = ['uniform', 'lecun_uniform', 'normal', 'zero', 'glorot_normal', 'glorot_uniform', 'he_normal', 'he_uniform']\n",
        "param_grid = dict(init_mode=init_mode)\n",
        "grid = GridSearchCV(estimator=model, param_grid=param_grid, n_jobs=-1, cv=3)\n",
        "grid_result = grid.fit(X_train, y_train)"
      ],
      "metadata": {
        "colab": {
          "base_uri": "https://localhost:8080/"
        },
        "id": "9wl3X4dvKl3U",
        "outputId": "0bf96280-cc8a-4d19-82de-407b76bb22c6"
      },
      "execution_count": null,
      "outputs": [
        {
          "output_type": "stream",
          "name": "stderr",
          "text": [
            "/usr/local/lib/python3.7/dist-packages/ipykernel_launcher.py:2: DeprecationWarning: KerasClassifier is deprecated, use Sci-Keras (https://github.com/adriangb/scikeras) instead. See https://www.adriangb.com/scikeras/stable/migration.html for help migrating.\n",
            "  \n",
            "/usr/local/lib/python3.7/dist-packages/joblib/externals/loky/process_executor.py:703: UserWarning: A worker stopped while some jobs were given to the executor. This can be caused by a too short worker timeout or by a memory leak.\n",
            "  \"timeout or by a memory leak.\", UserWarning\n"
          ]
        },
        {
          "output_type": "stream",
          "name": "stdout",
          "text": [
            "Model: \"sequential_4\"\n",
            "_________________________________________________________________\n",
            " Layer (type)                Output Shape              Param #   \n",
            "=================================================================\n",
            " dense_16 (Dense)            (None, 20)                420       \n",
            "                                                                 \n",
            " batch_normalization_12 (Bat  (None, 20)               80        \n",
            " chNormalization)                                                \n",
            "                                                                 \n",
            " dense_17 (Dense)            (None, 10)                210       \n",
            "                                                                 \n",
            " dropout_6 (Dropout)         (None, 10)                0         \n",
            "                                                                 \n",
            " batch_normalization_13 (Bat  (None, 10)               40        \n",
            " chNormalization)                                                \n",
            "                                                                 \n",
            " dense_18 (Dense)            (None, 5)                 55        \n",
            "                                                                 \n",
            " dropout_7 (Dropout)         (None, 5)                 0         \n",
            "                                                                 \n",
            " batch_normalization_14 (Bat  (None, 5)                20        \n",
            " chNormalization)                                                \n",
            "                                                                 \n",
            " dense_19 (Dense)            (None, 3)                 18        \n",
            "                                                                 \n",
            "=================================================================\n",
            "Total params: 843\n",
            "Trainable params: 773\n",
            "Non-trainable params: 70\n",
            "_________________________________________________________________\n"
          ]
        }
      ]
    },
    {
      "cell_type": "code",
      "source": [
        "# summarize results\n",
        "print(\"Best: %f using %s\" % (grid_result.best_score_, grid_result.best_params_))\n",
        "means = grid_result.cv_results_['mean_test_score']\n",
        "stds = grid_result.cv_results_['std_test_score']\n",
        "params = grid_result.cv_results_['params']\n",
        "for mean, stdev, param in zip(means, stds, params):\n",
        "    print(\"%f (%f) with: %r\" % (mean, stdev, param))"
      ],
      "metadata": {
        "colab": {
          "base_uri": "https://localhost:8080/"
        },
        "id": "hnCEqwOXMucI",
        "outputId": "706d27ee-96ae-418a-8df1-eb5e79dc38d6"
      },
      "execution_count": null,
      "outputs": [
        {
          "output_type": "stream",
          "name": "stdout",
          "text": [
            "Best: 0.649231 using {'init_mode': 'zero'}\n",
            "0.642493 (0.006417) with: {'init_mode': 'uniform'}\n",
            "0.647957 (0.011682) with: {'init_mode': 'lecun_uniform'}\n",
            "0.637392 (0.008025) with: {'init_mode': 'normal'}\n",
            "0.649231 (0.015993) with: {'init_mode': 'zero'}\n",
            "0.644859 (0.010569) with: {'init_mode': 'glorot_normal'}\n",
            "0.634113 (0.008910) with: {'init_mode': 'glorot_uniform'}\n",
            "0.630468 (0.006502) with: {'init_mode': 'he_normal'}\n",
            "0.633930 (0.007062) with: {'init_mode': 'he_uniform'}\n"
          ]
        }
      ]
    },
    {
      "cell_type": "markdown",
      "source": [
        "#5. Neuron Activation Function"
      ],
      "metadata": {
        "id": "hxyS4ZldRpCW"
      }
    },
    {
      "cell_type": "code",
      "source": [
        "# Definición del modelo\n",
        "def modelo_mlp(activation='relu'): \n",
        "    model = Sequential()\n",
        "    model.add(Dense(20, input_dim=X_train.shape[1], \n",
        "                kernel_initializer= 'he_uniform',\n",
        "                activation='relu', activity_regularizer=regularizers.l1(1e-4)))\n",
        "    model.add(BatchNormalization())\n",
        "    model.add(Dense(10, kernel_initializer= 'he_uniform',\n",
        "                activation='relu',activity_regularizer=regularizers.l1(1e-4)))\n",
        "    model.add(Dropout(0.3))\n",
        "    model.add(BatchNormalization())\n",
        "    model.add(Dense(5, kernel_initializer= 'he_uniform',\n",
        "                activation='relu',activity_regularizer=regularizers.l1(1e-4)))\n",
        "    model.add(Dropout(0.3))\n",
        "    model.add(BatchNormalization())  \n",
        "    model.add(Dense(3, kernel_initializer= 'he_uniform',\n",
        "                activation='softmax'))\n",
        "    model.compile(loss='categorical_crossentropy', optimizer='adam',\n",
        "                metrics=['accuracy'])\n",
        "    model.summary()\n",
        "    return model"
      ],
      "metadata": {
        "id": "suWlRCdQMx08"
      },
      "execution_count": null,
      "outputs": []
    },
    {
      "cell_type": "code",
      "source": [
        "# create model\n",
        "model = KerasClassifier(build_fn=modelo_mlp, epochs=100, batch_size=32, verbose=0)\n",
        "# define the grid search parameters\n",
        "activation = ['softmax', 'softplus', 'softsign', 'relu', 'tanh', 'sigmoid', 'hard_sigmoid', 'linear']\n",
        "param_grid = dict(activation=activation)\n",
        "grid = GridSearchCV(estimator=model, param_grid=param_grid, n_jobs=-1, cv=3)\n",
        "grid_result = grid.fit(X_train, y_train)"
      ],
      "metadata": {
        "colab": {
          "base_uri": "https://localhost:8080/"
        },
        "id": "YjaOX7I-R3vO",
        "outputId": "304202d8-dcf4-42d5-fc71-471ea6af6475"
      },
      "execution_count": null,
      "outputs": [
        {
          "output_type": "stream",
          "name": "stderr",
          "text": [
            "/usr/local/lib/python3.7/dist-packages/ipykernel_launcher.py:2: DeprecationWarning: KerasClassifier is deprecated, use Sci-Keras (https://github.com/adriangb/scikeras) instead. See https://www.adriangb.com/scikeras/stable/migration.html for help migrating.\n",
            "  \n"
          ]
        },
        {
          "output_type": "stream",
          "name": "stdout",
          "text": [
            "Model: \"sequential_5\"\n",
            "_________________________________________________________________\n",
            " Layer (type)                Output Shape              Param #   \n",
            "=================================================================\n",
            " dense_20 (Dense)            (None, 20)                420       \n",
            "                                                                 \n",
            " batch_normalization_15 (Bat  (None, 20)               80        \n",
            " chNormalization)                                                \n",
            "                                                                 \n",
            " dense_21 (Dense)            (None, 10)                210       \n",
            "                                                                 \n",
            " dropout_8 (Dropout)         (None, 10)                0         \n",
            "                                                                 \n",
            " batch_normalization_16 (Bat  (None, 10)               40        \n",
            " chNormalization)                                                \n",
            "                                                                 \n",
            " dense_22 (Dense)            (None, 5)                 55        \n",
            "                                                                 \n",
            " dropout_9 (Dropout)         (None, 5)                 0         \n",
            "                                                                 \n",
            " batch_normalization_17 (Bat  (None, 5)                20        \n",
            " chNormalization)                                                \n",
            "                                                                 \n",
            " dense_23 (Dense)            (None, 3)                 18        \n",
            "                                                                 \n",
            "=================================================================\n",
            "Total params: 843\n",
            "Trainable params: 773\n",
            "Non-trainable params: 70\n",
            "_________________________________________________________________\n"
          ]
        }
      ]
    },
    {
      "cell_type": "code",
      "source": [
        "# summarize results\n",
        "print(\"Best: %f using %s\" % (grid_result.best_score_, grid_result.best_params_))\n",
        "means = grid_result.cv_results_['mean_test_score']\n",
        "stds = grid_result.cv_results_['std_test_score']\n",
        "params = grid_result.cv_results_['params']\n",
        "for mean, stdev, param in zip(means, stds, params):\n",
        "    print(\"%f (%f) with: %r\" % (mean, stdev, param))"
      ],
      "metadata": {
        "colab": {
          "base_uri": "https://localhost:8080/"
        },
        "id": "gNh65hPdXvH5",
        "outputId": "60d8257e-005f-4558-99c3-85243eb36c52"
      },
      "execution_count": null,
      "outputs": [
        {
          "output_type": "stream",
          "name": "stdout",
          "text": [
            "Best: 0.646317 using {'activation': 'tanh'}\n",
            "0.635753 (0.008203) with: {'activation': 'softmax'}\n",
            "0.640489 (0.001492) with: {'activation': 'softplus'}\n",
            "0.633383 (0.004056) with: {'activation': 'softsign'}\n",
            "0.635934 (0.007548) with: {'activation': 'relu'}\n",
            "0.646317 (0.012151) with: {'activation': 'tanh'}\n",
            "0.634294 (0.006370) with: {'activation': 'sigmoid'}\n",
            "0.634112 (0.006871) with: {'activation': 'hard_sigmoid'}\n",
            "0.637027 (0.005035) with: {'activation': 'linear'}\n"
          ]
        }
      ]
    },
    {
      "cell_type": "markdown",
      "source": [
        "#6. Number of Neurons in the Hidden Layer"
      ],
      "metadata": {
        "id": "tehhM_D7ZhBq"
      }
    },
    {
      "cell_type": "code",
      "source": [
        "# Definición del modelo\n",
        "def modelo_mlp(neurons=1): \n",
        "    model = Sequential()\n",
        "    model.add(Dense(20, input_dim=X_train.shape[1], \n",
        "                kernel_initializer= 'he_uniform',\n",
        "                activation='relu', activity_regularizer=regularizers.l1(1e-4)))\n",
        "    model.add(BatchNormalization())\n",
        "    model.add(Dense(10, kernel_initializer= 'he_uniform',\n",
        "                activation='relu',activity_regularizer=regularizers.l1(1e-4)))\n",
        "    model.add(Dropout(0.3))\n",
        "    model.add(BatchNormalization())\n",
        "    model.add(Dense(5, kernel_initializer= 'he_uniform',\n",
        "                activation='relu',activity_regularizer=regularizers.l1(1e-4)))\n",
        "    model.add(Dropout(0.3))\n",
        "    model.add(BatchNormalization())  \n",
        "    model.add(Dense(3, kernel_initializer= 'he_uniform',\n",
        "                activation='softmax'))\n",
        "    model.compile(loss='categorical_crossentropy', optimizer='adam',\n",
        "                metrics=['accuracy'])\n",
        "    model.summary()\n",
        "    return model"
      ],
      "metadata": {
        "id": "BpNMm2pgYJeq"
      },
      "execution_count": null,
      "outputs": []
    },
    {
      "cell_type": "code",
      "source": [
        "# create model\n",
        "model = KerasClassifier(build_fn=modelo_mlp, epochs=100, batch_size=32, verbose=0)\n",
        "# define the grid search parameters\n",
        "neurons = [1, 3, 5, 10]\n",
        "param_grid = dict(neurons=neurons)\n",
        "grid = GridSearchCV(estimator=model, param_grid=param_grid, n_jobs=-1, cv=3)\n",
        "grid_result = grid.fit(X_train, y_train)"
      ],
      "metadata": {
        "colab": {
          "base_uri": "https://localhost:8080/"
        },
        "id": "vh4q0i1bZi4Y",
        "outputId": "d6472578-1687-4bbe-c1af-d6bc54b5718e"
      },
      "execution_count": null,
      "outputs": [
        {
          "output_type": "stream",
          "name": "stderr",
          "text": [
            "/usr/local/lib/python3.7/dist-packages/ipykernel_launcher.py:2: DeprecationWarning: KerasClassifier is deprecated, use Sci-Keras (https://github.com/adriangb/scikeras) instead. See https://www.adriangb.com/scikeras/stable/migration.html for help migrating.\n",
            "  \n"
          ]
        },
        {
          "output_type": "stream",
          "name": "stdout",
          "text": [
            "Model: \"sequential_6\"\n",
            "_________________________________________________________________\n",
            " Layer (type)                Output Shape              Param #   \n",
            "=================================================================\n",
            " dense_24 (Dense)            (None, 20)                420       \n",
            "                                                                 \n",
            " batch_normalization_18 (Bat  (None, 20)               80        \n",
            " chNormalization)                                                \n",
            "                                                                 \n",
            " dense_25 (Dense)            (None, 10)                210       \n",
            "                                                                 \n",
            " dropout_10 (Dropout)        (None, 10)                0         \n",
            "                                                                 \n",
            " batch_normalization_19 (Bat  (None, 10)               40        \n",
            " chNormalization)                                                \n",
            "                                                                 \n",
            " dense_26 (Dense)            (None, 5)                 55        \n",
            "                                                                 \n",
            " dropout_11 (Dropout)        (None, 5)                 0         \n",
            "                                                                 \n",
            " batch_normalization_20 (Bat  (None, 5)                20        \n",
            " chNormalization)                                                \n",
            "                                                                 \n",
            " dense_27 (Dense)            (None, 3)                 18        \n",
            "                                                                 \n",
            "=================================================================\n",
            "Total params: 843\n",
            "Trainable params: 773\n",
            "Non-trainable params: 70\n",
            "_________________________________________________________________\n"
          ]
        }
      ]
    },
    {
      "cell_type": "code",
      "source": [
        "# summarize results\n",
        "print(\"Best: %f using %s\" % (grid_result.best_score_, grid_result.best_params_))\n",
        "means = grid_result.cv_results_['mean_test_score']\n",
        "stds = grid_result.cv_results_['std_test_score']\n",
        "params = grid_result.cv_results_['params']\n",
        "for mean, stdev, param in zip(means, stds, params):\n",
        "    print(\"%f (%f) with: %r\" % (mean, stdev, param))"
      ],
      "metadata": {
        "colab": {
          "base_uri": "https://localhost:8080/"
        },
        "id": "rHsSFQm8bp8w",
        "outputId": "b9d4fb2f-92c1-4655-97ca-e9df035dcfb2"
      },
      "execution_count": null,
      "outputs": [
        {
          "output_type": "stream",
          "name": "stdout",
          "text": [
            "Best: 0.643401 using {'neurons': 10}\n",
            "0.637573 (0.006301) with: {'neurons': 1}\n",
            "0.639031 (0.005163) with: {'neurons': 3}\n",
            "0.642127 (0.006139) with: {'neurons': 5}\n",
            "0.643401 (0.010804) with: {'neurons': 10}\n"
          ]
        }
      ]
    }
  ]
}