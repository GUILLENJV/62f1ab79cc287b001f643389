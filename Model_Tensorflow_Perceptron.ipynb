{
  "nbformat": 4,
  "nbformat_minor": 0,
  "metadata": {
    "colab": {
      "provenance": [],
      "collapsed_sections": [],
      "authorship_tag": "ABX9TyPY8e8b+yUV1M1fTzsqfrc/",
      "include_colab_link": true
    },
    "kernelspec": {
      "name": "python3",
      "display_name": "Python 3"
    }
  },
  "cells": [
    {
      "cell_type": "markdown",
      "metadata": {
        "id": "view-in-github",
        "colab_type": "text"
      },
      "source": [
        "<a href=\"https://colab.research.google.com/github/GUILLENJV/62f1ab79cc287b001f643389/blob/master/Model_Tensorflow_Perceptron.ipynb\" target=\"_parent\"><img src=\"https://colab.research.google.com/assets/colab-badge.svg\" alt=\"Open In Colab\"/></a>"
      ]
    },
    {
      "cell_type": "markdown",
      "metadata": {
        "id": "HN02-nhSkp78"
      },
      "source": [
        "# Model_Tensorflow\n",
        "# Perceptron"
      ]
    },
    {
      "cell_type": "code",
      "metadata": {
        "id": "Q-hrdi1KkxmL"
      },
      "source": [
        "# Load Libraries\n",
        "import matplotlib.pyplot as plt\n",
        "import numpy as np\n",
        "import pandas as pd\n",
        "import tensorflow as tf\n",
        "from sklearn.preprocessing import OneHotEncoder, LabelEncoder, label_binarize\n",
        "from sklearn.model_selection import train_test_split\n",
        "import requests\n",
        "from sklearn import datasets\n",
        "from sklearn import preprocessing\n",
        "from collections import defaultdict\n",
        "from sklearn.preprocessing import normalize\n",
        "from tensorflow.python.framework import ops\n",
        "ops.reset_default_graph()"
      ],
      "execution_count": 1,
      "outputs": []
    },
    {
      "cell_type": "markdown",
      "metadata": {
        "id": "drOcIb9cYGmS"
      },
      "source": [
        "##  Load Dataset "
      ]
    },
    {
      "cell_type": "code",
      "metadata": {
        "id": "--PN5fGWlXqY"
      },
      "source": [
        "df= pd.read_excel('62f1ab79cc287b001f643389.xlsx')"
      ],
      "execution_count": 2,
      "outputs": []
    },
    {
      "cell_type": "code",
      "source": [
        "df.head()"
      ],
      "metadata": {
        "colab": {
          "base_uri": "https://localhost:8080/",
          "height": 317
        },
        "id": "GLaLnWolZ3u6",
        "outputId": "2cee5cbc-b64d-4cd4-86b1-cc756acfcac8"
      },
      "execution_count": 3,
      "outputs": [
        {
          "output_type": "execute_result",
          "data": {
            "text/plain": [
              "                campaign_id         traffic_source_id  \\\n",
              "0  624542fb9a12e16cc0299a24  58939c5eeb1b39e23f2044bb   \n",
              "1  6251b74940ddb049df0dfe50  58939c5eeb1b39e23f2044bb   \n",
              "2  6249fea1b92ef259586b8116  58939c5eeb1b39e23f2044bb   \n",
              "3  624542fb9a12e16cc0299a24  58939c5eeb1b39e23f2044bb   \n",
              "4  624542fb9a12e16cc0299a24  58939c5eeb1b39e23f2044bb   \n",
              "\n",
              "       visitor_device_browser visitor_device_hardware_family  \\\n",
              "0               Mobile Safari                         iPhone   \n",
              "1                      Chrome                       Emulator   \n",
              "2                      Safari                      Macintosh   \n",
              "3               Mobile Safari                         iPhone   \n",
              "4  Yandex.Browser for Android               Galaxy J3 Emerge   \n",
              "\n",
              "  visitor_device_hardware_model visitor_device_hardware_vendor  \\\n",
              "0                        iPhone                          Apple   \n",
              "1                       Unknown                        Unknown   \n",
              "2                     Macintosh                          Apple   \n",
              "3                        iPhone                          Apple   \n",
              "4                    SM-J327VPP                        Samsung   \n",
              "\n",
              "  visitor_device_os_family visitor_device_os_vendor visitor_device_os_version  \\\n",
              "0                      iOS                    Apple                    15.3.1   \n",
              "1                  Windows                Microsoft                      10.0   \n",
              "2                    macOS                    Apple                   10.15.6   \n",
              "3                      iOS                    Apple                    15.3.1   \n",
              "4                  Android                   Google                       8.1   \n",
              "\n",
              "  visitor_device_type  ... visitor_geo_location_connection_type  \\\n",
              "0               Phone  ...                            Cable/DSL   \n",
              "1             Desktop  ...                            Cable/DSL   \n",
              "2             Desktop  ...                            Cable/DSL   \n",
              "3               Phone  ...                             Cellular   \n",
              "4               Phone  ...                            Cable/DSL   \n",
              "\n",
              "  visitor_geo_location_countryCode visitor_geo_location_isp  \\\n",
              "0                               US            Comcast Cable   \n",
              "1                               US             AT&T U-verse   \n",
              "2                               US            Comcast Cable   \n",
              "3                               US         Verizon Wireless   \n",
              "4                               US            Comcast Cable   \n",
              "\n",
              "  visitor_geo_location_regionName              visitor_tokens_adh  \\\n",
              "0                         Florida      reghelpgetsolarnocostapril   \n",
              "1                      California        reggovhelpgetsolarnocost   \n",
              "2                        Illinois  regproghelpgetsolarnocostapril   \n",
              "3                         Alabama            reggetsolarnocostapr   \n",
              "4                         Florida      reghelpgetsolarnocostapril   \n",
              "\n",
              "  visitor_tokens_cadid visitor_tokens_adi converted_yes  converted_no  \\\n",
              "0            vc7LvqetL       solarpergola           0.0           1.0   \n",
              "1            LrjwavC-W       solarpergola           0.0           1.0   \n",
              "2            KnDIBegRz      solarpergola2           0.0           1.0   \n",
              "3            p1WEZSp1_      solarpergola2           0.0           1.0   \n",
              "4            vc7LvqetL       solarpergola           0.0           1.0   \n",
              "\n",
              "            landing_page_id  \n",
              "0  62566aa432b19a0164d802be  \n",
              "1  62566aa432b19a0164d802be  \n",
              "2  62566aa432b19a0164d802be  \n",
              "3  62566aa432b19a0164d802be  \n",
              "4  62566aa432b19a0164d802be  \n",
              "\n",
              "[5 rows x 21 columns]"
            ],
            "text/html": [
              "\n",
              "  <div id=\"df-91b622ad-c490-4c7f-abd8-e9edf1821052\">\n",
              "    <div class=\"colab-df-container\">\n",
              "      <div>\n",
              "<style scoped>\n",
              "    .dataframe tbody tr th:only-of-type {\n",
              "        vertical-align: middle;\n",
              "    }\n",
              "\n",
              "    .dataframe tbody tr th {\n",
              "        vertical-align: top;\n",
              "    }\n",
              "\n",
              "    .dataframe thead th {\n",
              "        text-align: right;\n",
              "    }\n",
              "</style>\n",
              "<table border=\"1\" class=\"dataframe\">\n",
              "  <thead>\n",
              "    <tr style=\"text-align: right;\">\n",
              "      <th></th>\n",
              "      <th>campaign_id</th>\n",
              "      <th>traffic_source_id</th>\n",
              "      <th>visitor_device_browser</th>\n",
              "      <th>visitor_device_hardware_family</th>\n",
              "      <th>visitor_device_hardware_model</th>\n",
              "      <th>visitor_device_hardware_vendor</th>\n",
              "      <th>visitor_device_os_family</th>\n",
              "      <th>visitor_device_os_vendor</th>\n",
              "      <th>visitor_device_os_version</th>\n",
              "      <th>visitor_device_type</th>\n",
              "      <th>...</th>\n",
              "      <th>visitor_geo_location_connection_type</th>\n",
              "      <th>visitor_geo_location_countryCode</th>\n",
              "      <th>visitor_geo_location_isp</th>\n",
              "      <th>visitor_geo_location_regionName</th>\n",
              "      <th>visitor_tokens_adh</th>\n",
              "      <th>visitor_tokens_cadid</th>\n",
              "      <th>visitor_tokens_adi</th>\n",
              "      <th>converted_yes</th>\n",
              "      <th>converted_no</th>\n",
              "      <th>landing_page_id</th>\n",
              "    </tr>\n",
              "  </thead>\n",
              "  <tbody>\n",
              "    <tr>\n",
              "      <th>0</th>\n",
              "      <td>624542fb9a12e16cc0299a24</td>\n",
              "      <td>58939c5eeb1b39e23f2044bb</td>\n",
              "      <td>Mobile Safari</td>\n",
              "      <td>iPhone</td>\n",
              "      <td>iPhone</td>\n",
              "      <td>Apple</td>\n",
              "      <td>iOS</td>\n",
              "      <td>Apple</td>\n",
              "      <td>15.3.1</td>\n",
              "      <td>Phone</td>\n",
              "      <td>...</td>\n",
              "      <td>Cable/DSL</td>\n",
              "      <td>US</td>\n",
              "      <td>Comcast Cable</td>\n",
              "      <td>Florida</td>\n",
              "      <td>reghelpgetsolarnocostapril</td>\n",
              "      <td>vc7LvqetL</td>\n",
              "      <td>solarpergola</td>\n",
              "      <td>0.0</td>\n",
              "      <td>1.0</td>\n",
              "      <td>62566aa432b19a0164d802be</td>\n",
              "    </tr>\n",
              "    <tr>\n",
              "      <th>1</th>\n",
              "      <td>6251b74940ddb049df0dfe50</td>\n",
              "      <td>58939c5eeb1b39e23f2044bb</td>\n",
              "      <td>Chrome</td>\n",
              "      <td>Emulator</td>\n",
              "      <td>Unknown</td>\n",
              "      <td>Unknown</td>\n",
              "      <td>Windows</td>\n",
              "      <td>Microsoft</td>\n",
              "      <td>10.0</td>\n",
              "      <td>Desktop</td>\n",
              "      <td>...</td>\n",
              "      <td>Cable/DSL</td>\n",
              "      <td>US</td>\n",
              "      <td>AT&amp;T U-verse</td>\n",
              "      <td>California</td>\n",
              "      <td>reggovhelpgetsolarnocost</td>\n",
              "      <td>LrjwavC-W</td>\n",
              "      <td>solarpergola</td>\n",
              "      <td>0.0</td>\n",
              "      <td>1.0</td>\n",
              "      <td>62566aa432b19a0164d802be</td>\n",
              "    </tr>\n",
              "    <tr>\n",
              "      <th>2</th>\n",
              "      <td>6249fea1b92ef259586b8116</td>\n",
              "      <td>58939c5eeb1b39e23f2044bb</td>\n",
              "      <td>Safari</td>\n",
              "      <td>Macintosh</td>\n",
              "      <td>Macintosh</td>\n",
              "      <td>Apple</td>\n",
              "      <td>macOS</td>\n",
              "      <td>Apple</td>\n",
              "      <td>10.15.6</td>\n",
              "      <td>Desktop</td>\n",
              "      <td>...</td>\n",
              "      <td>Cable/DSL</td>\n",
              "      <td>US</td>\n",
              "      <td>Comcast Cable</td>\n",
              "      <td>Illinois</td>\n",
              "      <td>regproghelpgetsolarnocostapril</td>\n",
              "      <td>KnDIBegRz</td>\n",
              "      <td>solarpergola2</td>\n",
              "      <td>0.0</td>\n",
              "      <td>1.0</td>\n",
              "      <td>62566aa432b19a0164d802be</td>\n",
              "    </tr>\n",
              "    <tr>\n",
              "      <th>3</th>\n",
              "      <td>624542fb9a12e16cc0299a24</td>\n",
              "      <td>58939c5eeb1b39e23f2044bb</td>\n",
              "      <td>Mobile Safari</td>\n",
              "      <td>iPhone</td>\n",
              "      <td>iPhone</td>\n",
              "      <td>Apple</td>\n",
              "      <td>iOS</td>\n",
              "      <td>Apple</td>\n",
              "      <td>15.3.1</td>\n",
              "      <td>Phone</td>\n",
              "      <td>...</td>\n",
              "      <td>Cellular</td>\n",
              "      <td>US</td>\n",
              "      <td>Verizon Wireless</td>\n",
              "      <td>Alabama</td>\n",
              "      <td>reggetsolarnocostapr</td>\n",
              "      <td>p1WEZSp1_</td>\n",
              "      <td>solarpergola2</td>\n",
              "      <td>0.0</td>\n",
              "      <td>1.0</td>\n",
              "      <td>62566aa432b19a0164d802be</td>\n",
              "    </tr>\n",
              "    <tr>\n",
              "      <th>4</th>\n",
              "      <td>624542fb9a12e16cc0299a24</td>\n",
              "      <td>58939c5eeb1b39e23f2044bb</td>\n",
              "      <td>Yandex.Browser for Android</td>\n",
              "      <td>Galaxy J3 Emerge</td>\n",
              "      <td>SM-J327VPP</td>\n",
              "      <td>Samsung</td>\n",
              "      <td>Android</td>\n",
              "      <td>Google</td>\n",
              "      <td>8.1</td>\n",
              "      <td>Phone</td>\n",
              "      <td>...</td>\n",
              "      <td>Cable/DSL</td>\n",
              "      <td>US</td>\n",
              "      <td>Comcast Cable</td>\n",
              "      <td>Florida</td>\n",
              "      <td>reghelpgetsolarnocostapril</td>\n",
              "      <td>vc7LvqetL</td>\n",
              "      <td>solarpergola</td>\n",
              "      <td>0.0</td>\n",
              "      <td>1.0</td>\n",
              "      <td>62566aa432b19a0164d802be</td>\n",
              "    </tr>\n",
              "  </tbody>\n",
              "</table>\n",
              "<p>5 rows × 21 columns</p>\n",
              "</div>\n",
              "      <button class=\"colab-df-convert\" onclick=\"convertToInteractive('df-91b622ad-c490-4c7f-abd8-e9edf1821052')\"\n",
              "              title=\"Convert this dataframe to an interactive table.\"\n",
              "              style=\"display:none;\">\n",
              "        \n",
              "  <svg xmlns=\"http://www.w3.org/2000/svg\" height=\"24px\"viewBox=\"0 0 24 24\"\n",
              "       width=\"24px\">\n",
              "    <path d=\"M0 0h24v24H0V0z\" fill=\"none\"/>\n",
              "    <path d=\"M18.56 5.44l.94 2.06.94-2.06 2.06-.94-2.06-.94-.94-2.06-.94 2.06-2.06.94zm-11 1L8.5 8.5l.94-2.06 2.06-.94-2.06-.94L8.5 2.5l-.94 2.06-2.06.94zm10 10l.94 2.06.94-2.06 2.06-.94-2.06-.94-.94-2.06-.94 2.06-2.06.94z\"/><path d=\"M17.41 7.96l-1.37-1.37c-.4-.4-.92-.59-1.43-.59-.52 0-1.04.2-1.43.59L10.3 9.45l-7.72 7.72c-.78.78-.78 2.05 0 2.83L4 21.41c.39.39.9.59 1.41.59.51 0 1.02-.2 1.41-.59l7.78-7.78 2.81-2.81c.8-.78.8-2.07 0-2.86zM5.41 20L4 18.59l7.72-7.72 1.47 1.35L5.41 20z\"/>\n",
              "  </svg>\n",
              "      </button>\n",
              "      \n",
              "  <style>\n",
              "    .colab-df-container {\n",
              "      display:flex;\n",
              "      flex-wrap:wrap;\n",
              "      gap: 12px;\n",
              "    }\n",
              "\n",
              "    .colab-df-convert {\n",
              "      background-color: #E8F0FE;\n",
              "      border: none;\n",
              "      border-radius: 50%;\n",
              "      cursor: pointer;\n",
              "      display: none;\n",
              "      fill: #1967D2;\n",
              "      height: 32px;\n",
              "      padding: 0 0 0 0;\n",
              "      width: 32px;\n",
              "    }\n",
              "\n",
              "    .colab-df-convert:hover {\n",
              "      background-color: #E2EBFA;\n",
              "      box-shadow: 0px 1px 2px rgba(60, 64, 67, 0.3), 0px 1px 3px 1px rgba(60, 64, 67, 0.15);\n",
              "      fill: #174EA6;\n",
              "    }\n",
              "\n",
              "    [theme=dark] .colab-df-convert {\n",
              "      background-color: #3B4455;\n",
              "      fill: #D2E3FC;\n",
              "    }\n",
              "\n",
              "    [theme=dark] .colab-df-convert:hover {\n",
              "      background-color: #434B5C;\n",
              "      box-shadow: 0px 1px 3px 1px rgba(0, 0, 0, 0.15);\n",
              "      filter: drop-shadow(0px 1px 2px rgba(0, 0, 0, 0.3));\n",
              "      fill: #FFFFFF;\n",
              "    }\n",
              "  </style>\n",
              "\n",
              "      <script>\n",
              "        const buttonEl =\n",
              "          document.querySelector('#df-91b622ad-c490-4c7f-abd8-e9edf1821052 button.colab-df-convert');\n",
              "        buttonEl.style.display =\n",
              "          google.colab.kernel.accessAllowed ? 'block' : 'none';\n",
              "\n",
              "        async function convertToInteractive(key) {\n",
              "          const element = document.querySelector('#df-91b622ad-c490-4c7f-abd8-e9edf1821052');\n",
              "          const dataTable =\n",
              "            await google.colab.kernel.invokeFunction('convertToInteractive',\n",
              "                                                     [key], {});\n",
              "          if (!dataTable) return;\n",
              "\n",
              "          const docLinkHtml = 'Like what you see? Visit the ' +\n",
              "            '<a target=\"_blank\" href=https://colab.research.google.com/notebooks/data_table.ipynb>data table notebook</a>'\n",
              "            + ' to learn more about interactive tables.';\n",
              "          element.innerHTML = '';\n",
              "          dataTable['output_type'] = 'display_data';\n",
              "          await google.colab.output.renderOutput(dataTable, element);\n",
              "          const docLink = document.createElement('div');\n",
              "          docLink.innerHTML = docLinkHtml;\n",
              "          element.appendChild(docLink);\n",
              "        }\n",
              "      </script>\n",
              "    </div>\n",
              "  </div>\n",
              "  "
            ]
          },
          "metadata": {},
          "execution_count": 3
        }
      ]
    },
    {
      "cell_type": "markdown",
      "source": [
        "#  Data preprocessing"
      ],
      "metadata": {
        "id": "-jOzezpPhu5q"
      }
    },
    {
      "cell_type": "code",
      "source": [
        "df[\"landing_page_id\"].value_counts()"
      ],
      "metadata": {
        "colab": {
          "base_uri": "https://localhost:8080/"
        },
        "id": "7qcqPD18kbBG",
        "outputId": "70ed9418-80be-4b5c-cf6f-613abf3aaa75"
      },
      "execution_count": 4,
      "outputs": [
        {
          "output_type": "execute_result",
          "data": {
            "text/plain": [
              "62566aa432b19a0164d802be    9652\n",
              "62f1a645f4f6cb001aed258b    9652\n",
              "Name: landing_page_id, dtype: int64"
            ]
          },
          "metadata": {},
          "execution_count": 4
        }
      ]
    },
    {
      "cell_type": "code",
      "source": [
        "df.dtypes"
      ],
      "metadata": {
        "colab": {
          "base_uri": "https://localhost:8080/"
        },
        "id": "zi_C-9uKoQ4u",
        "outputId": "a6a64df6-f918-46a7-8520-8aaf22391c44"
      },
      "execution_count": 5,
      "outputs": [
        {
          "output_type": "execute_result",
          "data": {
            "text/plain": [
              "campaign_id                              object\n",
              "traffic_source_id                        object\n",
              "visitor_device_browser                   object\n",
              "visitor_device_hardware_family           object\n",
              "visitor_device_hardware_model            object\n",
              "visitor_device_hardware_vendor           object\n",
              "visitor_device_os_family                 object\n",
              "visitor_device_os_vendor                 object\n",
              "visitor_device_os_version                object\n",
              "visitor_device_type                      object\n",
              "visitor_geo_location_cityName            object\n",
              "visitor_geo_location_connection_type     object\n",
              "visitor_geo_location_countryCode         object\n",
              "visitor_geo_location_isp                 object\n",
              "visitor_geo_location_regionName          object\n",
              "visitor_tokens_adh                       object\n",
              "visitor_tokens_cadid                     object\n",
              "visitor_tokens_adi                       object\n",
              "converted_yes                           float64\n",
              "converted_no                            float64\n",
              "landing_page_id                          object\n",
              "dtype: object"
            ]
          },
          "metadata": {},
          "execution_count": 5
        }
      ]
    },
    {
      "cell_type": "code",
      "source": [
        "df[\"converted_yes\"] = df[\"converted_yes\"].apply(str)\n",
        "df[\"converted_no\"] = df[\"converted_no\"].apply(str)"
      ],
      "metadata": {
        "id": "HtrLftiApnIt"
      },
      "execution_count": 6,
      "outputs": []
    },
    {
      "cell_type": "code",
      "source": [
        "df.dtypes"
      ],
      "metadata": {
        "colab": {
          "base_uri": "https://localhost:8080/"
        },
        "id": "GB59kpoLp8bH",
        "outputId": "94d07ef6-3d91-491f-9f70-bb3de4667b93"
      },
      "execution_count": 7,
      "outputs": [
        {
          "output_type": "execute_result",
          "data": {
            "text/plain": [
              "campaign_id                             object\n",
              "traffic_source_id                       object\n",
              "visitor_device_browser                  object\n",
              "visitor_device_hardware_family          object\n",
              "visitor_device_hardware_model           object\n",
              "visitor_device_hardware_vendor          object\n",
              "visitor_device_os_family                object\n",
              "visitor_device_os_vendor                object\n",
              "visitor_device_os_version               object\n",
              "visitor_device_type                     object\n",
              "visitor_geo_location_cityName           object\n",
              "visitor_geo_location_connection_type    object\n",
              "visitor_geo_location_countryCode        object\n",
              "visitor_geo_location_isp                object\n",
              "visitor_geo_location_regionName         object\n",
              "visitor_tokens_adh                      object\n",
              "visitor_tokens_cadid                    object\n",
              "visitor_tokens_adi                      object\n",
              "converted_yes                           object\n",
              "converted_no                            object\n",
              "landing_page_id                         object\n",
              "dtype: object"
            ]
          },
          "metadata": {},
          "execution_count": 7
        }
      ]
    },
    {
      "cell_type": "code",
      "source": [
        "df.isna().sum().sort_values()"
      ],
      "metadata": {
        "colab": {
          "base_uri": "https://localhost:8080/"
        },
        "id": "b-ViM-gQf9cK",
        "outputId": "a6ba92a3-89e9-495c-a0b6-671cfc62769f"
      },
      "execution_count": 8,
      "outputs": [
        {
          "output_type": "execute_result",
          "data": {
            "text/plain": [
              "campaign_id                               0\n",
              "converted_yes                             0\n",
              "visitor_tokens_cadid                      0\n",
              "visitor_tokens_adh                        0\n",
              "converted_no                              0\n",
              "visitor_device_type                       0\n",
              "visitor_device_os_version                 0\n",
              "landing_page_id                           0\n",
              "visitor_device_os_family                  0\n",
              "visitor_device_hardware_vendor            0\n",
              "visitor_device_hardware_model             0\n",
              "visitor_device_hardware_family            0\n",
              "visitor_device_browser                    0\n",
              "traffic_source_id                         0\n",
              "visitor_device_os_vendor                  0\n",
              "visitor_tokens_adi                        3\n",
              "visitor_geo_location_countryCode         16\n",
              "visitor_geo_location_regionName          16\n",
              "visitor_geo_location_isp                197\n",
              "visitor_geo_location_connection_type    207\n",
              "visitor_geo_location_cityName           541\n",
              "dtype: int64"
            ]
          },
          "metadata": {},
          "execution_count": 8
        }
      ]
    },
    {
      "cell_type": "code",
      "source": [
        "# Imputamos la variable \n",
        "df['visitor_geo_location_countryCode'].fillna(df['visitor_geo_location_countryCode'].mode()[0], inplace=True)\n",
        "df['visitor_geo_location_regionName'].fillna(df['visitor_geo_location_regionName'].mode()[0], inplace=True)\n",
        "df['visitor_geo_location_isp'].fillna(df['visitor_geo_location_isp'].mode()[0], inplace=True)\n",
        "df['visitor_geo_location_connection_type'].fillna(df['visitor_geo_location_connection_type'].mode()[0], inplace=True)\n",
        "df['visitor_geo_location_cityName'].fillna(df['visitor_geo_location_cityName'].mode()[0], inplace=True)\n",
        "df['visitor_tokens_adi'].fillna(df['visitor_tokens_adi'].mode()[0], inplace=True)"
      ],
      "metadata": {
        "id": "2wYfjmXEgMJA"
      },
      "execution_count": 9,
      "outputs": []
    },
    {
      "cell_type": "code",
      "source": [
        "df.isna().sum().sort_values()"
      ],
      "metadata": {
        "colab": {
          "base_uri": "https://localhost:8080/"
        },
        "id": "qrPfe61QgdvJ",
        "outputId": "b14a6c43-90a6-4448-b813-1f91fdfddda5"
      },
      "execution_count": 10,
      "outputs": [
        {
          "output_type": "execute_result",
          "data": {
            "text/plain": [
              "campaign_id                             0\n",
              "converted_yes                           0\n",
              "visitor_tokens_adi                      0\n",
              "visitor_tokens_cadid                    0\n",
              "visitor_tokens_adh                      0\n",
              "visitor_geo_location_regionName         0\n",
              "visitor_geo_location_isp                0\n",
              "visitor_geo_location_countryCode        0\n",
              "visitor_geo_location_connection_type    0\n",
              "converted_no                            0\n",
              "visitor_geo_location_cityName           0\n",
              "visitor_device_os_version               0\n",
              "visitor_device_os_vendor                0\n",
              "visitor_device_os_family                0\n",
              "visitor_device_hardware_vendor          0\n",
              "visitor_device_hardware_model           0\n",
              "visitor_device_hardware_family          0\n",
              "visitor_device_browser                  0\n",
              "traffic_source_id                       0\n",
              "visitor_device_type                     0\n",
              "landing_page_id                         0\n",
              "dtype: int64"
            ]
          },
          "metadata": {},
          "execution_count": 10
        }
      ]
    },
    {
      "cell_type": "markdown",
      "source": [
        "#  Label Encode"
      ],
      "metadata": {
        "id": "rXPs-RxFh1RS"
      }
    },
    {
      "cell_type": "code",
      "source": [
        "# Label Encode all labels\n",
        "encoder=preprocessing.LabelEncoder()\n",
        "encoder_dict =defaultdict(LabelEncoder)\n",
        "df = (df.apply(lambda x: encoder_dict[x.name].fit_transform(x)).astype(float))"
      ],
      "metadata": {
        "id": "GD94ywiXiaND"
      },
      "execution_count": 11,
      "outputs": []
    },
    {
      "cell_type": "code",
      "source": [
        "X = df.iloc[:, 0:20].values\n",
        "y= df.iloc[:, 20].values  "
      ],
      "metadata": {
        "id": "9wookJMcsVit"
      },
      "execution_count": 12,
      "outputs": []
    },
    {
      "cell_type": "markdown",
      "metadata": {
        "id": "ErgwMysrYcmp"
      },
      "source": [
        "##  Split Data"
      ]
    },
    {
      "cell_type": "code",
      "metadata": {
        "id": "HnVm07C5mid8"
      },
      "source": [
        "# Split data into train/test = 80%/20%\n",
        "train_indices = np.random.choice(len(X), round(len(X)*0.8), replace=False)\n",
        "test_indices = np.array(list(set(range(len(X))) - set(train_indices)))\n",
        "X_train = X[train_indices]\n",
        "X_test = X[test_indices]\n",
        "y_train = y[train_indices]\n",
        "y_test = y[test_indices]"
      ],
      "execution_count": 13,
      "outputs": []
    },
    {
      "cell_type": "code",
      "source": [
        "print(X_train.shape, X_test.shape)\n",
        "print(y_train.shape, y_test.shape)"
      ],
      "metadata": {
        "colab": {
          "base_uri": "https://localhost:8080/"
        },
        "id": "4ilJYinWpUB_",
        "outputId": "8f261b11-5ce0-4989-8dd8-8cccdbcad275"
      },
      "execution_count": 14,
      "outputs": [
        {
          "output_type": "stream",
          "name": "stdout",
          "text": [
            "(15443, 20) (3861, 20)\n",
            "(15443,) (3861,)\n"
          ]
        }
      ]
    },
    {
      "cell_type": "code",
      "metadata": {
        "id": "D_XVDa-lonX8"
      },
      "source": [
        "# Normalize by column (min-max norm)\n",
        "def normalize_cols(m):\n",
        "    col_max = m.max(axis=0)\n",
        "    col_min = m.min(axis=0)\n",
        "    return (m-col_min) / (col_max - col_min)\n",
        "    \n",
        "X_vals_train = np.nan_to_num(normalize_cols(X_train))\n",
        "X_vals_test = np.nan_to_num(normalize_cols(X_test))"
      ],
      "execution_count": 15,
      "outputs": []
    },
    {
      "cell_type": "markdown",
      "source": [
        "## Define Tensorflow computational graph"
      ],
      "metadata": {
        "id": "vSdRopW6FTZR"
      }
    },
    {
      "cell_type": "code",
      "source": [
        "import tensorflow.compat.v1 as tf"
      ],
      "metadata": {
        "id": "b3JfRGV40r2O"
      },
      "execution_count": 16,
      "outputs": []
    },
    {
      "cell_type": "code",
      "source": [
        "tf.disable_v2_behavior()"
      ],
      "metadata": {
        "colab": {
          "base_uri": "https://localhost:8080/"
        },
        "id": "X5K4ax6_0unK",
        "outputId": "9209ba00-41d0-4ce7-ef29-72b8df75431f"
      },
      "execution_count": 17,
      "outputs": [
        {
          "output_type": "stream",
          "name": "stderr",
          "text": [
            "WARNING:tensorflow:From /usr/local/lib/python3.7/dist-packages/tensorflow/python/compat/v2_compat.py:107: disable_resource_variables (from tensorflow.python.ops.variable_scope) is deprecated and will be removed in a future version.\n",
            "Instructions for updating:\n",
            "non-resource variables are not supported in the long term\n"
          ]
        }
      ]
    },
    {
      "cell_type": "code",
      "source": [
        "# Declare batch size\n",
        "batch_size = 90"
      ],
      "metadata": {
        "id": "4av_BGACFfEw"
      },
      "execution_count": 18,
      "outputs": []
    },
    {
      "cell_type": "code",
      "metadata": {
        "id": "PykOtB8ApH6r"
      },
      "source": [
        "# Initialize placeholders\n",
        "x = tf.placeholder(shape=[None, 20], dtype=tf.float32)\n",
        "y_ = tf.placeholder(shape=[None,1], dtype=tf.float32)"
      ],
      "execution_count": 19,
      "outputs": []
    },
    {
      "cell_type": "code",
      "metadata": {
        "id": "YBvnpJaXpQ2h"
      },
      "source": [
        "# Create variables for linear regression\n",
        "W = tf.Variable(tf.zeros(shape=[20,1]))\n",
        "b = tf.Variable(tf.zeros([1]))"
      ],
      "execution_count": 20,
      "outputs": []
    },
    {
      "cell_type": "code",
      "metadata": {
        "id": "2Vc2TpotpW8J"
      },
      "source": [
        "# Declare model operations\n",
        "y = tf.nn.sigmoid(tf.matmul(x, W) + b)"
      ],
      "execution_count": 21,
      "outputs": []
    },
    {
      "cell_type": "code",
      "metadata": {
        "id": "8If2bKGzpejA"
      },
      "source": [
        "# Declare loss function (Cross Entropy loss)\n",
        "#cross_entropy  = tf.reduce_mean(-tf.reduce_sum(y_ * tf.math.log(y), reduction_indices=[1]))\n",
        "cross_entropy = tf.reduce_mean(tf.nn.sigmoid_cross_entropy_with_logits(logits=y, labels=y_))"
      ],
      "execution_count": 22,
      "outputs": []
    },
    {
      "cell_type": "code",
      "metadata": {
        "id": "rrWQ3Qn9pkqZ"
      },
      "source": [
        "# We will optimize our model via AdamOptimizer\n",
        "optimizer = tf.train.AdamOptimizer(0.0001).minimize(cross_entropy)"
      ],
      "execution_count": 23,
      "outputs": []
    },
    {
      "cell_type": "code",
      "metadata": {
        "id": "2iWnUxRKplvY"
      },
      "source": [
        "# Correct prediction if the most likely value  from softmax equals the target value.\n",
        "correct_prediction = tf.equal(tf.argmax(y,1), tf.argmax(y_,1))\n",
        "accuracy = tf.reduce_mean(tf.cast(correct_prediction, tf.float32))"
      ],
      "execution_count": 24,
      "outputs": []
    },
    {
      "cell_type": "markdown",
      "metadata": {
        "id": "LX6tG5Vid9IH"
      },
      "source": [
        "# 8. Train model"
      ]
    },
    {
      "cell_type": "code",
      "metadata": {
        "id": "sfsX80ljpuMJ"
      },
      "source": [
        "# Create graph session \n",
        "sess = tf.Session()\n",
        "# Initialize variables\n",
        "init = tf.global_variables_initializer()\n",
        "sess.run(init)"
      ],
      "execution_count": 25,
      "outputs": []
    },
    {
      "cell_type": "code",
      "metadata": {
        "id": "fLC_WVitpwu5"
      },
      "source": [
        "# Training loop\n",
        "loss_vec = []\n",
        "test_loss = []\n",
        "test_acc = []\n",
        "train_acc = []"
      ],
      "execution_count": 26,
      "outputs": []
    },
    {
      "cell_type": "code",
      "metadata": {
        "id": "YFV5k3xkpzDp",
        "outputId": "f5894d18-a398-40e6-cd35-5714649c607d",
        "colab": {
          "base_uri": "https://localhost:8080/"
        }
      },
      "source": [
        "for i in range(3000):\n",
        "    rand_index = np.random.choice(len(X_vals_train), size=batch_size)\n",
        "    rand_x = X_vals_train[rand_index]\n",
        "    rand_y = np.transpose([y_train[rand_index]])\n",
        "    sess.run(optimizer, feed_dict={x: rand_x, y_: rand_y})\n",
        "\n",
        "    temp_loss = sess.run(cross_entropy, feed_dict={x: rand_x, y_: rand_y})\n",
        "    loss_vec.append(temp_loss)\n",
        "    \n",
        "\n",
        "    temp_acc_train = sess.run(accuracy, feed_dict={x: X_vals_train, y_: np.transpose([y_train])})\n",
        "    train_acc.append(temp_acc_train)\n",
        "\n",
        "    temp_acc_test = sess.run(accuracy, feed_dict={x: X_vals_test, y_: np.transpose([y_test])})\n",
        "    test_acc.append(temp_acc_test)\n",
        "    \n",
        "    if (i+1)%500==0:\n",
        "        #print('Loss = ' + str(temp_loss))\n",
        "\n",
        "        # Cálculo del accuracy.\n",
        "        acc_test = np.mean(np.round(temp_acc_test) == y_test) \n",
        "        acc_train = np.mean(np.round(temp_acc_train) == y_train )\n",
        "        print('Generation: ' + str(i+1) + '. Loss = ' + str(temp_loss))\n",
        "print (\"Accuracy test  >> \", acc_test*100)\n",
        "print (\"Accuracy train >> \", acc_train*100)"
      ],
      "execution_count": 27,
      "outputs": [
        {
          "output_type": "stream",
          "name": "stdout",
          "text": [
            "Generation: 500. Loss = 0.69911206\n",
            "Generation: 1000. Loss = 0.6868993\n",
            "Generation: 1500. Loss = 0.713503\n",
            "Generation: 2000. Loss = 0.6875013\n",
            "Generation: 2500. Loss = 0.72696084\n",
            "Generation: 3000. Loss = 0.66169524\n",
            "Accuracy test  >>  49.158249158249156\n",
            "Accuracy train >>  50.21045133717542\n"
          ]
        }
      ]
    },
    {
      "cell_type": "markdown",
      "source": [
        "## Display model performance"
      ],
      "metadata": {
        "id": "Pd7PK-2DF7Af"
      }
    },
    {
      "cell_type": "code",
      "metadata": {
        "id": "nUT2KITvp5E5",
        "outputId": "9992fdb9-9269-4b4c-b2f1-6e5027cb668f",
        "colab": {
          "base_uri": "https://localhost:8080/",
          "height": 295
        }
      },
      "source": [
        "# Plot loss (MSE) over time\n",
        "plt.plot(loss_vec, 'k-', label='Train Loss')\n",
        "plt.plot(test_loss, 'r--', label='Test Loss')\n",
        "plt.title('Loss per Generation')\n",
        "plt.legend(loc='upper right')\n",
        "plt.xlabel('Epoch')\n",
        "plt.ylabel('Loss')\n",
        "plt.show()"
      ],
      "execution_count": 28,
      "outputs": [
        {
          "output_type": "display_data",
          "data": {
            "text/plain": [
              "<Figure size 432x288 with 1 Axes>"
            ],
            "image/png": "[encoded data removed]"
          },
          "metadata": {
            "needs_background": "light"
          }
        }
      ]
    }
  ]
}