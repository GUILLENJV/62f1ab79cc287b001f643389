{
  "cells": [
    {
      "cell_type": "markdown",
      "metadata": {
        "id": "view-in-github",
        "colab_type": "text"
      },
      "source": [
        "<a href=\"https://colab.research.google.com/github/GUILLENJV/62f1ab79cc287b001f643389/blob/master/Model_Tensorflow_Softmax.ipynb\" target=\"_parent\"><img src=\"https://colab.research.google.com/assets/colab-badge.svg\" alt=\"Open In Colab\"/></a>"
      ]
    },
    {
      "cell_type": "markdown",
      "metadata": {
        "id": "HN02-nhSkp78"
      },
      "source": [
        "# Model_Tensorflow\n",
        "# Multilayer\n",
        "# Softmax"
      ]
    },
    {
      "cell_type": "code",
      "execution_count": 1,
      "metadata": {
        "id": "Q-hrdi1KkxmL"
      },
      "outputs": [],
      "source": [
        "# Load Libraries\n",
        "import matplotlib.pyplot as plt\n",
        "import numpy as np\n",
        "import pandas as pd\n",
        "import tensorflow as tf\n",
        "from sklearn.preprocessing import OneHotEncoder, LabelEncoder, label_binarize\n",
        "from sklearn.model_selection import train_test_split\n",
        "import requests\n",
        "from sklearn import datasets\n",
        "from sklearn import preprocessing\n",
        "from collections import defaultdict\n",
        "from sklearn.preprocessing import normalize\n",
        "from tensorflow.python.framework import ops\n",
        "ops.reset_default_graph()"
      ]
    },
    {
      "cell_type": "markdown",
      "metadata": {
        "id": "drOcIb9cYGmS"
      },
      "source": [
        "##  Load Dataset "
      ]
    },
    {
      "cell_type": "code",
      "execution_count": 2,
      "metadata": {
        "id": "--PN5fGWlXqY"
      },
      "outputs": [],
      "source": [
        "df= pd.read_excel('631d8277776f1d001a21e6eb_120922.xlsx')"
      ]
    },
    {
      "cell_type": "code",
      "execution_count": 3,
      "metadata": {
        "colab": {
          "base_uri": "https://localhost:8080/",
          "height": 300
        },
        "id": "GLaLnWolZ3u6",
        "outputId": "fdbf6d1b-4ea4-4f5e-bd7a-c0977ac6b1e3"
      },
      "outputs": [
        {
          "output_type": "execute_result",
          "data": {
            "text/plain": [
              "                campaign_id         traffic_source_id visitor_device_browser  \\\n",
              "0  5cb4f2dfc38c333c70c4c7e2  57ac89e0a38746122f4af882                 Safari   \n",
              "1  5cb4f2dfc38c333c70c4c7e2  57ac89e0a38746122f4af882        Unknown Crawler   \n",
              "2  59d7e4bd8f21b57977a85a41  591b6c25321d75857258a641                 Safari   \n",
              "3  59d7e4bd8f21b57977a85a41  591b6c25321d75857258a641                Unknown   \n",
              "4  59d7e4bd8f21b57977a85a41  591b6c25321d75857258a641   Facebook for Android   \n",
              "\n",
              "  visitor_device_hardware_family visitor_device_hardware_model  \\\n",
              "0                      Macintosh                     Macintosh   \n",
              "1                      Macintosh                     Macintosh   \n",
              "2                      Macintosh                     Macintosh   \n",
              "3                       Emulator                       Unknown   \n",
              "4                            One                          ONE    \n",
              "\n",
              "  visitor_device_hardware_vendor visitor_device_os_family  \\\n",
              "0                          Apple                    macOS   \n",
              "1                          Apple                    macOS   \n",
              "2                          Apple                 Mac OS X   \n",
              "3                        Unknown                  Unknown   \n",
              "4                            HTC                  Android   \n",
              "\n",
              "  visitor_device_os_vendor visitor_device_os_version visitor_device_type  ...  \\\n",
              "0                    Apple                   10.15.7             Desktop  ...   \n",
              "1                    Apple                   10.15.5             Desktop  ...   \n",
              "2                    Apple                   10.10.1             Desktop  ...   \n",
              "3                  Unknown                   Unknown             Desktop  ...   \n",
              "4                   Google                     4.4.4               Phone  ...   \n",
              "\n",
              "  visitor_geo_location_connection_type visitor_geo_location_countryCode  \\\n",
              "0                            Corporate                               IE   \n",
              "1                                  NaN                               US   \n",
              "2                            Corporate                               US   \n",
              "3                                  NaN                               US   \n",
              "4                            Corporate                               US   \n",
              "\n",
              "  visitor_geo_location_isp visitor_geo_location_regionName  \\\n",
              "0               Amazon.com                        Leinster   \n",
              "1                      NaN                      California   \n",
              "2               Amazon.com                        Virginia   \n",
              "3                      NaN                        New York   \n",
              "4    Cogent Communications            District of Columbia   \n",
              "\n",
              "     visitor_tokens_adh visitor_tokens_cadid visitor_tokens_adi converted_yes  \\\n",
              "0  rebatepayinstall-ymq          1FJgQpbZdX0          solaryard             0   \n",
              "1  rebatepayinstall-ymq          1FJgQpbZdX0          solaryard             0   \n",
              "2                   NaN                  NaN                NaN             0   \n",
              "3                   NaN                  NaN                NaN             0   \n",
              "4                   NaN                  NaN                NaN             0   \n",
              "\n",
              "   converted_no           landing_page_id  \n",
              "0             1  631d72ff99ba21001a8503fa  \n",
              "1             1  631d779999ba21001a850416  \n",
              "2             1  631d779999ba21001a850416  \n",
              "3             1  631d72ff99ba21001a8503fa  \n",
              "4             1  631d72ff99ba21001a8503fa  \n",
              "\n",
              "[5 rows x 21 columns]"
            ],
            "text/html": [
              "\n",
              "  <div id=\"df-1e185037-414d-442f-a302-73aaca0ec42d\">\n",
              "    <div class=\"colab-df-container\">\n",
              "      <div>\n",
              "<style scoped>\n",
              "    .dataframe tbody tr th:only-of-type {\n",
              "        vertical-align: middle;\n",
              "    }\n",
              "\n",
              "    .dataframe tbody tr th {\n",
              "        vertical-align: top;\n",
              "    }\n",
              "\n",
              "    .dataframe thead th {\n",
              "        text-align: right;\n",
              "    }\n",
              "</style>\n",
              "<table border=\"1\" class=\"dataframe\">\n",
              "  <thead>\n",
              "    <tr style=\"text-align: right;\">\n",
              "      <th></th>\n",
              "      <th>campaign_id</th>\n",
              "      <th>traffic_source_id</th>\n",
              "      <th>visitor_device_browser</th>\n",
              "      <th>visitor_device_hardware_family</th>\n",
              "      <th>visitor_device_hardware_model</th>\n",
              "      <th>visitor_device_hardware_vendor</th>\n",
              "      <th>visitor_device_os_family</th>\n",
              "      <th>visitor_device_os_vendor</th>\n",
              "      <th>visitor_device_os_version</th>\n",
              "      <th>visitor_device_type</th>\n",
              "      <th>...</th>\n",
              "      <th>visitor_geo_location_connection_type</th>\n",
              "      <th>visitor_geo_location_countryCode</th>\n",
              "      <th>visitor_geo_location_isp</th>\n",
              "      <th>visitor_geo_location_regionName</th>\n",
              "      <th>visitor_tokens_adh</th>\n",
              "      <th>visitor_tokens_cadid</th>\n",
              "      <th>visitor_tokens_adi</th>\n",
              "      <th>converted_yes</th>\n",
              "      <th>converted_no</th>\n",
              "      <th>landing_page_id</th>\n",
              "    </tr>\n",
              "  </thead>\n",
              "  <tbody>\n",
              "    <tr>\n",
              "      <th>0</th>\n",
              "      <td>5cb4f2dfc38c333c70c4c7e2</td>\n",
              "      <td>57ac89e0a38746122f4af882</td>\n",
              "      <td>Safari</td>\n",
              "      <td>Macintosh</td>\n",
              "      <td>Macintosh</td>\n",
              "      <td>Apple</td>\n",
              "      <td>macOS</td>\n",
              "      <td>Apple</td>\n",
              "      <td>10.15.7</td>\n",
              "      <td>Desktop</td>\n",
              "      <td>...</td>\n",
              "      <td>Corporate</td>\n",
              "      <td>IE</td>\n",
              "      <td>Amazon.com</td>\n",
              "      <td>Leinster</td>\n",
              "      <td>rebatepayinstall-ymq</td>\n",
              "      <td>1FJgQpbZdX0</td>\n",
              "      <td>solaryard</td>\n",
              "      <td>0</td>\n",
              "      <td>1</td>\n",
              "      <td>631d72ff99ba21001a8503fa</td>\n",
              "    </tr>\n",
              "    <tr>\n",
              "      <th>1</th>\n",
              "      <td>5cb4f2dfc38c333c70c4c7e2</td>\n",
              "      <td>57ac89e0a38746122f4af882</td>\n",
              "      <td>Unknown Crawler</td>\n",
              "      <td>Macintosh</td>\n",
              "      <td>Macintosh</td>\n",
              "      <td>Apple</td>\n",
              "      <td>macOS</td>\n",
              "      <td>Apple</td>\n",
              "      <td>10.15.5</td>\n",
              "      <td>Desktop</td>\n",
              "      <td>...</td>\n",
              "      <td>NaN</td>\n",
              "      <td>US</td>\n",
              "      <td>NaN</td>\n",
              "      <td>California</td>\n",
              "      <td>rebatepayinstall-ymq</td>\n",
              "      <td>1FJgQpbZdX0</td>\n",
              "      <td>solaryard</td>\n",
              "      <td>0</td>\n",
              "      <td>1</td>\n",
              "      <td>631d779999ba21001a850416</td>\n",
              "    </tr>\n",
              "    <tr>\n",
              "      <th>2</th>\n",
              "      <td>59d7e4bd8f21b57977a85a41</td>\n",
              "      <td>591b6c25321d75857258a641</td>\n",
              "      <td>Safari</td>\n",
              "      <td>Macintosh</td>\n",
              "      <td>Macintosh</td>\n",
              "      <td>Apple</td>\n",
              "      <td>Mac OS X</td>\n",
              "      <td>Apple</td>\n",
              "      <td>10.10.1</td>\n",
              "      <td>Desktop</td>\n",
              "      <td>...</td>\n",
              "      <td>Corporate</td>\n",
              "      <td>US</td>\n",
              "      <td>Amazon.com</td>\n",
              "      <td>Virginia</td>\n",
              "      <td>NaN</td>\n",
              "      <td>NaN</td>\n",
              "      <td>NaN</td>\n",
              "      <td>0</td>\n",
              "      <td>1</td>\n",
              "      <td>631d779999ba21001a850416</td>\n",
              "    </tr>\n",
              "    <tr>\n",
              "      <th>3</th>\n",
              "      <td>59d7e4bd8f21b57977a85a41</td>\n",
              "      <td>591b6c25321d75857258a641</td>\n",
              "      <td>Unknown</td>\n",
              "      <td>Emulator</td>\n",
              "      <td>Unknown</td>\n",
              "      <td>Unknown</td>\n",
              "      <td>Unknown</td>\n",
              "      <td>Unknown</td>\n",
              "      <td>Unknown</td>\n",
              "      <td>Desktop</td>\n",
              "      <td>...</td>\n",
              "      <td>NaN</td>\n",
              "      <td>US</td>\n",
              "      <td>NaN</td>\n",
              "      <td>New York</td>\n",
              "      <td>NaN</td>\n",
              "      <td>NaN</td>\n",
              "      <td>NaN</td>\n",
              "      <td>0</td>\n",
              "      <td>1</td>\n",
              "      <td>631d72ff99ba21001a8503fa</td>\n",
              "    </tr>\n",
              "    <tr>\n",
              "      <th>4</th>\n",
              "      <td>59d7e4bd8f21b57977a85a41</td>\n",
              "      <td>591b6c25321d75857258a641</td>\n",
              "      <td>Facebook for Android</td>\n",
              "      <td>One</td>\n",
              "      <td>ONE</td>\n",
              "      <td>HTC</td>\n",
              "      <td>Android</td>\n",
              "      <td>Google</td>\n",
              "      <td>4.4.4</td>\n",
              "      <td>Phone</td>\n",
              "      <td>...</td>\n",
              "      <td>Corporate</td>\n",
              "      <td>US</td>\n",
              "      <td>Cogent Communications</td>\n",
              "      <td>District of Columbia</td>\n",
              "      <td>NaN</td>\n",
              "      <td>NaN</td>\n",
              "      <td>NaN</td>\n",
              "      <td>0</td>\n",
              "      <td>1</td>\n",
              "      <td>631d72ff99ba21001a8503fa</td>\n",
              "    </tr>\n",
              "  </tbody>\n",
              "</table>\n",
              "<p>5 rows × 21 columns</p>\n",
              "</div>\n",
              "      <button class=\"colab-df-convert\" onclick=\"convertToInteractive('df-1e185037-414d-442f-a302-73aaca0ec42d')\"\n",
              "              title=\"Convert this dataframe to an interactive table.\"\n",
              "              style=\"display:none;\">\n",
              "        \n",
              "  <svg xmlns=\"http://www.w3.org/2000/svg\" height=\"24px\"viewBox=\"0 0 24 24\"\n",
              "       width=\"24px\">\n",
              "    <path d=\"M0 0h24v24H0V0z\" fill=\"none\"/>\n",
              "    <path d=\"M18.56 5.44l.94 2.06.94-2.06 2.06-.94-2.06-.94-.94-2.06-.94 2.06-2.06.94zm-11 1L8.5 8.5l.94-2.06 2.06-.94-2.06-.94L8.5 2.5l-.94 2.06-2.06.94zm10 10l.94 2.06.94-2.06 2.06-.94-2.06-.94-.94-2.06-.94 2.06-2.06.94z\"/><path d=\"M17.41 7.96l-1.37-1.37c-.4-.4-.92-.59-1.43-.59-.52 0-1.04.2-1.43.59L10.3 9.45l-7.72 7.72c-.78.78-.78 2.05 0 2.83L4 21.41c.39.39.9.59 1.41.59.51 0 1.02-.2 1.41-.59l7.78-7.78 2.81-2.81c.8-.78.8-2.07 0-2.86zM5.41 20L4 18.59l7.72-7.72 1.47 1.35L5.41 20z\"/>\n",
              "  </svg>\n",
              "      </button>\n",
              "      \n",
              "  <style>\n",
              "    .colab-df-container {\n",
              "      display:flex;\n",
              "      flex-wrap:wrap;\n",
              "      gap: 12px;\n",
              "    }\n",
              "\n",
              "    .colab-df-convert {\n",
              "      background-color: #E8F0FE;\n",
              "      border: none;\n",
              "      border-radius: 50%;\n",
              "      cursor: pointer;\n",
              "      display: none;\n",
              "      fill: #1967D2;\n",
              "      height: 32px;\n",
              "      padding: 0 0 0 0;\n",
              "      width: 32px;\n",
              "    }\n",
              "\n",
              "    .colab-df-convert:hover {\n",
              "      background-color: #E2EBFA;\n",
              "      box-shadow: 0px 1px 2px rgba(60, 64, 67, 0.3), 0px 1px 3px 1px rgba(60, 64, 67, 0.15);\n",
              "      fill: #174EA6;\n",
              "    }\n",
              "\n",
              "    [theme=dark] .colab-df-convert {\n",
              "      background-color: #3B4455;\n",
              "      fill: #D2E3FC;\n",
              "    }\n",
              "\n",
              "    [theme=dark] .colab-df-convert:hover {\n",
              "      background-color: #434B5C;\n",
              "      box-shadow: 0px 1px 3px 1px rgba(0, 0, 0, 0.15);\n",
              "      filter: drop-shadow(0px 1px 2px rgba(0, 0, 0, 0.3));\n",
              "      fill: #FFFFFF;\n",
              "    }\n",
              "  </style>\n",
              "\n",
              "      <script>\n",
              "        const buttonEl =\n",
              "          document.querySelector('#df-1e185037-414d-442f-a302-73aaca0ec42d button.colab-df-convert');\n",
              "        buttonEl.style.display =\n",
              "          google.colab.kernel.accessAllowed ? 'block' : 'none';\n",
              "\n",
              "        async function convertToInteractive(key) {\n",
              "          const element = document.querySelector('#df-1e185037-414d-442f-a302-73aaca0ec42d');\n",
              "          const dataTable =\n",
              "            await google.colab.kernel.invokeFunction('convertToInteractive',\n",
              "                                                     [key], {});\n",
              "          if (!dataTable) return;\n",
              "\n",
              "          const docLinkHtml = 'Like what you see? Visit the ' +\n",
              "            '<a target=\"_blank\" href=https://colab.research.google.com/notebooks/data_table.ipynb>data table notebook</a>'\n",
              "            + ' to learn more about interactive tables.';\n",
              "          element.innerHTML = '';\n",
              "          dataTable['output_type'] = 'display_data';\n",
              "          await google.colab.output.renderOutput(dataTable, element);\n",
              "          const docLink = document.createElement('div');\n",
              "          docLink.innerHTML = docLinkHtml;\n",
              "          element.appendChild(docLink);\n",
              "        }\n",
              "      </script>\n",
              "    </div>\n",
              "  </div>\n",
              "  "
            ]
          },
          "metadata": {},
          "execution_count": 3
        }
      ],
      "source": [
        "df.head()"
      ]
    },
    {
      "cell_type": "markdown",
      "metadata": {
        "id": "-jOzezpPhu5q"
      },
      "source": [
        "#  Data preprocessing"
      ]
    },
    {
      "cell_type": "code",
      "execution_count": 4,
      "metadata": {
        "colab": {
          "base_uri": "https://localhost:8080/"
        },
        "id": "7qcqPD18kbBG",
        "outputId": "e7447b80-c04f-4913-d974-c4c9cc8d4c37"
      },
      "outputs": [
        {
          "output_type": "execute_result",
          "data": {
            "text/plain": [
              "631d72ff99ba21001a8503fa    499\n",
              "631d779999ba21001a850416    499\n",
              "62566aa432b19a0164d802be    499\n",
              "Name: landing_page_id, dtype: int64"
            ]
          },
          "metadata": {},
          "execution_count": 4
        }
      ],
      "source": [
        "df[\"landing_page_id\"].value_counts()"
      ]
    },
    {
      "cell_type": "code",
      "execution_count": 5,
      "metadata": {
        "colab": {
          "base_uri": "https://localhost:8080/"
        },
        "id": "zi_C-9uKoQ4u",
        "outputId": "ca64a4ea-bdc1-4ba3-ca75-b966fbe7c75c"
      },
      "outputs": [
        {
          "output_type": "execute_result",
          "data": {
            "text/plain": [
              "campaign_id                             object\n",
              "traffic_source_id                       object\n",
              "visitor_device_browser                  object\n",
              "visitor_device_hardware_family          object\n",
              "visitor_device_hardware_model           object\n",
              "visitor_device_hardware_vendor          object\n",
              "visitor_device_os_family                object\n",
              "visitor_device_os_vendor                object\n",
              "visitor_device_os_version               object\n",
              "visitor_device_type                     object\n",
              "visitor_geo_location_cityName           object\n",
              "visitor_geo_location_connection_type    object\n",
              "visitor_geo_location_countryCode        object\n",
              "visitor_geo_location_isp                object\n",
              "visitor_geo_location_regionName         object\n",
              "visitor_tokens_adh                      object\n",
              "visitor_tokens_cadid                    object\n",
              "visitor_tokens_adi                      object\n",
              "converted_yes                            int64\n",
              "converted_no                             int64\n",
              "landing_page_id                         object\n",
              "dtype: object"
            ]
          },
          "metadata": {},
          "execution_count": 5
        }
      ],
      "source": [
        "df.dtypes"
      ]
    },
    {
      "cell_type": "code",
      "execution_count": 6,
      "metadata": {
        "id": "HtrLftiApnIt"
      },
      "outputs": [],
      "source": [
        "df[\"visitor_device_hardware_family\"] = df[\"visitor_device_hardware_family\"].apply(str)\n",
        "df[\"visitor_device_hardware_model\"] = df[\"visitor_device_hardware_model\"].apply(str)\n",
        "df[\"visitor_device_os_version\"] = df[\"visitor_device_os_version\"].apply(str)\n",
        "df[\"visitor_device_hardware_family\"] = df[\"visitor_device_hardware_family\"].apply(str)\n",
        "df[\"visitor_device_hardware_model\"] = df[\"visitor_device_hardware_model\"].apply(str)\n",
        "df[\"visitor_device_os_version\"] = df[\"visitor_device_os_version\"].apply(str)\n",
        "df[\"visitor_tokens_adh\"] = df[\"visitor_tokens_adh\"].apply(str)\n",
        "df[\"visitor_tokens_cadid\"] = df[\"visitor_tokens_cadid\"].apply(str)\n",
        "df[\"converted_yes\"] = df[\"converted_yes\"].apply(str)\n",
        "df[\"converted_no\"] = df[\"converted_no\"].apply(str)\n",
        "df[\"converted_yes\"] = df[\"converted_yes\"].apply(str)\n",
        "df[\"converted_no\"] = df[\"converted_no\"].apply(str)"
      ]
    },
    {
      "cell_type": "code",
      "execution_count": 7,
      "metadata": {
        "colab": {
          "base_uri": "https://localhost:8080/"
        },
        "id": "GB59kpoLp8bH",
        "outputId": "5db95532-17d2-4907-a113-eb7922b67d57"
      },
      "outputs": [
        {
          "output_type": "execute_result",
          "data": {
            "text/plain": [
              "campaign_id                             object\n",
              "traffic_source_id                       object\n",
              "visitor_device_browser                  object\n",
              "visitor_device_hardware_family          object\n",
              "visitor_device_hardware_model           object\n",
              "visitor_device_hardware_vendor          object\n",
              "visitor_device_os_family                object\n",
              "visitor_device_os_vendor                object\n",
              "visitor_device_os_version               object\n",
              "visitor_device_type                     object\n",
              "visitor_geo_location_cityName           object\n",
              "visitor_geo_location_connection_type    object\n",
              "visitor_geo_location_countryCode        object\n",
              "visitor_geo_location_isp                object\n",
              "visitor_geo_location_regionName         object\n",
              "visitor_tokens_adh                      object\n",
              "visitor_tokens_cadid                    object\n",
              "visitor_tokens_adi                      object\n",
              "converted_yes                           object\n",
              "converted_no                            object\n",
              "landing_page_id                         object\n",
              "dtype: object"
            ]
          },
          "metadata": {},
          "execution_count": 7
        }
      ],
      "source": [
        "df.dtypes"
      ]
    },
    {
      "cell_type": "code",
      "execution_count": 8,
      "metadata": {
        "colab": {
          "base_uri": "https://localhost:8080/"
        },
        "id": "b-ViM-gQf9cK",
        "outputId": "31d46d25-e0a3-4f26-a752-b6e6a38a30f8"
      },
      "outputs": [
        {
          "output_type": "execute_result",
          "data": {
            "text/plain": [
              "campaign_id                              0\n",
              "converted_yes                            0\n",
              "visitor_tokens_cadid                     0\n",
              "visitor_tokens_adh                       0\n",
              "visitor_geo_location_regionName          0\n",
              "visitor_geo_location_countryCode         0\n",
              "converted_no                             0\n",
              "visitor_device_type                      0\n",
              "landing_page_id                          0\n",
              "visitor_device_os_vendor                 0\n",
              "visitor_device_os_family                 0\n",
              "visitor_device_hardware_vendor           0\n",
              "visitor_device_hardware_model            0\n",
              "visitor_device_hardware_family           0\n",
              "visitor_device_browser                   0\n",
              "traffic_source_id                        0\n",
              "visitor_device_os_version                0\n",
              "visitor_tokens_adi                       5\n",
              "visitor_geo_location_isp                12\n",
              "visitor_geo_location_connection_type    14\n",
              "visitor_geo_location_cityName           40\n",
              "dtype: int64"
            ]
          },
          "metadata": {},
          "execution_count": 8
        }
      ],
      "source": [
        "df.isna().sum().sort_values()"
      ]
    },
    {
      "cell_type": "code",
      "execution_count": 9,
      "metadata": {
        "id": "2wYfjmXEgMJA"
      },
      "outputs": [],
      "source": [
        "# Imputamos la variable \n",
        "df['visitor_geo_location_isp'].fillna(df['visitor_geo_location_isp'].mode()[0], inplace=True)\n",
        "df['visitor_geo_location_connection_type'].fillna(df['visitor_geo_location_connection_type'].mode()[0], inplace=True)\n",
        "df['visitor_geo_location_cityName'].fillna(df['visitor_geo_location_cityName'].mode()[0], inplace=True)\n",
        "df['visitor_tokens_adi'].fillna(df['visitor_tokens_adi'].mode()[0], inplace=True)"
      ]
    },
    {
      "cell_type": "code",
      "execution_count": 10,
      "metadata": {
        "colab": {
          "base_uri": "https://localhost:8080/"
        },
        "id": "qrPfe61QgdvJ",
        "outputId": "4c979a23-b4a6-4a0f-d451-10c728953228"
      },
      "outputs": [
        {
          "output_type": "execute_result",
          "data": {
            "text/plain": [
              "campaign_id                             0\n",
              "converted_yes                           0\n",
              "visitor_tokens_adi                      0\n",
              "visitor_tokens_cadid                    0\n",
              "visitor_tokens_adh                      0\n",
              "visitor_geo_location_regionName         0\n",
              "visitor_geo_location_isp                0\n",
              "visitor_geo_location_countryCode        0\n",
              "visitor_geo_location_connection_type    0\n",
              "converted_no                            0\n",
              "visitor_geo_location_cityName           0\n",
              "visitor_device_os_version               0\n",
              "visitor_device_os_vendor                0\n",
              "visitor_device_os_family                0\n",
              "visitor_device_hardware_vendor          0\n",
              "visitor_device_hardware_model           0\n",
              "visitor_device_hardware_family          0\n",
              "visitor_device_browser                  0\n",
              "traffic_source_id                       0\n",
              "visitor_device_type                     0\n",
              "landing_page_id                         0\n",
              "dtype: int64"
            ]
          },
          "metadata": {},
          "execution_count": 10
        }
      ],
      "source": [
        "df.isna().sum().sort_values()"
      ]
    },
    {
      "cell_type": "markdown",
      "metadata": {
        "id": "rXPs-RxFh1RS"
      },
      "source": [
        "#  Label Encode"
      ]
    },
    {
      "cell_type": "code",
      "execution_count": 11,
      "metadata": {
        "id": "0gna0LUAyvax"
      },
      "outputs": [],
      "source": [
        "from sklearn.preprocessing import OrdinalEncoder"
      ]
    },
    {
      "cell_type": "code",
      "execution_count": 12,
      "metadata": {
        "colab": {
          "base_uri": "https://localhost:8080/"
        },
        "id": "Yx4-W4NgzB1T",
        "outputId": "4a048b83-6250-4c01-9235-7265e29e8075"
      },
      "outputs": [
        {
          "output_type": "execute_result",
          "data": {
            "text/plain": [
              "Index(['campaign_id', 'traffic_source_id', 'visitor_device_browser',\n",
              "       'visitor_device_hardware_family', 'visitor_device_hardware_model',\n",
              "       'visitor_device_hardware_vendor', 'visitor_device_os_family',\n",
              "       'visitor_device_os_vendor', 'visitor_device_os_version',\n",
              "       'visitor_device_type', 'visitor_geo_location_cityName',\n",
              "       'visitor_geo_location_connection_type',\n",
              "       'visitor_geo_location_countryCode', 'visitor_geo_location_isp',\n",
              "       'visitor_geo_location_regionName', 'visitor_tokens_adh',\n",
              "       'visitor_tokens_cadid', 'visitor_tokens_adi', 'converted_yes',\n",
              "       'converted_no', 'landing_page_id'],\n",
              "      dtype='object')"
            ]
          },
          "metadata": {},
          "execution_count": 12
        }
      ],
      "source": [
        "df.columns"
      ]
    },
    {
      "cell_type": "code",
      "execution_count": 13,
      "metadata": {
        "id": "1GGi5RNuzHIB"
      },
      "outputs": [],
      "source": [
        "X = df[['campaign_id', 'traffic_source_id', 'visitor_device_browser',\n",
        "       'visitor_device_hardware_family', 'visitor_device_hardware_model',\n",
        "       'visitor_device_hardware_vendor', 'visitor_device_os_family',\n",
        "       'visitor_device_os_vendor', 'visitor_device_os_version',\n",
        "       'visitor_device_type', 'visitor_geo_location_cityName',\n",
        "       'visitor_geo_location_connection_type',\n",
        "       'visitor_geo_location_countryCode', 'visitor_geo_location_isp',\n",
        "       'visitor_geo_location_regionName', 'visitor_tokens_adh',\n",
        "       'visitor_tokens_cadid', 'visitor_tokens_adi', 'converted_yes',\n",
        "       'converted_no']]"
      ]
    },
    {
      "cell_type": "code",
      "execution_count": 14,
      "metadata": {
        "id": "99-KX5nMzOox"
      },
      "outputs": [],
      "source": [
        "X = X.astype(str).to_numpy()"
      ]
    },
    {
      "cell_type": "code",
      "execution_count": 15,
      "metadata": {
        "id": "537n6_fdzQya"
      },
      "outputs": [],
      "source": [
        "y = df[[\"landing_page_id\"]].to_numpy()"
      ]
    },
    {
      "cell_type": "code",
      "execution_count": 16,
      "metadata": {
        "colab": {
          "base_uri": "https://localhost:8080/"
        },
        "id": "Y1Snk7gRzUDr",
        "outputId": "59b1e06a-7fe8-4d0d-c093-8e7772b20da2"
      },
      "outputs": [
        {
          "output_type": "execute_result",
          "data": {
            "text/plain": [
              "array([['5cb4f2dfc38c333c70c4c7e2', '57ac89e0a38746122f4af882', 'Safari',\n",
              "        ..., 'solaryard', '0', '1'],\n",
              "       ['5cb4f2dfc38c333c70c4c7e2', '57ac89e0a38746122f4af882',\n",
              "        'Unknown Crawler', ..., 'solaryard', '0', '1'],\n",
              "       ['59d7e4bd8f21b57977a85a41', '591b6c25321d75857258a641', 'Safari',\n",
              "        ..., 'tsbatout', '0', '1'],\n",
              "       ...,\n",
              "       ['630e3a6e050023001a6696ff', '5e46d6787810b90011c91204', 'Safari',\n",
              "        ..., 'blondejudge2', '1', '0'],\n",
              "       ['630e3a6e050023001a6696ff', '5e46d6787810b90011c91204', 'Safari',\n",
              "        ..., 'blondejudge2', '1', '0'],\n",
              "       ['630e3a6e050023001a6696ff', '5e46d6787810b90011c91204', 'Safari',\n",
              "        ..., 'blondejudge2', '1', '0']], dtype=object)"
            ]
          },
          "metadata": {},
          "execution_count": 16
        }
      ],
      "source": [
        "X"
      ]
    },
    {
      "cell_type": "code",
      "execution_count": 17,
      "metadata": {
        "colab": {
          "base_uri": "https://localhost:8080/"
        },
        "id": "lNZdj-HszWS7",
        "outputId": "45b6a9ce-40f8-4139-86cc-54439cbd0d2f"
      },
      "outputs": [
        {
          "output_type": "execute_result",
          "data": {
            "text/plain": [
              "array([['631d72ff99ba21001a8503fa'],\n",
              "       ['631d779999ba21001a850416'],\n",
              "       ['631d779999ba21001a850416'],\n",
              "       ...,\n",
              "       ['631d72ff99ba21001a8503fa'],\n",
              "       ['631d72ff99ba21001a8503fa'],\n",
              "       ['631d72ff99ba21001a8503fa']], dtype=object)"
            ]
          },
          "metadata": {},
          "execution_count": 17
        }
      ],
      "source": [
        "y"
      ]
    },
    {
      "cell_type": "code",
      "execution_count": 18,
      "metadata": {
        "colab": {
          "base_uri": "https://localhost:8080/"
        },
        "id": "2lM8KX01yoMz",
        "outputId": "fe532b4f-24c5-4830-bbac-c331c3e52463"
      },
      "outputs": [
        {
          "output_type": "stream",
          "name": "stdout",
          "text": [
            "X shape: :  (1497, 20)\n"
          ]
        }
      ],
      "source": [
        "# encode string input values as integers\n",
        "encoded_x = None\n",
        "for i in range(0, X.shape[1]):\n",
        "    label_encoder = LabelEncoder()\n",
        "    feature = label_encoder.fit_transform(X[:,i])\n",
        "    feature = feature.reshape(X.shape[0], 1)\n",
        "    onehot_encoder = OrdinalEncoder()\n",
        "    feature = onehot_encoder.fit_transform(feature)\n",
        "    if encoded_x is None:\n",
        "        encoded_x = feature\n",
        "    else:\n",
        "        encoded_x = np.concatenate((encoded_x, feature), axis=1)\n",
        "print(\"X shape: : \", encoded_x.shape)"
      ]
    },
    {
      "cell_type": "code",
      "execution_count": 19,
      "metadata": {
        "colab": {
          "base_uri": "https://localhost:8080/"
        },
        "id": "UEMyib1tz_VK",
        "outputId": "c6018b1c-e1b6-499e-ef0a-d9bdf9818d1c"
      },
      "outputs": [
        {
          "output_type": "execute_result",
          "data": {
            "text/plain": [
              "array([[ 1.,  0., 18., ...,  9.,  0.,  1.],\n",
              "       [ 1.,  0., 23., ...,  9.,  0.,  1.],\n",
              "       [ 0.,  3., 18., ..., 10.,  0.,  1.],\n",
              "       ...,\n",
              "       [33.,  4., 18., ...,  1.,  1.,  0.],\n",
              "       [33.,  4., 18., ...,  1.,  1.,  0.],\n",
              "       [33.,  4., 18., ...,  1.,  1.,  0.]])"
            ]
          },
          "metadata": {},
          "execution_count": 19
        }
      ],
      "source": [
        "encoded_x"
      ]
    },
    {
      "cell_type": "code",
      "execution_count": 20,
      "metadata": {
        "id": "G7syWZbt0qkp"
      },
      "outputs": [],
      "source": [
        "from keras.utils import np_utils"
      ]
    },
    {
      "cell_type": "code",
      "execution_count": 21,
      "metadata": {
        "colab": {
          "base_uri": "https://localhost:8080/"
        },
        "id": "nJTlICZE0roo",
        "outputId": "3d3efb7c-2544-4bd9-98aa-01d26d013890"
      },
      "outputs": [
        {
          "output_type": "stream",
          "name": "stderr",
          "text": [
            "/usr/local/lib/python3.7/dist-packages/sklearn/preprocessing/_label.py:98: DataConversionWarning: A column-vector y was passed when a 1d array was expected. Please change the shape of y to (n_samples, ), for example using ravel().\n",
            "  y = column_or_1d(y, warn=True)\n",
            "/usr/local/lib/python3.7/dist-packages/sklearn/preprocessing/_label.py:133: DataConversionWarning: A column-vector y was passed when a 1d array was expected. Please change the shape of y to (n_samples, ), for example using ravel().\n",
            "  y = column_or_1d(y, warn=True)\n"
          ]
        }
      ],
      "source": [
        "# encode string class values as integers\n",
        "label_encoder = LabelEncoder()\n",
        "label_encoder = label_encoder.fit(y)\n",
        "label_encoded_y = label_encoder.transform(y)\n",
        "# convert integers to dummy variables (i.e. one hot encoded)\n",
        "dummy_y = np_utils.to_categorical(label_encoded_y)"
      ]
    },
    {
      "cell_type": "code",
      "source": [
        "dummy_y"
      ],
      "metadata": {
        "colab": {
          "base_uri": "https://localhost:8080/"
        },
        "id": "fkpyBOFBanuN",
        "outputId": "ebaec1df-75ae-4e37-c0a8-602d02df990c"
      },
      "execution_count": 22,
      "outputs": [
        {
          "output_type": "execute_result",
          "data": {
            "text/plain": [
              "array([[0., 1., 0.],\n",
              "       [0., 0., 1.],\n",
              "       [0., 0., 1.],\n",
              "       ...,\n",
              "       [0., 1., 0.],\n",
              "       [0., 1., 0.],\n",
              "       [0., 1., 0.]], dtype=float32)"
            ]
          },
          "metadata": {},
          "execution_count": 22
        }
      ]
    },
    {
      "cell_type": "markdown",
      "metadata": {
        "id": "ErgwMysrYcmp"
      },
      "source": [
        "##  Split Data"
      ]
    },
    {
      "cell_type": "code",
      "execution_count": 23,
      "metadata": {
        "id": "OzbSwGp53EGd"
      },
      "outputs": [],
      "source": [
        "# split data into train and test sets\n",
        "X_train, X_test, y_train, y_test = train_test_split(encoded_x, dummy_y , test_size=0.20, random_state=123)"
      ]
    },
    {
      "cell_type": "code",
      "execution_count": 24,
      "metadata": {
        "id": "iQ7IAJzK1GVz",
        "colab": {
          "base_uri": "https://localhost:8080/"
        },
        "outputId": "a094ac74-596f-47ef-e62b-94f5427f3f8c"
      },
      "outputs": [
        {
          "output_type": "stream",
          "name": "stdout",
          "text": [
            "(1197, 20) (300, 20)\n",
            "(1197, 3) (300, 3)\n"
          ]
        }
      ],
      "source": [
        "print(X_train.shape, X_test.shape)\n",
        "print(y_train.shape, y_test.shape)"
      ]
    },
    {
      "cell_type": "code",
      "execution_count": 25,
      "metadata": {
        "id": "D_XVDa-lonX8"
      },
      "outputs": [],
      "source": [
        "# Normalize by column (min-max norm)\n",
        "def normalize_cols(m):\n",
        "    col_max = m.max(axis=0)\n",
        "    col_min = m.min(axis=0)\n",
        "    return (m-col_min) / (col_max - col_min)\n",
        "    \n",
        "X_vals_train = np.nan_to_num(normalize_cols(X_train))\n",
        "X_vals_test = np.nan_to_num(normalize_cols(X_test))"
      ]
    },
    {
      "cell_type": "code",
      "execution_count": 26,
      "metadata": {
        "colab": {
          "base_uri": "https://localhost:8080/"
        },
        "id": "XM2rCdp63RvO",
        "outputId": "4461c2dd-3e4b-440f-ad5b-6718e2f58351"
      },
      "outputs": [
        {
          "output_type": "execute_result",
          "data": {
            "text/plain": [
              "array([[0.87878788, 0.83333333, 0.24      , ..., 0.09090909, 1.        ,\n",
              "        0.        ],\n",
              "       [0.27272727, 0.        , 0.24      , ..., 0.54545455, 1.        ,\n",
              "        0.        ],\n",
              "       [0.3030303 , 0.        , 0.08      , ..., 0.54545455, 1.        ,\n",
              "        0.        ],\n",
              "       ...,\n",
              "       [0.87878788, 0.83333333, 0.24      , ..., 0.09090909, 1.        ,\n",
              "        0.        ],\n",
              "       [0.87878788, 0.83333333, 0.04      , ..., 0.09090909, 1.        ,\n",
              "        0.        ],\n",
              "       [0.87878788, 0.83333333, 0.24      , ..., 0.09090909, 1.        ,\n",
              "        0.        ]])"
            ]
          },
          "metadata": {},
          "execution_count": 26
        }
      ],
      "source": [
        "X_vals_train"
      ]
    },
    {
      "cell_type": "markdown",
      "metadata": {
        "id": "vSdRopW6FTZR"
      },
      "source": [
        "## Define Tensorflow computational graph"
      ]
    },
    {
      "cell_type": "code",
      "execution_count": 27,
      "metadata": {
        "id": "b3JfRGV40r2O"
      },
      "outputs": [],
      "source": [
        "import tensorflow.compat.v1 as tf"
      ]
    },
    {
      "cell_type": "code",
      "execution_count": 28,
      "metadata": {
        "id": "X5K4ax6_0unK",
        "colab": {
          "base_uri": "https://localhost:8080/"
        },
        "outputId": "4cd852a3-c17b-47cd-9237-48109570adb5"
      },
      "outputs": [
        {
          "output_type": "stream",
          "name": "stderr",
          "text": [
            "WARNING:tensorflow:From /usr/local/lib/python3.7/dist-packages/tensorflow/python/compat/v2_compat.py:107: disable_resource_variables (from tensorflow.python.ops.variable_scope) is deprecated and will be removed in a future version.\n",
            "Instructions for updating:\n",
            "non-resource variables are not supported in the long term\n"
          ]
        }
      ],
      "source": [
        "tf.disable_v2_behavior()"
      ]
    },
    {
      "cell_type": "code",
      "execution_count": 29,
      "metadata": {
        "id": "4av_BGACFfEw"
      },
      "outputs": [],
      "source": [
        "# Declare batch size\n",
        "batch_size = 90"
      ]
    },
    {
      "cell_type": "code",
      "execution_count": 30,
      "metadata": {
        "id": "TLDX0PBc_sc2"
      },
      "outputs": [],
      "source": [
        "# Create graph\n",
        "sess = tf.Session()\n",
        "\n",
        "# Initialize placeholders\n",
        "x_data = tf.placeholder(shape=[None, 20], dtype=tf.float32)\n",
        "y_target = tf.placeholder(shape=[None, 3], dtype=tf.float32)"
      ]
    },
    {
      "cell_type": "code",
      "source": [
        "# Create variables for linear regression\n",
        "W = tf.Variable(tf.zeros(shape=[20,3]))\n",
        "b = tf.Variable(tf.zeros([3]))"
      ],
      "metadata": {
        "id": "jrQ1GKAJbbOp"
      },
      "execution_count": 31,
      "outputs": []
    },
    {
      "cell_type": "code",
      "source": [
        "# Declare model operations\n",
        "y = tf.nn.softmax(tf.matmul(x_data, W) + b)"
      ],
      "metadata": {
        "id": "ZZ1zOh41bjfi"
      },
      "execution_count": 32,
      "outputs": []
    },
    {
      "cell_type": "code",
      "source": [
        "# Declare loss function (Cross Entropy loss)\n",
        "cross_entropy = tf.reduce_mean(-tf.reduce_sum(y_target * tf.log(y), reduction_indices=[1]))"
      ],
      "metadata": {
        "id": "FCcFdA0MjDsl"
      },
      "execution_count": 33,
      "outputs": []
    },
    {
      "cell_type": "code",
      "source": [
        "# Declare optimizer\n",
        "train_step = tf.train.AdamOptimizer(0.0001).minimize(cross_entropy)"
      ],
      "metadata": {
        "id": "27C2r9_GjNak"
      },
      "execution_count": 34,
      "outputs": []
    },
    {
      "cell_type": "code",
      "source": [
        "# Actual Prediction\n",
        "correct_prediction = tf.equal(tf.argmax(y, 1), tf.argmax(y_target, 1))"
      ],
      "metadata": {
        "id": "3a7vsFO7jD0p"
      },
      "execution_count": 35,
      "outputs": []
    },
    {
      "cell_type": "code",
      "source": [
        "accuracy = tf.reduce_mean(tf.cast(correct_prediction, tf.float32))"
      ],
      "metadata": {
        "id": "Iy7LfJYejD3n"
      },
      "execution_count": 36,
      "outputs": []
    },
    {
      "cell_type": "markdown",
      "metadata": {
        "id": "LX6tG5Vid9IH"
      },
      "source": [
        "# Train model"
      ]
    },
    {
      "cell_type": "code",
      "execution_count": 37,
      "metadata": {
        "id": "sfsX80ljpuMJ"
      },
      "outputs": [],
      "source": [
        "# Create graph session \n",
        "sess = tf.Session()\n",
        "# Initialize variables\n",
        "init = tf.global_variables_initializer()\n",
        "sess.run(init)"
      ]
    },
    {
      "cell_type": "code",
      "source": [
        "sess.run(train_step, feed_dict={x_data: X_train, y_target: [t for t in y_train]})\n",
        "sess.run(cross_entropy, feed_dict={x_data: X_train, y_target: [t for t in y_train]})\n",
        "#sess.run(W,b)\n",
        "for i in range(0,5000):\n",
        "  _, C = sess.run([train_step, cross_entropy],  feed_dict={x_data: X_train, y_target: [t for t in y_train]})\n",
        "  if i %500 ==0:\n",
        "    print(\"loss >>>\", C)\n",
        "\n",
        "print(\"aacuaracy >>>\", sess.run(accuracy*100, feed_dict={x_data: X_test, y_target: [t for t in y_test]}))"
      ],
      "metadata": {
        "colab": {
          "base_uri": "https://localhost:8080/"
        },
        "id": "MF2U1AY6p5wf",
        "outputId": "c24d7e5d-0ba0-496e-82a5-7075b9da7b20"
      },
      "execution_count": 38,
      "outputs": [
        {
          "output_type": "stream",
          "name": "stdout",
          "text": [
            "loss >>> 1.0960603\n",
            "loss >>> 0.7683605\n",
            "loss >>> 0.7116641\n",
            "loss >>> 0.6905328\n",
            "loss >>> 0.6797256\n",
            "loss >>> 0.6730488\n",
            "loss >>> 0.66822517\n",
            "loss >>> 0.66445166\n",
            "loss >>> 0.6612314\n",
            "loss >>> 0.6584137\n",
            "aacuaracy >>> 61.333336\n"
          ]
        }
      ]
    },
    {
      "cell_type": "code",
      "source": [
        "new_data  = X_test[100:101]\n",
        "new_data"
      ],
      "metadata": {
        "colab": {
          "base_uri": "https://localhost:8080/"
        },
        "id": "LJyQbAwW0LMD",
        "outputId": "32d1f4de-4ca8-4e90-ff9c-d84cd952c275"
      },
      "execution_count": 39,
      "outputs": [
        {
          "output_type": "execute_result",
          "data": {
            "text/plain": [
              "array([[ 23.,   5.,   6.,  17., 147.,  19.,   4.,   3.,  54.,   0., 282.,\n",
              "          0.,   3., 119.,   3.,   3.,  92.,   4.,   1.,   0.]])"
            ]
          },
          "metadata": {},
          "execution_count": 39
        }
      ]
    },
    {
      "cell_type": "code",
      "source": [
        "val = sess.run(tf.argmax(y, 1), feed_dict={x_data:new_data})[0]\n",
        "#new_predict = y.inverse_transform(val)[0]\n",
        "print('New Data Predictions: {}'.format(val))\n",
        "if val == 0:\n",
        "  print('631d72ff99ba21001a8503fa')\n",
        "elif val == 1:\n",
        "  print('631d779999ba21001a850416')\n",
        "elif val == 2:\n",
        "  print('62566aa432b19a0164d802be')"
      ],
      "metadata": {
        "colab": {
          "base_uri": "https://localhost:8080/"
        },
        "id": "-BDzDmPwuIxi",
        "outputId": "47548032-8798-4129-a3ba-bdb957e471da"
      },
      "execution_count": 40,
      "outputs": [
        {
          "output_type": "stream",
          "name": "stdout",
          "text": [
            "New Data Predictions: 2\n",
            "62566aa432b19a0164d802be\n"
          ]
        }
      ]
    }
  ],
  "metadata": {
    "colab": {
      "collapsed_sections": [],
      "provenance": [],
      "authorship_tag": "ABX9TyOfuoIYWbv0lyvXF+XT5HoN",
      "include_colab_link": true
    },
    "kernelspec": {
      "display_name": "Python 3",
      "name": "python3"
    }
  },
  "nbformat": 4,
  "nbformat_minor": 0
}