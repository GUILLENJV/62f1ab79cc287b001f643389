{
  "nbformat": 4,
  "nbformat_minor": 0,
  "metadata": {
    "colab": {
      "provenance": [],
      "collapsed_sections": [],
      "include_colab_link": true
    },
    "kernelspec": {
      "name": "python3",
      "display_name": "Python 3"
    },
    "language_info": {
      "name": "python"
    }
  },
  "cells": [
    {
      "cell_type": "markdown",
      "metadata": {
        "id": "view-in-github",
        "colab_type": "text"
      },
      "source": [
        "<a href=\"https://colab.research.google.com/github/GUILLENJV/62f1ab79cc287b001f643389/blob/master/Grid_Search_Hyperparameters_Binary_model_.ipynb\" target=\"_parent\"><img src=\"https://colab.research.google.com/assets/colab-badge.svg\" alt=\"Open In Colab\"/></a>"
      ]
    },
    {
      "cell_type": "markdown",
      "source": [
        "# Grid Search Hyperparameters Binary Model "
      ],
      "metadata": {
        "id": "ndwgPlN4HEto"
      }
    },
    {
      "cell_type": "code",
      "source": [
        "# example of learned embedding encoding for a neural network\n",
        "from numpy import unique\n",
        "import numpy\n",
        "from numpy import array\n",
        "import pandas as pd\n",
        "import datetime \n",
        "from time import sleep\n",
        "from tqdm import tqdm\n",
        "import os\n",
        "from pandas import read_csv\n",
        "from sklearn.model_selection import train_test_split\n",
        "import json\n",
        "import tensorflow as tf\n",
        "from tensorflow import keras\n",
        "import requests\n",
        "import numpy as np\n",
        "from sklearn.preprocessing import LabelEncoder\n",
        "from sklearn.preprocessing import OneHotEncoder\n",
        "from sklearn.preprocessing import OrdinalEncoder\n",
        "from tensorflow.keras.layers import BatchNormalization\n",
        "from sklearn.preprocessing import StandardScaler\n",
        "from keras.regularizers import l1\n",
        "from keras.regularizers import l2\n",
        "from tensorflow.keras.layers import Dense, Dropout, Flatten\n",
        "from tensorflow.keras.callbacks import EarlyStopping\n",
        "from keras.utils.vis_utils import plot_model\n",
        "from keras.models import Sequential\n",
        "import tensorflow as tf\n",
        "from tensorflow import keras\n",
        "from tensorflow.keras import regularizers\n",
        "from keras.utils.vis_utils import plot_model\n",
        "from matplotlib import pyplot\n",
        "import matplotlib.pyplot as plt\n",
        "import seaborn as sns\n",
        "# Use scikit-learn to grid search the batch size and epochs\n",
        "from sklearn.model_selection import GridSearchCV\n",
        "from keras.wrappers.scikit_learn import KerasClassifier"
      ],
      "metadata": {
        "id": "YEN_sUdX19iW"
      },
      "execution_count": null,
      "outputs": []
    },
    {
      "cell_type": "code",
      "source": [
        "# carga los datos\n",
        "df = pd.read_excel('62f1ab79cc287b001f643389_cinco.xlsx') \n",
        "df = df.drop_duplicates()\n",
        "# Imputamos la variable \n",
        "df['visitor_tokens_adh'].fillna(df['visitor_tokens_adh'].mode()[0], inplace=True)\n",
        "df['visitor_tokens_cadid'].fillna(df['visitor_tokens_cadid'].mode()[0], inplace=True)\n",
        "df['visitor_geo_location_isp'].fillna(df['visitor_geo_location_isp'].mode()[0], inplace=True)\n",
        "df['visitor_geo_location_connection_type'].fillna(df['visitor_geo_location_connection_type'].mode()[0], inplace=True)\n",
        "df['visitor_geo_location_cityName'].fillna(df['visitor_geo_location_cityName'].mode()[0], inplace=True)\n",
        "\n",
        "df = df.drop(['landing_pages_group_id','visitor_tokens_add'], axis=1)\n",
        "\n",
        "X = df[['campaign_id', 'traffic_source_id',\n",
        "       'visitor_device_browser', 'visitor_device_hardware_family',\n",
        "       'visitor_device_hardware_model', 'visitor_device_hardware_vendor',\n",
        "       'visitor_device_os_family', 'visitor_device_os_vendor',\n",
        "       'visitor_device_os_version', 'visitor_device_type',\n",
        "       'visitor_geo_location_cityName', 'visitor_geo_location_connection_type',\n",
        "       'visitor_geo_location_countryCode', 'visitor_geo_location_isp',\n",
        "       'visitor_geo_location_regionName', 'visitor_tokens_adh',\n",
        "       'visitor_tokens_cadid', 'visitor_tokens_adi', 'converted_yes',\n",
        "       'converted_no']]\n",
        "\n",
        "X = X.astype(str).to_numpy()\n",
        "y = df[[\"landing_page_id\"]].to_numpy()\n",
        "\n",
        "# encode string input values as integers\n",
        "encoded_x = None\n",
        "for i in range(0, X.shape[1]):\n",
        "    label_encoder = LabelEncoder()\n",
        "    feature = label_encoder.fit_transform(X[:,i])\n",
        "    feature = feature.reshape(X.shape[0], 1)\n",
        "    onehot_encoder = OrdinalEncoder()\n",
        "    feature = onehot_encoder.fit_transform(feature)\n",
        "    if encoded_x is None:\n",
        "        encoded_x = feature\n",
        "    else:\n",
        "        encoded_x = numpy.concatenate((encoded_x, feature), axis=1)\n",
        "#print(\"X shape: : \", encoded_x.shape)\n",
        "\n",
        "# encode string class values as integers\n",
        "label_encoder = LabelEncoder()\n",
        "label_encoder = label_encoder.fit(y)\n",
        "label_encoded_y = label_encoder.transform(y)\n",
        "\n",
        "# split data into train and test sets\n",
        "X_train, X_test, y_train, y_test = train_test_split(encoded_x, label_encoded_y, test_size=0.30, random_state=123)\n",
        "\n",
        "scaler=StandardScaler()\n",
        "scaler.fit(X_train)\n",
        "X_train=scaler.transform(X_train)\n",
        "X_test=scaler.transform(X_test)\n",
        "\n",
        "# fix random seed for reproducibility\n",
        "seed = 7\n",
        "numpy.random.seed(seed)"
      ],
      "metadata": {
        "id": "34_vwhTyHQ3l",
        "colab": {
          "base_uri": "https://localhost:8080/"
        },
        "outputId": "ee3f82b3-86d2-4b1e-b5ef-84667dc19639"
      },
      "execution_count": null,
      "outputs": [
        {
          "output_type": "stream",
          "name": "stderr",
          "text": [
            "/usr/local/lib/python3.7/dist-packages/sklearn/preprocessing/_label.py:98: DataConversionWarning: A column-vector y was passed when a 1d array was expected. Please change the shape of y to (n_samples, ), for example using ravel().\n",
            "  y = column_or_1d(y, warn=True)\n",
            "/usr/local/lib/python3.7/dist-packages/sklearn/preprocessing/_label.py:133: DataConversionWarning: A column-vector y was passed when a 1d array was expected. Please change the shape of y to (n_samples, ), for example using ravel().\n",
            "  y = column_or_1d(y, warn=True)\n"
          ]
        }
      ]
    },
    {
      "cell_type": "markdown",
      "source": [
        "# 1. Batch Size and Number of Epochs"
      ],
      "metadata": {
        "id": "Glnxs5qc9bka"
      }
    },
    {
      "cell_type": "code",
      "source": [
        "# Definición del modelo\n",
        "def modelo_mlp(): \n",
        "    model = Sequential()\n",
        "    model.add(Dense(25, input_dim=X_train.shape[1], \n",
        "                kernel_initializer= 'he_uniform',\n",
        "                activation='relu', activity_regularizer=regularizers.l1(1e-4)))\n",
        "    model.add(BatchNormalization())\n",
        "    model.add(Dense(10, kernel_initializer= 'he_uniform',\n",
        "                activation='relu',activity_regularizer=regularizers.l1(1e-4)))\n",
        "    model.add(BatchNormalization())\n",
        "    model.add(Dense(5, kernel_initializer= 'he_uniform',\n",
        "                activation='relu',activity_regularizer=regularizers.l1(1e-4)))  \n",
        "    model.add(BatchNormalization())\n",
        "    model.add(Dense(1, kernel_initializer= 'he_uniform',\n",
        "                activation='sigmoid'))\n",
        "    model.compile(loss='binary_crossentropy', optimizer='adam',\n",
        "                metrics=['accuracy'])\n",
        "    model.summary()\n",
        "    return model"
      ],
      "metadata": {
        "id": "53H2PhhOCR7v"
      },
      "execution_count": null,
      "outputs": []
    },
    {
      "cell_type": "code",
      "source": [
        "# create model\n",
        "model = KerasClassifier(build_fn=modelo_mlp, verbose=0)\n",
        "# define the grid search parameters\n",
        "batch_size = [32, 64, 128]\n",
        "epochs = [10, 50, 100]\n",
        "param_grid = dict(batch_size=batch_size, epochs=epochs)\n",
        "grid = GridSearchCV(estimator=model, param_grid=param_grid, n_jobs=-1, cv=3)\n",
        "grid_result = grid.fit(X_train, y_train)"
      ],
      "metadata": {
        "colab": {
          "base_uri": "https://localhost:8080/"
        },
        "id": "ij3ADgUG6fm6",
        "outputId": "d8339e87-062a-4ca1-96eb-b04db07bc513"
      },
      "execution_count": null,
      "outputs": [
        {
          "output_type": "stream",
          "name": "stderr",
          "text": [
            "/usr/local/lib/python3.7/dist-packages/ipykernel_launcher.py:2: DeprecationWarning: KerasClassifier is deprecated, use Sci-Keras (https://github.com/adriangb/scikeras) instead. See https://www.adriangb.com/scikeras/stable/migration.html for help migrating.\n",
            "  \n"
          ]
        },
        {
          "output_type": "stream",
          "name": "stdout",
          "text": [
            "Model: \"sequential\"\n",
            "_________________________________________________________________\n",
            " Layer (type)                Output Shape              Param #   \n",
            "=================================================================\n",
            " dense (Dense)               (None, 25)                525       \n",
            "                                                                 \n",
            " batch_normalization (BatchN  (None, 25)               100       \n",
            " ormalization)                                                   \n",
            "                                                                 \n",
            " dense_1 (Dense)             (None, 10)                260       \n",
            "                                                                 \n",
            " batch_normalization_1 (Batc  (None, 10)               40        \n",
            " hNormalization)                                                 \n",
            "                                                                 \n",
            " dense_2 (Dense)             (None, 5)                 55        \n",
            "                                                                 \n",
            " batch_normalization_2 (Batc  (None, 5)                20        \n",
            " hNormalization)                                                 \n",
            "                                                                 \n",
            " dense_3 (Dense)             (None, 1)                 6         \n",
            "                                                                 \n",
            "=================================================================\n",
            "Total params: 1,006\n",
            "Trainable params: 926\n",
            "Non-trainable params: 80\n",
            "_________________________________________________________________\n"
          ]
        }
      ]
    },
    {
      "cell_type": "code",
      "source": [
        "# summarize results\n",
        "print(\"Best: %f using %s\" % (grid_result.best_score_, grid_result.best_params_))\n",
        "means = grid_result.cv_results_['mean_test_score']\n",
        "stds = grid_result.cv_results_['std_test_score']\n",
        "params = grid_result.cv_results_['params']\n",
        "for mean, stdev, param in zip(means, stds, params):\n",
        "    print(\"%f (%f) with: %r\" % (mean, stdev, param))"
      ],
      "metadata": {
        "colab": {
          "base_uri": "https://localhost:8080/"
        },
        "id": "DFLN7c5z652J",
        "outputId": "3f58e466-0b51-4634-ef99-a4c4e44935c2"
      },
      "execution_count": null,
      "outputs": [
        {
          "output_type": "stream",
          "name": "stdout",
          "text": [
            "Best: 0.883088 using {'batch_size': 32, 'epochs': 100}\n",
            "0.775279 (0.014279) with: {'batch_size': 32, 'epochs': 10}\n",
            "0.881755 (0.012693) with: {'batch_size': 32, 'epochs': 50}\n",
            "0.883088 (0.022655) with: {'batch_size': 32, 'epochs': 100}\n",
            "0.763536 (0.053847) with: {'batch_size': 64, 'epochs': 10}\n",
            "0.880463 (0.031102) with: {'batch_size': 64, 'epochs': 50}\n",
            "0.860799 (0.049079) with: {'batch_size': 64, 'epochs': 100}\n",
            "0.643952 (0.050065) with: {'batch_size': 128, 'epochs': 10}\n",
            "0.864689 (0.020471) with: {'batch_size': 128, 'epochs': 50}\n",
            "0.871235 (0.007888) with: {'batch_size': 128, 'epochs': 100}\n"
          ]
        }
      ]
    },
    {
      "cell_type": "markdown",
      "source": [
        "#2. Training Optimization Algorithm"
      ],
      "metadata": {
        "id": "IBg-9dYi9iaw"
      }
    },
    {
      "cell_type": "code",
      "source": [
        "# Definición del modelo\n",
        "def modelo_mlp(optimizer='adam'): \n",
        "    model = Sequential()\n",
        "    model.add(Dense(25, input_dim=X_train.shape[1], \n",
        "                kernel_initializer= 'he_uniform',\n",
        "                activation='relu', activity_regularizer=regularizers.l1(1e-4)))\n",
        "    model.add(BatchNormalization())\n",
        "    model.add(Dense(10, kernel_initializer= 'he_uniform',\n",
        "                activation='relu',activity_regularizer=regularizers.l1(1e-4)))\n",
        "    model.add(BatchNormalization())\n",
        "    model.add(Dense(5, kernel_initializer= 'he_uniform',\n",
        "                activation='relu',activity_regularizer=regularizers.l1(1e-4)))  \n",
        "    model.add(BatchNormalization())\n",
        "    model.add(Dense(1, kernel_initializer= 'he_uniform',\n",
        "                activation='sigmoid'))\n",
        "    model.compile(loss='binary_crossentropy', optimizer='adam',\n",
        "                metrics=['accuracy'])\n",
        "    model.summary()\n",
        "    return model"
      ],
      "metadata": {
        "id": "PwQ5FFPgBh2j"
      },
      "execution_count": null,
      "outputs": []
    },
    {
      "cell_type": "code",
      "source": [
        "# create model\n",
        "model = KerasClassifier(build_fn=modelo_mlp, epochs=100, batch_size=32, verbose=0)\n",
        "# define the grid search parameters\n",
        "optimizer = ['SGD', 'RMSprop', 'Adagrad', 'Adadelta', 'Adam', 'Adamax', 'Nadam']\n",
        "param_grid = dict(optimizer=optimizer)\n",
        "grid = GridSearchCV(estimator=model, param_grid=param_grid, n_jobs=-1, cv=3)\n",
        "grid_result = grid.fit(X_train, y_train)"
      ],
      "metadata": {
        "colab": {
          "base_uri": "https://localhost:8080/"
        },
        "id": "WiQI0PJp9hzv",
        "outputId": "dfee8e52-8776-49ad-f36c-298b0c22f301"
      },
      "execution_count": null,
      "outputs": [
        {
          "output_type": "stream",
          "name": "stderr",
          "text": [
            "/usr/local/lib/python3.7/dist-packages/ipykernel_launcher.py:2: DeprecationWarning: KerasClassifier is deprecated, use Sci-Keras (https://github.com/adriangb/scikeras) instead. See https://www.adriangb.com/scikeras/stable/migration.html for help migrating.\n",
            "  \n"
          ]
        },
        {
          "output_type": "stream",
          "name": "stdout",
          "text": [
            "Model: \"sequential\"\n",
            "_________________________________________________________________\n",
            " Layer (type)                Output Shape              Param #   \n",
            "=================================================================\n",
            " dense (Dense)               (None, 25)                525       \n",
            "                                                                 \n",
            " batch_normalization (BatchN  (None, 25)               100       \n",
            " ormalization)                                                   \n",
            "                                                                 \n",
            " dense_1 (Dense)             (None, 10)                260       \n",
            "                                                                 \n",
            " batch_normalization_1 (Batc  (None, 10)               40        \n",
            " hNormalization)                                                 \n",
            "                                                                 \n",
            " dense_2 (Dense)             (None, 5)                 55        \n",
            "                                                                 \n",
            " batch_normalization_2 (Batc  (None, 5)                20        \n",
            " hNormalization)                                                 \n",
            "                                                                 \n",
            " dense_3 (Dense)             (None, 1)                 6         \n",
            "                                                                 \n",
            "=================================================================\n",
            "Total params: 1,006\n",
            "Trainable params: 926\n",
            "Non-trainable params: 80\n",
            "_________________________________________________________________\n"
          ]
        }
      ]
    },
    {
      "cell_type": "code",
      "source": [
        "# summarize results\n",
        "print(\"Best: %f using %s\" % (grid_result.best_score_, grid_result.best_params_))\n",
        "means = grid_result.cv_results_['mean_test_score']\n",
        "stds = grid_result.cv_results_['std_test_score']\n",
        "params = grid_result.cv_results_['params']\n",
        "for mean, stdev, param in zip(means, stds, params):\n",
        "    print(\"%f (%f) with: %r\" % (mean, stdev, param))"
      ],
      "metadata": {
        "colab": {
          "base_uri": "https://localhost:8080/"
        },
        "id": "qdoK1DjxDvlp",
        "outputId": "92bc950c-608b-4d21-e30e-24cbec071735"
      },
      "execution_count": null,
      "outputs": [
        {
          "output_type": "stream",
          "name": "stdout",
          "text": [
            "Best: 0.904122 using {'optimizer': 'Adam'}\n",
            "0.889686 (0.036401) with: {'optimizer': 'SGD'}\n",
            "0.884406 (0.027209) with: {'optimizer': 'RMSprop'}\n",
            "0.881776 (0.031546) with: {'optimizer': 'Adagrad'}\n",
            "0.884411 (0.026035) with: {'optimizer': 'Adadelta'}\n",
            "0.904122 (0.027612) with: {'optimizer': 'Adam'}\n",
            "0.889670 (0.033759) with: {'optimizer': 'Adamax'}\n",
            "0.901481 (0.019947) with: {'optimizer': 'Nadam'}\n"
          ]
        }
      ]
    },
    {
      "cell_type": "markdown",
      "source": [
        "# 3. Learning Rate and Momentum"
      ],
      "metadata": {
        "id": "FLb2CK08HanN"
      }
    },
    {
      "cell_type": "code",
      "source": [
        "# Definición del modelo\n",
        "def modelo_mlp(learn_rate=0.01, momentum=0): \n",
        "    model = Sequential()\n",
        "    model.add(Dense(25, input_dim=X_train.shape[1], \n",
        "                kernel_initializer= 'he_uniform',\n",
        "                activation='relu', activity_regularizer=regularizers.l1(1e-4)))\n",
        "    model.add(BatchNormalization())\n",
        "    model.add(Dense(10, kernel_initializer= 'he_uniform',\n",
        "                activation='relu',activity_regularizer=regularizers.l1(1e-4)))\n",
        "    model.add(BatchNormalization())\n",
        "    model.add(Dense(5, kernel_initializer= 'he_uniform',\n",
        "                activation='relu',activity_regularizer=regularizers.l1(1e-4)))  \n",
        "    model.add(BatchNormalization())\n",
        "    model.add(Dense(1, kernel_initializer= 'he_uniform',\n",
        "                activation='sigmoid'))\n",
        "    model.compile(loss='binary_crossentropy', optimizer='adam',\n",
        "                metrics=['accuracy'])\n",
        "    model.summary()\n",
        "    return model"
      ],
      "metadata": {
        "id": "RjJE32SDHSsf"
      },
      "execution_count": null,
      "outputs": []
    },
    {
      "cell_type": "code",
      "source": [
        "# create model\n",
        "model = KerasClassifier(build_fn=modelo_mlp, epochs=100, batch_size=32, verbose=0)\n",
        "# define the grid search parameters\n",
        "learn_rate = [0.0001,0.001, 0.01, 0.1]\n",
        "momentum = [0.0, 0.2, 0.4, 0.6, 0.8]\n",
        "param_grid = dict(learn_rate=learn_rate, momentum=momentum)\n",
        "grid = GridSearchCV(estimator=model, param_grid=param_grid, n_jobs=-1, cv=3)\n",
        "grid_result = grid.fit(X_train, y_train)"
      ],
      "metadata": {
        "colab": {
          "base_uri": "https://localhost:8080/"
        },
        "id": "r5ZAuOaGHxJ-",
        "outputId": "90c0881c-b3b4-4927-e854-264c6642c0a5"
      },
      "execution_count": null,
      "outputs": [
        {
          "output_type": "stream",
          "name": "stderr",
          "text": [
            "/usr/local/lib/python3.7/dist-packages/ipykernel_launcher.py:2: DeprecationWarning: KerasClassifier is deprecated, use Sci-Keras (https://github.com/adriangb/scikeras) instead. See https://www.adriangb.com/scikeras/stable/migration.html for help migrating.\n",
            "  \n"
          ]
        },
        {
          "output_type": "stream",
          "name": "stdout",
          "text": [
            "Model: \"sequential\"\n",
            "_________________________________________________________________\n",
            " Layer (type)                Output Shape              Param #   \n",
            "=================================================================\n",
            " dense (Dense)               (None, 25)                525       \n",
            "                                                                 \n",
            " batch_normalization (BatchN  (None, 25)               100       \n",
            " ormalization)                                                   \n",
            "                                                                 \n",
            " dense_1 (Dense)             (None, 10)                260       \n",
            "                                                                 \n",
            " batch_normalization_1 (Batc  (None, 10)               40        \n",
            " hNormalization)                                                 \n",
            "                                                                 \n",
            " dense_2 (Dense)             (None, 5)                 55        \n",
            "                                                                 \n",
            " batch_normalization_2 (Batc  (None, 5)                20        \n",
            " hNormalization)                                                 \n",
            "                                                                 \n",
            " dense_3 (Dense)             (None, 1)                 6         \n",
            "                                                                 \n",
            "=================================================================\n",
            "Total params: 1,006\n",
            "Trainable params: 926\n",
            "Non-trainable params: 80\n",
            "_________________________________________________________________\n"
          ]
        }
      ]
    },
    {
      "cell_type": "code",
      "source": [
        "# summarize results\n",
        "print(\"Best: %f using %s\" % (grid_result.best_score_, grid_result.best_params_))\n",
        "means = grid_result.cv_results_['mean_test_score']\n",
        "stds = grid_result.cv_results_['std_test_score']\n",
        "params = grid_result.cv_results_['params']\n",
        "for mean, stdev, param in zip(means, stds, params):\n",
        "    print(\"%f (%f) with: %r\" % (mean, stdev, param))"
      ],
      "metadata": {
        "colab": {
          "base_uri": "https://localhost:8080/"
        },
        "id": "z2pxBEk0KQZs",
        "outputId": "b280b2ad-2004-4080-9855-6ce46de35f64"
      },
      "execution_count": null,
      "outputs": [
        {
          "output_type": "stream",
          "name": "stdout",
          "text": [
            "Best: 0.904137 using {'learn_rate': 0.0001, 'momentum': 0.2}\n",
            "0.881781 (0.028798) with: {'learn_rate': 0.0001, 'momentum': 0.0}\n",
            "0.904137 (0.035177) with: {'learn_rate': 0.0001, 'momentum': 0.2}\n",
            "0.890972 (0.021738) with: {'learn_rate': 0.0001, 'momentum': 0.4}\n",
            "0.889650 (0.016851) with: {'learn_rate': 0.0001, 'momentum': 0.6}\n",
            "0.898857 (0.021272) with: {'learn_rate': 0.0001, 'momentum': 0.8}\n",
            "0.889676 (0.035252) with: {'learn_rate': 0.001, 'momentum': 0.0}\n",
            "0.897560 (0.030555) with: {'learn_rate': 0.001, 'momentum': 0.2}\n",
            "0.883083 (0.020766) with: {'learn_rate': 0.001, 'momentum': 0.4}\n",
            "0.897560 (0.032521) with: {'learn_rate': 0.001, 'momentum': 0.6}\n",
            "0.890983 (0.027959) with: {'learn_rate': 0.001, 'momentum': 0.8}\n",
            "0.885723 (0.030545) with: {'learn_rate': 0.01, 'momentum': 0.0}\n",
            "0.879156 (0.027938) with: {'learn_rate': 0.01, 'momentum': 0.2}\n",
            "0.900174 (0.025671) with: {'learn_rate': 0.01, 'momentum': 0.4}\n",
            "0.890993 (0.032719) with: {'learn_rate': 0.01, 'momentum': 0.6}\n",
            "0.877849 (0.030518) with: {'learn_rate': 0.01, 'momentum': 0.8}\n",
            "0.889650 (0.027928) with: {'learn_rate': 0.1, 'momentum': 0.0}\n",
            "0.879130 (0.023149) with: {'learn_rate': 0.1, 'momentum': 0.2}\n",
            "0.893571 (0.020025) with: {'learn_rate': 0.1, 'momentum': 0.4}\n",
            "0.887035 (0.032884) with: {'learn_rate': 0.1, 'momentum': 0.6}\n",
            "0.893623 (0.033451) with: {'learn_rate': 0.1, 'momentum': 0.8}\n"
          ]
        }
      ]
    },
    {
      "cell_type": "markdown",
      "source": [
        "#4. Network Weight Initialization"
      ],
      "metadata": {
        "id": "0Gn-LcmiKVSM"
      }
    },
    {
      "cell_type": "code",
      "source": [
        "# Definición del modelo\n",
        "def modelo_mlp(init_mode='uniform'): \n",
        "    model = Sequential()\n",
        "    model.add(Dense(25, input_dim=X_train.shape[1], \n",
        "                kernel_initializer= 'he_uniform',\n",
        "                activation='relu', activity_regularizer=regularizers.l1(1e-4)))\n",
        "    model.add(BatchNormalization())\n",
        "    model.add(Dense(10, kernel_initializer= 'he_uniform',\n",
        "                activation='relu',activity_regularizer=regularizers.l1(1e-4)))\n",
        "    model.add(BatchNormalization())\n",
        "    model.add(Dense(5, kernel_initializer= 'he_uniform',\n",
        "                activation='relu',activity_regularizer=regularizers.l1(1e-4)))  \n",
        "    model.add(BatchNormalization())\n",
        "    model.add(Dense(1, kernel_initializer= 'he_uniform',\n",
        "                activation='sigmoid'))\n",
        "    model.compile(loss='binary_crossentropy', optimizer='adam',\n",
        "                metrics=['accuracy'])\n",
        "    model.summary()\n",
        "    return model"
      ],
      "metadata": {
        "id": "6Z2WBR34KUsc"
      },
      "execution_count": null,
      "outputs": []
    },
    {
      "cell_type": "code",
      "source": [
        "# create model\n",
        "model = KerasClassifier(build_fn=modelo_mlp, epochs=100, batch_size=32, verbose=0)\n",
        "# define the grid search parameters\n",
        "init_mode = ['uniform', 'lecun_uniform', 'normal', 'zero', 'glorot_normal', 'glorot_uniform', 'he_normal', 'he_uniform']\n",
        "param_grid = dict(init_mode=init_mode)\n",
        "grid = GridSearchCV(estimator=model, param_grid=param_grid, n_jobs=-1, cv=3)\n",
        "grid_result = grid.fit(X_train, y_train)"
      ],
      "metadata": {
        "colab": {
          "base_uri": "https://localhost:8080/"
        },
        "id": "9wl3X4dvKl3U",
        "outputId": "62e0ed8a-1645-4c4b-f3dc-dbcbfa87a4af"
      },
      "execution_count": null,
      "outputs": [
        {
          "output_type": "stream",
          "name": "stderr",
          "text": [
            "/usr/local/lib/python3.7/dist-packages/ipykernel_launcher.py:2: DeprecationWarning: KerasClassifier is deprecated, use Sci-Keras (https://github.com/adriangb/scikeras) instead. See https://www.adriangb.com/scikeras/stable/migration.html for help migrating.\n",
            "  \n"
          ]
        },
        {
          "output_type": "stream",
          "name": "stdout",
          "text": [
            "Model: \"sequential\"\n",
            "_________________________________________________________________\n",
            " Layer (type)                Output Shape              Param #   \n",
            "=================================================================\n",
            " dense (Dense)               (None, 25)                525       \n",
            "                                                                 \n",
            " batch_normalization (BatchN  (None, 25)               100       \n",
            " ormalization)                                                   \n",
            "                                                                 \n",
            " dense_1 (Dense)             (None, 10)                260       \n",
            "                                                                 \n",
            " batch_normalization_1 (Batc  (None, 10)               40        \n",
            " hNormalization)                                                 \n",
            "                                                                 \n",
            " dense_2 (Dense)             (None, 5)                 55        \n",
            "                                                                 \n",
            " batch_normalization_2 (Batc  (None, 5)                20        \n",
            " hNormalization)                                                 \n",
            "                                                                 \n",
            " dense_3 (Dense)             (None, 1)                 6         \n",
            "                                                                 \n",
            "=================================================================\n",
            "Total params: 1,006\n",
            "Trainable params: 926\n",
            "Non-trainable params: 80\n",
            "_________________________________________________________________\n"
          ]
        }
      ]
    },
    {
      "cell_type": "code",
      "source": [
        "# summarize results\n",
        "print(\"Best: %f using %s\" % (grid_result.best_score_, grid_result.best_params_))\n",
        "means = grid_result.cv_results_['mean_test_score']\n",
        "stds = grid_result.cv_results_['std_test_score']\n",
        "params = grid_result.cv_results_['params']\n",
        "for mean, stdev, param in zip(means, stds, params):\n",
        "    print(\"%f (%f) with: %r\" % (mean, stdev, param))"
      ],
      "metadata": {
        "colab": {
          "base_uri": "https://localhost:8080/"
        },
        "id": "hnCEqwOXMucI",
        "outputId": "a61b46cc-5b5c-4909-8ee7-1cb0ed1bb7cc"
      },
      "execution_count": null,
      "outputs": [
        {
          "output_type": "stream",
          "name": "stdout",
          "text": [
            "Best: 0.906736 using {'init_mode': 'uniform'}\n",
            "0.906736 (0.022476) with: {'init_mode': 'uniform'}\n",
            "0.884374 (0.010210) with: {'init_mode': 'lecun_uniform'}\n",
            "0.900195 (0.037170) with: {'init_mode': 'normal'}\n",
            "0.884354 (0.006851) with: {'init_mode': 'zero'}\n",
            "0.879115 (0.004710) with: {'init_mode': 'glorot_normal'}\n",
            "0.890978 (0.024834) with: {'init_mode': 'glorot_uniform'}\n",
            "0.902809 (0.027980) with: {'init_mode': 'he_normal'}\n",
            "0.896217 (0.021777) with: {'init_mode': 'he_uniform'}\n"
          ]
        }
      ]
    },
    {
      "cell_type": "markdown",
      "source": [
        "#5. Neuron Activation Function"
      ],
      "metadata": {
        "id": "hxyS4ZldRpCW"
      }
    },
    {
      "cell_type": "code",
      "source": [
        "# Definición del modelo\n",
        "def modelo_mlp(activation='relu'): \n",
        "    model = Sequential()\n",
        "    model.add(Dense(25, input_dim=X_train.shape[1], \n",
        "                kernel_initializer= 'he_uniform',\n",
        "                activation='relu', activity_regularizer=regularizers.l1(1e-4)))\n",
        "    model.add(BatchNormalization())\n",
        "    model.add(Dense(10, kernel_initializer= 'he_uniform',\n",
        "                activation='relu',activity_regularizer=regularizers.l1(1e-4)))\n",
        "    model.add(BatchNormalization())\n",
        "    model.add(Dense(5, kernel_initializer= 'he_uniform',\n",
        "                activation='relu',activity_regularizer=regularizers.l1(1e-4)))  \n",
        "    model.add(BatchNormalization())\n",
        "    model.add(Dense(1, kernel_initializer= 'he_uniform',\n",
        "                activation='sigmoid'))\n",
        "    model.compile(loss='binary_crossentropy', optimizer='adam',\n",
        "                metrics=['accuracy'])\n",
        "    #model.summary()\n",
        "    return model"
      ],
      "metadata": {
        "id": "suWlRCdQMx08"
      },
      "execution_count": null,
      "outputs": []
    },
    {
      "cell_type": "code",
      "source": [
        "# create model\n",
        "model = KerasClassifier(build_fn=modelo_mlp, epochs=100, batch_size=32, verbose=0)\n",
        "# define the grid search parameters\n",
        "activation = ['softmax', 'softplus', 'softsign', 'relu', 'tanh', 'sigmoid', 'hard_sigmoid', 'linear']\n",
        "param_grid = dict(activation=activation)\n",
        "grid = GridSearchCV(estimator=model, param_grid=param_grid, n_jobs=-1, cv=3)\n",
        "grid_result = grid.fit(X_train, y_train)"
      ],
      "metadata": {
        "colab": {
          "base_uri": "https://localhost:8080/"
        },
        "id": "YjaOX7I-R3vO",
        "outputId": "0f234fad-5572-405f-e76f-3e33752316f1"
      },
      "execution_count": null,
      "outputs": [
        {
          "metadata": {
            "tags": null
          },
          "name": "stderr",
          "output_type": "stream",
          "text": [
            "/usr/local/lib/python3.7/dist-packages/ipykernel_launcher.py:2: DeprecationWarning: KerasClassifier is deprecated, use Sci-Keras (https://github.com/adriangb/scikeras) instead. See https://www.adriangb.com/scikeras/stable/migration.html for help migrating.\n",
            "  \n"
          ]
        },
        {
          "metadata": {
            "tags": null
          },
          "name": "stdout",
          "output_type": "stream",
          "text": [
            "Model: \"sequential_1\"\n",
            "_________________________________________________________________\n",
            " Layer (type)                Output Shape              Param #   \n",
            "=================================================================\n",
            " dense_4 (Dense)             (None, 25)                525       \n",
            "                                                                 \n",
            " batch_normalization_3 (Batc  (None, 25)               100       \n",
            " hNormalization)                                                 \n",
            "                                                                 \n",
            " dense_5 (Dense)             (None, 10)                260       \n",
            "                                                                 \n",
            " batch_normalization_4 (Batc  (None, 10)               40        \n",
            " hNormalization)                                                 \n",
            "                                                                 \n",
            " dense_6 (Dense)             (None, 5)                 55        \n",
            "                                                                 \n",
            " batch_normalization_5 (Batc  (None, 5)                20        \n",
            " hNormalization)                                                 \n",
            "                                                                 \n",
            " dense_7 (Dense)             (None, 1)                 6         \n",
            "                                                                 \n",
            "=================================================================\n",
            "Total params: 1,006\n",
            "Trainable params: 926\n",
            "Non-trainable params: 80\n",
            "_________________________________________________________________\n"
          ]
        }
      ]
    },
    {
      "cell_type": "code",
      "source": [
        "# summarize results\n",
        "print(\"Best: %f using %s\" % (grid_result.best_score_, grid_result.best_params_))\n",
        "means = grid_result.cv_results_['mean_test_score']\n",
        "stds = grid_result.cv_results_['std_test_score']\n",
        "params = grid_result.cv_results_['params']\n",
        "for mean, stdev, param in zip(means, stds, params):\n",
        "    print(\"%f (%f) with: %r\" % (mean, stdev, param))"
      ],
      "metadata": {
        "colab": {
          "base_uri": "https://localhost:8080/"
        },
        "id": "gNh65hPdXvH5",
        "outputId": "e7a0f015-bab4-4e1e-bfa9-fdba054eb4d6"
      },
      "execution_count": null,
      "outputs": [
        {
          "output_type": "stream",
          "name": "stdout",
          "text": [
            "Best: 0.909361 using {'activation': 'softmax'}\n",
            "0.909361 (0.017782) with: {'activation': 'softmax'}\n",
            "0.897534 (0.033333) with: {'activation': 'softplus'}\n",
            "0.889655 (0.019400) with: {'activation': 'softsign'}\n",
            "0.875230 (0.037403) with: {'activation': 'relu'}\n",
            "0.887020 (0.016335) with: {'activation': 'tanh'}\n",
            "0.889676 (0.030877) with: {'activation': 'sigmoid'}\n",
            "0.890978 (0.027217) with: {'activation': 'hard_sigmoid'}\n",
            "0.900148 (0.009118) with: {'activation': 'linear'}\n"
          ]
        }
      ]
    },
    {
      "cell_type": "markdown",
      "source": [
        "#6. Number of Neurons in the Hidden Layer"
      ],
      "metadata": {
        "id": "tehhM_D7ZhBq"
      }
    },
    {
      "cell_type": "code",
      "source": [
        "# Definición del modelo\n",
        "def modelo_mlp(neurons=1): \n",
        "    model = Sequential()\n",
        "    model.add(Dense(25, input_dim=X_train.shape[1], \n",
        "                kernel_initializer= 'he_uniform',\n",
        "                activation='relu', activity_regularizer=regularizers.l1(1e-4)))\n",
        "    model.add(BatchNormalization())\n",
        "    model.add(Dense(10, kernel_initializer= 'he_uniform',\n",
        "                activation='relu',activity_regularizer=regularizers.l1(1e-4)))\n",
        "    model.add(BatchNormalization())\n",
        "    model.add(Dense(5, kernel_initializer= 'he_uniform',\n",
        "                activation='relu',activity_regularizer=regularizers.l1(1e-4)))  \n",
        "    model.add(BatchNormalization())\n",
        "    model.add(Dense(1, kernel_initializer= 'he_uniform',\n",
        "                activation='sigmoid'))\n",
        "    model.compile(loss='binary_crossentropy', optimizer='adam',\n",
        "                metrics=['accuracy'])\n",
        "    #model.summary()\n",
        "    return model"
      ],
      "metadata": {
        "id": "BpNMm2pgYJeq"
      },
      "execution_count": null,
      "outputs": []
    },
    {
      "cell_type": "code",
      "source": [
        "# create model\n",
        "model = KerasClassifier(build_fn=modelo_mlp, epochs=100, batch_size=32, verbose=0)\n",
        "# define the grid search parameters\n",
        "neurons = [1, 3, 5, 10]\n",
        "param_grid = dict(neurons=neurons)\n",
        "grid = GridSearchCV(estimator=model, param_grid=param_grid, n_jobs=-1, cv=3)\n",
        "grid_result = grid.fit(X_train, y_train)"
      ],
      "metadata": {
        "colab": {
          "base_uri": "https://localhost:8080/"
        },
        "id": "vh4q0i1bZi4Y",
        "outputId": "fcd37735-6db6-45a5-b3d9-90d83261e12b"
      },
      "execution_count": null,
      "outputs": [
        {
          "output_type": "stream",
          "name": "stderr",
          "text": [
            "/usr/local/lib/python3.7/dist-packages/ipykernel_launcher.py:2: DeprecationWarning: KerasClassifier is deprecated, use Sci-Keras (https://github.com/adriangb/scikeras) instead. See https://www.adriangb.com/scikeras/stable/migration.html for help migrating.\n",
            "  \n"
          ]
        }
      ]
    },
    {
      "cell_type": "code",
      "source": [
        "# summarize results\n",
        "print(\"Best: %f using %s\" % (grid_result.best_score_, grid_result.best_params_))\n",
        "means = grid_result.cv_results_['mean_test_score']\n",
        "stds = grid_result.cv_results_['std_test_score']\n",
        "params = grid_result.cv_results_['params']\n",
        "for mean, stdev, param in zip(means, stds, params):\n",
        "    print(\"%f (%f) with: %r\" % (mean, stdev, param))"
      ],
      "metadata": {
        "colab": {
          "base_uri": "https://localhost:8080/"
        },
        "id": "rHsSFQm8bp8w",
        "outputId": "40728d9b-1898-4a36-dc52-f0569e9c2722"
      },
      "execution_count": null,
      "outputs": [
        {
          "output_type": "stream",
          "name": "stdout",
          "text": [
            "Best: 0.908064 using {'neurons': 3}\n",
            "0.896227 (0.025874) with: {'neurons': 1}\n",
            "0.908064 (0.027619) with: {'neurons': 3}\n",
            "0.906746 (0.028899) with: {'neurons': 5}\n",
            "0.892290 (0.029057) with: {'neurons': 10}\n"
          ]
        }
      ]
    }
  ]
}